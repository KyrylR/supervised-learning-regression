{
 "cells": [
  {
   "cell_type": "markdown",
   "source": [
    "# Predicting the Sale Price of Bulldozers using Machine Learning\n",
    "\n",
    "In this notebook, I am going to go through an example of machine learning project with the goal of predicting the sale price of bulldozers\n",
    "\n",
    "## 1. Problem definition\n",
    "\n",
    "> How well can we predict the future sale price of a bulldozer, given its characteristics and previous examples of how much similar bulldozers have been sold for?\n",
    "\n",
    "## 2. Data\n",
    "\n",
    "The data is downloaded from the Kaggle Bluebook for Bulldozers competition: [Dataset](https://www.kaggle.com/c/bluebook-for-bulldozers/data)\n",
    "\n",
    "There are 3 main datasets:\n",
    "\n",
    "* Train.csv is the training set, which contains data through the end of 2011.\n",
    "* Valid.csv is the validation set, which contains data from January 1, 2012 - April 30, 2012. You make predictions on this set throughout the majority of the competition. Your score on this set is used to create the public leaderboard.\n",
    "* Test.csv is the test set, which won't be released until the last week of the competition. It contains data from May 1, 2012 - November 2012. Your score on the test set determines your final rank for the competition.\n",
    "\n",
    "## 3. Evaluation\n",
    "\n",
    "The evaluation metric for this competition is the RMSLE (root mean squared log error) between the actual and predicted auction prices.\n",
    "\n",
    "For more on the evaluation of this project check: [Evaluation information](https://www.kaggle.com/c/bluebook-for-bulldozers/overview/evaluation)\n",
    "\n",
    "**Note**: The goal for most regression evaluation metrics is to minimize the error. For example, our goal for this project will be to build a machine learning model which minimizes RMSLE.\n",
    "\n",
    "## 4. Features\n",
    "\n",
    "Kaggle provides a data dictionary detailing all the features of the dataset. You can view this data dictionary on Google Sheets: [Features information](https://docs.google.com/spreadsheets/d/18ly-bLR8sbDJLITkWG7ozKm8l3RyieQ2Fpgix-beSYI/edit?usp=sharing)\n"
   ],
   "metadata": {
    "collapsed": false,
    "pycharm": {
     "name": "#%% md\n"
    }
   }
  },
  {
   "cell_type": "code",
   "execution_count": 2,
   "id": "7b5fbeb9",
   "metadata": {},
   "outputs": [],
   "source": [
    "# Regular EDA (exploratory data analysis) and plotting libraries\n",
    "import numpy as np\n",
    "import pandas as pd\n",
    "import matplotlib.pyplot as plt\n",
    "import seaborn as sns\n",
    "\n",
    "# For plots to appear inside the notebook\n",
    "% matplotlib inline"
   ]
  },
  {
   "cell_type": "code",
   "execution_count": 3,
   "id": "9bc0c837",
   "metadata": {},
   "outputs": [
    {
     "data": {
      "text/plain": "   SalesID  SalePrice  MachineID  ModelID  datasource  auctioneerID  YearMade  \\\n0  1139246    66000.0     999089     3157         121           3.0      2004   \n1  1139248    57000.0     117657       77         121           3.0      1996   \n2  1139249    10000.0     434808     7009         121           3.0      2001   \n3  1139251    38500.0    1026470      332         121           3.0      2001   \n4  1139253    11000.0    1057373    17311         121           3.0      2007   \n\n   MachineHoursCurrentMeter UsageBand         saledate  ...  \\\n0                      68.0       Low  11/16/2006 0:00  ...   \n1                    4640.0       Low   3/26/2004 0:00  ...   \n2                    2838.0      High   2/26/2004 0:00  ...   \n3                    3486.0      High   5/19/2011 0:00  ...   \n4                     722.0    Medium   7/23/2009 0:00  ...   \n\n  Undercarriage_Pad_Width Stick_Length Thumb Pattern_Changer Grouser_Type  \\\n0                     NaN          NaN   NaN             NaN          NaN   \n1                     NaN          NaN   NaN             NaN          NaN   \n2                     NaN          NaN   NaN             NaN          NaN   \n3                     NaN          NaN   NaN             NaN          NaN   \n4                     NaN          NaN   NaN             NaN          NaN   \n\n  Backhoe_Mounting Blade_Type Travel_Controls Differential_Type  \\\n0              NaN        NaN             NaN          Standard   \n1              NaN        NaN             NaN          Standard   \n2              NaN        NaN             NaN               NaN   \n3              NaN        NaN             NaN               NaN   \n4              NaN        NaN             NaN               NaN   \n\n  Steering_Controls  \n0      Conventional  \n1      Conventional  \n2               NaN  \n3               NaN  \n4               NaN  \n\n[5 rows x 53 columns]",
      "text/html": "<div>\n<style scoped>\n    .dataframe tbody tr th:only-of-type {\n        vertical-align: middle;\n    }\n\n    .dataframe tbody tr th {\n        vertical-align: top;\n    }\n\n    .dataframe thead th {\n        text-align: right;\n    }\n</style>\n<table border=\"1\" class=\"dataframe\">\n  <thead>\n    <tr style=\"text-align: right;\">\n      <th></th>\n      <th>SalesID</th>\n      <th>SalePrice</th>\n      <th>MachineID</th>\n      <th>ModelID</th>\n      <th>datasource</th>\n      <th>auctioneerID</th>\n      <th>YearMade</th>\n      <th>MachineHoursCurrentMeter</th>\n      <th>UsageBand</th>\n      <th>saledate</th>\n      <th>...</th>\n      <th>Undercarriage_Pad_Width</th>\n      <th>Stick_Length</th>\n      <th>Thumb</th>\n      <th>Pattern_Changer</th>\n      <th>Grouser_Type</th>\n      <th>Backhoe_Mounting</th>\n      <th>Blade_Type</th>\n      <th>Travel_Controls</th>\n      <th>Differential_Type</th>\n      <th>Steering_Controls</th>\n    </tr>\n  </thead>\n  <tbody>\n    <tr>\n      <th>0</th>\n      <td>1139246</td>\n      <td>66000.0</td>\n      <td>999089</td>\n      <td>3157</td>\n      <td>121</td>\n      <td>3.0</td>\n      <td>2004</td>\n      <td>68.0</td>\n      <td>Low</td>\n      <td>11/16/2006 0:00</td>\n      <td>...</td>\n      <td>NaN</td>\n      <td>NaN</td>\n      <td>NaN</td>\n      <td>NaN</td>\n      <td>NaN</td>\n      <td>NaN</td>\n      <td>NaN</td>\n      <td>NaN</td>\n      <td>Standard</td>\n      <td>Conventional</td>\n    </tr>\n    <tr>\n      <th>1</th>\n      <td>1139248</td>\n      <td>57000.0</td>\n      <td>117657</td>\n      <td>77</td>\n      <td>121</td>\n      <td>3.0</td>\n      <td>1996</td>\n      <td>4640.0</td>\n      <td>Low</td>\n      <td>3/26/2004 0:00</td>\n      <td>...</td>\n      <td>NaN</td>\n      <td>NaN</td>\n      <td>NaN</td>\n      <td>NaN</td>\n      <td>NaN</td>\n      <td>NaN</td>\n      <td>NaN</td>\n      <td>NaN</td>\n      <td>Standard</td>\n      <td>Conventional</td>\n    </tr>\n    <tr>\n      <th>2</th>\n      <td>1139249</td>\n      <td>10000.0</td>\n      <td>434808</td>\n      <td>7009</td>\n      <td>121</td>\n      <td>3.0</td>\n      <td>2001</td>\n      <td>2838.0</td>\n      <td>High</td>\n      <td>2/26/2004 0:00</td>\n      <td>...</td>\n      <td>NaN</td>\n      <td>NaN</td>\n      <td>NaN</td>\n      <td>NaN</td>\n      <td>NaN</td>\n      <td>NaN</td>\n      <td>NaN</td>\n      <td>NaN</td>\n      <td>NaN</td>\n      <td>NaN</td>\n    </tr>\n    <tr>\n      <th>3</th>\n      <td>1139251</td>\n      <td>38500.0</td>\n      <td>1026470</td>\n      <td>332</td>\n      <td>121</td>\n      <td>3.0</td>\n      <td>2001</td>\n      <td>3486.0</td>\n      <td>High</td>\n      <td>5/19/2011 0:00</td>\n      <td>...</td>\n      <td>NaN</td>\n      <td>NaN</td>\n      <td>NaN</td>\n      <td>NaN</td>\n      <td>NaN</td>\n      <td>NaN</td>\n      <td>NaN</td>\n      <td>NaN</td>\n      <td>NaN</td>\n      <td>NaN</td>\n    </tr>\n    <tr>\n      <th>4</th>\n      <td>1139253</td>\n      <td>11000.0</td>\n      <td>1057373</td>\n      <td>17311</td>\n      <td>121</td>\n      <td>3.0</td>\n      <td>2007</td>\n      <td>722.0</td>\n      <td>Medium</td>\n      <td>7/23/2009 0:00</td>\n      <td>...</td>\n      <td>NaN</td>\n      <td>NaN</td>\n      <td>NaN</td>\n      <td>NaN</td>\n      <td>NaN</td>\n      <td>NaN</td>\n      <td>NaN</td>\n      <td>NaN</td>\n      <td>NaN</td>\n      <td>NaN</td>\n    </tr>\n  </tbody>\n</table>\n<p>5 rows × 53 columns</p>\n</div>"
     },
     "execution_count": 3,
     "metadata": {},
     "output_type": "execute_result"
    }
   ],
   "source": [
    "# Import training and validation sets\n",
    "df = pd.read_csv(\"data/TrainAndValid.csv\", low_memory=False)\n",
    "df.head(5)"
   ]
  },
  {
   "cell_type": "code",
   "execution_count": 4,
   "outputs": [
    {
     "data": {
      "text/plain": "SalesID                          0\nSalePrice                        0\nMachineID                        0\nModelID                          0\ndatasource                       0\nauctioneerID                 20136\nYearMade                         0\nMachineHoursCurrentMeter    265194\nUsageBand                   339028\nsaledate                         0\nfiModelDesc                      0\nfiBaseModel                      0\nfiSecondaryDesc             140727\nfiModelSeries               354031\nfiModelDescriptor           337882\nProductSize                 216605\nfiProductClassDesc               0\nstate                            0\nProductGroup                     0\nProductGroupDesc                 0\nDrive_System                305611\nEnclosure                      334\nForks                       214983\nPad_Type                    331602\nRide_Control                259970\nStick                       331602\nTransmission                224691\nTurbocharged                331602\nBlade_Extension             386715\nBlade_Width                 386715\nEnclosure_Type              386715\nEngine_Horsepower           386715\nHydraulics                   82565\nPushblock                   386715\nRipper                      305753\nScarifier                   386704\nTip_Control                 386715\nTire_Size                   315060\nCoupler                     192019\nCoupler_System              367724\nGrouser_Tracks              367823\nHydraulics_Flow             367823\nTrack_Type                  310505\nUndercarriage_Pad_Width     309782\nStick_Length                310437\nThumb                       310366\nPattern_Changer             310437\nGrouser_Type                310505\nBackhoe_Mounting            331986\nBlade_Type                  330823\nTravel_Controls             330821\nDifferential_Type           341134\nSteering_Controls           341176\ndtype: int64"
     },
     "execution_count": 4,
     "metadata": {},
     "output_type": "execute_result"
    }
   ],
   "source": [
    "df.isna().sum()"
   ],
   "metadata": {
    "collapsed": false,
    "pycharm": {
     "name": "#%%\n"
    }
   }
  },
  {
   "cell_type": "code",
   "execution_count": 5,
   "outputs": [
    {
     "name": "stdout",
     "output_type": "stream",
     "text": [
      "<class 'pandas.core.frame.DataFrame'>\n",
      "RangeIndex: 412698 entries, 0 to 412697\n",
      "Data columns (total 53 columns):\n",
      " #   Column                    Non-Null Count   Dtype  \n",
      "---  ------                    --------------   -----  \n",
      " 0   SalesID                   412698 non-null  int64  \n",
      " 1   SalePrice                 412698 non-null  float64\n",
      " 2   MachineID                 412698 non-null  int64  \n",
      " 3   ModelID                   412698 non-null  int64  \n",
      " 4   datasource                412698 non-null  int64  \n",
      " 5   auctioneerID              392562 non-null  float64\n",
      " 6   YearMade                  412698 non-null  int64  \n",
      " 7   MachineHoursCurrentMeter  147504 non-null  float64\n",
      " 8   UsageBand                 73670 non-null   object \n",
      " 9   saledate                  412698 non-null  object \n",
      " 10  fiModelDesc               412698 non-null  object \n",
      " 11  fiBaseModel               412698 non-null  object \n",
      " 12  fiSecondaryDesc           271971 non-null  object \n",
      " 13  fiModelSeries             58667 non-null   object \n",
      " 14  fiModelDescriptor         74816 non-null   object \n",
      " 15  ProductSize               196093 non-null  object \n",
      " 16  fiProductClassDesc        412698 non-null  object \n",
      " 17  state                     412698 non-null  object \n",
      " 18  ProductGroup              412698 non-null  object \n",
      " 19  ProductGroupDesc          412698 non-null  object \n",
      " 20  Drive_System              107087 non-null  object \n",
      " 21  Enclosure                 412364 non-null  object \n",
      " 22  Forks                     197715 non-null  object \n",
      " 23  Pad_Type                  81096 non-null   object \n",
      " 24  Ride_Control              152728 non-null  object \n",
      " 25  Stick                     81096 non-null   object \n",
      " 26  Transmission              188007 non-null  object \n",
      " 27  Turbocharged              81096 non-null   object \n",
      " 28  Blade_Extension           25983 non-null   object \n",
      " 29  Blade_Width               25983 non-null   object \n",
      " 30  Enclosure_Type            25983 non-null   object \n",
      " 31  Engine_Horsepower         25983 non-null   object \n",
      " 32  Hydraulics                330133 non-null  object \n",
      " 33  Pushblock                 25983 non-null   object \n",
      " 34  Ripper                    106945 non-null  object \n",
      " 35  Scarifier                 25994 non-null   object \n",
      " 36  Tip_Control               25983 non-null   object \n",
      " 37  Tire_Size                 97638 non-null   object \n",
      " 38  Coupler                   220679 non-null  object \n",
      " 39  Coupler_System            44974 non-null   object \n",
      " 40  Grouser_Tracks            44875 non-null   object \n",
      " 41  Hydraulics_Flow           44875 non-null   object \n",
      " 42  Track_Type                102193 non-null  object \n",
      " 43  Undercarriage_Pad_Width   102916 non-null  object \n",
      " 44  Stick_Length              102261 non-null  object \n",
      " 45  Thumb                     102332 non-null  object \n",
      " 46  Pattern_Changer           102261 non-null  object \n",
      " 47  Grouser_Type              102193 non-null  object \n",
      " 48  Backhoe_Mounting          80712 non-null   object \n",
      " 49  Blade_Type                81875 non-null   object \n",
      " 50  Travel_Controls           81877 non-null   object \n",
      " 51  Differential_Type         71564 non-null   object \n",
      " 52  Steering_Controls         71522 non-null   object \n",
      "dtypes: float64(3), int64(5), object(45)\n",
      "memory usage: 166.9+ MB\n"
     ]
    }
   ],
   "source": [
    "df.info()"
   ],
   "metadata": {
    "collapsed": false,
    "pycharm": {
     "name": "#%%\n"
    }
   }
  },
  {
   "cell_type": "code",
   "execution_count": 6,
   "outputs": [
    {
     "data": {
      "text/plain": "<matplotlib.collections.PathCollection at 0x172dba712b0>"
     },
     "execution_count": 6,
     "metadata": {},
     "output_type": "execute_result"
    },
    {
     "data": {
      "text/plain": "<Figure size 432x288 with 1 Axes>",
      "image/png": "[encoded data removed]"
     },
     "metadata": {
      "needs_background": "light"
     },
     "output_type": "display_data"
    }
   ],
   "source": [
    "fig, ax = plt.subplots()\n",
    "ax.scatter(df[\"saledate\"][:1000], df[\"SalePrice\"][:1000])"
   ],
   "metadata": {
    "collapsed": false,
    "pycharm": {
     "name": "#%%\n"
    }
   }
  },
  {
   "cell_type": "code",
   "execution_count": 7,
   "outputs": [
    {
     "data": {
      "text/plain": "<AxesSubplot:ylabel='Frequency'>"
     },
     "execution_count": 7,
     "metadata": {},
     "output_type": "execute_result"
    },
    {
     "data": {
      "text/plain": "<Figure size 432x288 with 1 Axes>",
      "image/png": "[encoded data removed]"
     },
     "metadata": {
      "needs_background": "light"
     },
     "output_type": "display_data"
    }
   ],
   "source": [
    "df.SalePrice.plot.hist()"
   ],
   "metadata": {
    "collapsed": false,
    "pycharm": {
     "name": "#%%\n"
    }
   }
  },
  {
   "cell_type": "markdown",
   "source": [
    "### Persing dates\n",
    "\n",
    "When we work with time series data, we want to enrich the time & date component as much as possible.\n",
    "\n",
    "We can do that by telling pandas which of our columns has dates in it using the `parse_dates` parameter."
   ],
   "metadata": {
    "collapsed": false,
    "pycharm": {
     "name": "#%% md\n"
    }
   }
  },
  {
   "cell_type": "code",
   "execution_count": 8,
   "outputs": [],
   "source": [
    "# Import data again with parsed dates\n",
    "df = pd.read_csv(\"data/TrainAndValid.csv\", low_memory=False, parse_dates=[\"saledate\"])"
   ],
   "metadata": {
    "collapsed": false,
    "pycharm": {
     "name": "#%%\n"
    }
   }
  },
  {
   "cell_type": "code",
   "execution_count": 9,
   "outputs": [
    {
     "data": {
      "text/plain": "dtype('<M8[ns]')"
     },
     "execution_count": 9,
     "metadata": {},
     "output_type": "execute_result"
    }
   ],
   "source": [
    "df.saledate.dtype"
   ],
   "metadata": {
    "collapsed": false,
    "pycharm": {
     "name": "#%%\n"
    }
   }
  },
  {
   "cell_type": "code",
   "execution_count": 10,
   "outputs": [
    {
     "data": {
      "text/plain": "0   2006-11-16\n1   2004-03-26\n2   2004-02-26\n3   2011-05-19\n4   2009-07-23\nName: saledate, dtype: datetime64[ns]"
     },
     "execution_count": 10,
     "metadata": {},
     "output_type": "execute_result"
    }
   ],
   "source": [
    "df.saledate.head()"
   ],
   "metadata": {
    "collapsed": false,
    "pycharm": {
     "name": "#%%\n"
    }
   }
  },
  {
   "cell_type": "code",
   "execution_count": 11,
   "outputs": [
    {
     "data": {
      "text/plain": "<matplotlib.collections.PathCollection at 0x172dc6d5ee0>"
     },
     "execution_count": 11,
     "metadata": {},
     "output_type": "execute_result"
    },
    {
     "data": {
      "text/plain": "<Figure size 432x288 with 1 Axes>",
      "image/png": "[encoded data removed]"
     },
     "metadata": {
      "needs_background": "light"
     },
     "output_type": "display_data"
    }
   ],
   "source": [
    "fig, ax = plt.subplots()\n",
    "ax.scatter(df[\"saledate\"][:1000], df[\"SalePrice\"][:1000])"
   ],
   "metadata": {
    "collapsed": false,
    "pycharm": {
     "name": "#%%\n"
    }
   }
  },
  {
   "cell_type": "code",
   "execution_count": 12,
   "outputs": [
    {
     "data": {
      "text/plain": "                                                                 0  \\\nSalesID                                                    1139246   \nSalePrice                                                  66000.0   \nMachineID                                                   999089   \nModelID                                                       3157   \ndatasource                                                     121   \nauctioneerID                                                   3.0   \nYearMade                                                      2004   \nMachineHoursCurrentMeter                                      68.0   \nUsageBand                                                      Low   \nsaledate                                       2006-11-16 00:00:00   \nfiModelDesc                                                   521D   \nfiBaseModel                                                    521   \nfiSecondaryDesc                                                  D   \nfiModelSeries                                                  NaN   \nfiModelDescriptor                                              NaN   \nProductSize                                                    NaN   \nfiProductClassDesc        Wheel Loader - 110.0 to 120.0 Horsepower   \nstate                                                      Alabama   \nProductGroup                                                    WL   \nProductGroupDesc                                      Wheel Loader   \nDrive_System                                                   NaN   \nEnclosure                                               EROPS w AC   \nForks                                          None or Unspecified   \nPad_Type                                                       NaN   \nRide_Control                                   None or Unspecified   \nStick                                                          NaN   \nTransmission                                                   NaN   \nTurbocharged                                                   NaN   \nBlade_Extension                                                NaN   \nBlade_Width                                                    NaN   \nEnclosure_Type                                                 NaN   \nEngine_Horsepower                                              NaN   \nHydraulics                                                 2 Valve   \nPushblock                                                      NaN   \nRipper                                                         NaN   \nScarifier                                                      NaN   \nTip_Control                                                    NaN   \nTire_Size                                      None or Unspecified   \nCoupler                                        None or Unspecified   \nCoupler_System                                                 NaN   \nGrouser_Tracks                                                 NaN   \nHydraulics_Flow                                                NaN   \nTrack_Type                                                     NaN   \nUndercarriage_Pad_Width                                        NaN   \nStick_Length                                                   NaN   \nThumb                                                          NaN   \nPattern_Changer                                                NaN   \nGrouser_Type                                                   NaN   \nBackhoe_Mounting                                               NaN   \nBlade_Type                                                     NaN   \nTravel_Controls                                                NaN   \nDifferential_Type                                         Standard   \nSteering_Controls                                     Conventional   \n\n                                                                 1  \\\nSalesID                                                    1139248   \nSalePrice                                                  57000.0   \nMachineID                                                   117657   \nModelID                                                         77   \ndatasource                                                     121   \nauctioneerID                                                   3.0   \nYearMade                                                      1996   \nMachineHoursCurrentMeter                                    4640.0   \nUsageBand                                                      Low   \nsaledate                                       2004-03-26 00:00:00   \nfiModelDesc                                                 950FII   \nfiBaseModel                                                    950   \nfiSecondaryDesc                                                  F   \nfiModelSeries                                                   II   \nfiModelDescriptor                                              NaN   \nProductSize                                                 Medium   \nfiProductClassDesc        Wheel Loader - 150.0 to 175.0 Horsepower   \nstate                                               North Carolina   \nProductGroup                                                    WL   \nProductGroupDesc                                      Wheel Loader   \nDrive_System                                                   NaN   \nEnclosure                                               EROPS w AC   \nForks                                          None or Unspecified   \nPad_Type                                                       NaN   \nRide_Control                                   None or Unspecified   \nStick                                                          NaN   \nTransmission                                                   NaN   \nTurbocharged                                                   NaN   \nBlade_Extension                                                NaN   \nBlade_Width                                                    NaN   \nEnclosure_Type                                                 NaN   \nEngine_Horsepower                                              NaN   \nHydraulics                                                 2 Valve   \nPushblock                                                      NaN   \nRipper                                                         NaN   \nScarifier                                                      NaN   \nTip_Control                                                    NaN   \nTire_Size                                                     23.5   \nCoupler                                        None or Unspecified   \nCoupler_System                                                 NaN   \nGrouser_Tracks                                                 NaN   \nHydraulics_Flow                                                NaN   \nTrack_Type                                                     NaN   \nUndercarriage_Pad_Width                                        NaN   \nStick_Length                                                   NaN   \nThumb                                                          NaN   \nPattern_Changer                                                NaN   \nGrouser_Type                                                   NaN   \nBackhoe_Mounting                                               NaN   \nBlade_Type                                                     NaN   \nTravel_Controls                                                NaN   \nDifferential_Type                                         Standard   \nSteering_Controls                                     Conventional   \n\n                                                                          2  \\\nSalesID                                                             1139249   \nSalePrice                                                           10000.0   \nMachineID                                                            434808   \nModelID                                                                7009   \ndatasource                                                              121   \nauctioneerID                                                            3.0   \nYearMade                                                               2001   \nMachineHoursCurrentMeter                                             2838.0   \nUsageBand                                                              High   \nsaledate                                                2004-02-26 00:00:00   \nfiModelDesc                                                             226   \nfiBaseModel                                                             226   \nfiSecondaryDesc                                                         NaN   \nfiModelSeries                                                           NaN   \nfiModelDescriptor                                                       NaN   \nProductSize                                                             NaN   \nfiProductClassDesc        Skid Steer Loader - 1351.0 to 1601.0 Lb Operat...   \nstate                                                              New York   \nProductGroup                                                            SSL   \nProductGroupDesc                                         Skid Steer Loaders   \nDrive_System                                                            NaN   \nEnclosure                                                             OROPS   \nForks                                                   None or Unspecified   \nPad_Type                                                                NaN   \nRide_Control                                                            NaN   \nStick                                                                   NaN   \nTransmission                                                            NaN   \nTurbocharged                                                            NaN   \nBlade_Extension                                                         NaN   \nBlade_Width                                                             NaN   \nEnclosure_Type                                                          NaN   \nEngine_Horsepower                                                       NaN   \nHydraulics                                                        Auxiliary   \nPushblock                                                               NaN   \nRipper                                                                  NaN   \nScarifier                                                               NaN   \nTip_Control                                                             NaN   \nTire_Size                                                               NaN   \nCoupler                                                 None or Unspecified   \nCoupler_System                                          None or Unspecified   \nGrouser_Tracks                                          None or Unspecified   \nHydraulics_Flow                                                    Standard   \nTrack_Type                                                              NaN   \nUndercarriage_Pad_Width                                                 NaN   \nStick_Length                                                            NaN   \nThumb                                                                   NaN   \nPattern_Changer                                                         NaN   \nGrouser_Type                                                            NaN   \nBackhoe_Mounting                                                        NaN   \nBlade_Type                                                              NaN   \nTravel_Controls                                                         NaN   \nDifferential_Type                                                       NaN   \nSteering_Controls                                                       NaN   \n\n                                                                          3  \\\nSalesID                                                             1139251   \nSalePrice                                                           38500.0   \nMachineID                                                           1026470   \nModelID                                                                 332   \ndatasource                                                              121   \nauctioneerID                                                            3.0   \nYearMade                                                               2001   \nMachineHoursCurrentMeter                                             3486.0   \nUsageBand                                                              High   \nsaledate                                                2011-05-19 00:00:00   \nfiModelDesc                                                        PC120-6E   \nfiBaseModel                                                           PC120   \nfiSecondaryDesc                                                         NaN   \nfiModelSeries                                                           -6E   \nfiModelDescriptor                                                       NaN   \nProductSize                                                           Small   \nfiProductClassDesc        Hydraulic Excavator, Track - 12.0 to 14.0 Metr...   \nstate                                                                 Texas   \nProductGroup                                                            TEX   \nProductGroupDesc                                           Track Excavators   \nDrive_System                                                            NaN   \nEnclosure                                                        EROPS w AC   \nForks                                                                   NaN   \nPad_Type                                                                NaN   \nRide_Control                                                            NaN   \nStick                                                                   NaN   \nTransmission                                                            NaN   \nTurbocharged                                                            NaN   \nBlade_Extension                                                         NaN   \nBlade_Width                                                             NaN   \nEnclosure_Type                                                          NaN   \nEngine_Horsepower                                                       NaN   \nHydraulics                                                          2 Valve   \nPushblock                                                               NaN   \nRipper                                                                  NaN   \nScarifier                                                               NaN   \nTip_Control                                                             NaN   \nTire_Size                                                               NaN   \nCoupler                                                 None or Unspecified   \nCoupler_System                                                          NaN   \nGrouser_Tracks                                                          NaN   \nHydraulics_Flow                                                         NaN   \nTrack_Type                                                              NaN   \nUndercarriage_Pad_Width                                                 NaN   \nStick_Length                                                            NaN   \nThumb                                                                   NaN   \nPattern_Changer                                                         NaN   \nGrouser_Type                                                            NaN   \nBackhoe_Mounting                                                        NaN   \nBlade_Type                                                              NaN   \nTravel_Controls                                                         NaN   \nDifferential_Type                                                       NaN   \nSteering_Controls                                                       NaN   \n\n                                                                          4  \nSalesID                                                             1139253  \nSalePrice                                                           11000.0  \nMachineID                                                           1057373  \nModelID                                                               17311  \ndatasource                                                              121  \nauctioneerID                                                            3.0  \nYearMade                                                               2007  \nMachineHoursCurrentMeter                                              722.0  \nUsageBand                                                            Medium  \nsaledate                                                2009-07-23 00:00:00  \nfiModelDesc                                                            S175  \nfiBaseModel                                                            S175  \nfiSecondaryDesc                                                         NaN  \nfiModelSeries                                                           NaN  \nfiModelDescriptor                                                       NaN  \nProductSize                                                             NaN  \nfiProductClassDesc        Skid Steer Loader - 1601.0 to 1751.0 Lb Operat...  \nstate                                                              New York  \nProductGroup                                                            SSL  \nProductGroupDesc                                         Skid Steer Loaders  \nDrive_System                                                            NaN  \nEnclosure                                                             EROPS  \nForks                                                   None or Unspecified  \nPad_Type                                                                NaN  \nRide_Control                                                            NaN  \nStick                                                                   NaN  \nTransmission                                                            NaN  \nTurbocharged                                                            NaN  \nBlade_Extension                                                         NaN  \nBlade_Width                                                             NaN  \nEnclosure_Type                                                          NaN  \nEngine_Horsepower                                                       NaN  \nHydraulics                                                        Auxiliary  \nPushblock                                                               NaN  \nRipper                                                                  NaN  \nScarifier                                                               NaN  \nTip_Control                                                             NaN  \nTire_Size                                                               NaN  \nCoupler                                                 None or Unspecified  \nCoupler_System                                          None or Unspecified  \nGrouser_Tracks                                          None or Unspecified  \nHydraulics_Flow                                                    Standard  \nTrack_Type                                                              NaN  \nUndercarriage_Pad_Width                                                 NaN  \nStick_Length                                                            NaN  \nThumb                                                                   NaN  \nPattern_Changer                                                         NaN  \nGrouser_Type                                                            NaN  \nBackhoe_Mounting                                                        NaN  \nBlade_Type                                                              NaN  \nTravel_Controls                                                         NaN  \nDifferential_Type                                                       NaN  \nSteering_Controls                                                       NaN  ",
      "text/html": "<div>\n<style scoped>\n    .dataframe tbody tr th:only-of-type {\n        vertical-align: middle;\n    }\n\n    .dataframe tbody tr th {\n        vertical-align: top;\n    }\n\n    .dataframe thead th {\n        text-align: right;\n    }\n</style>\n<table border=\"1\" class=\"dataframe\">\n  <thead>\n    <tr style=\"text-align: right;\">\n      <th></th>\n      <th>0</th>\n      <th>1</th>\n      <th>2</th>\n      <th>3</th>\n      <th>4</th>\n    </tr>\n  </thead>\n  <tbody>\n    <tr>\n      <th>SalesID</th>\n      <td>1139246</td>\n      <td>1139248</td>\n      <td>1139249</td>\n      <td>1139251</td>\n      <td>1139253</td>\n    </tr>\n    <tr>\n      <th>SalePrice</th>\n      <td>66000.0</td>\n      <td>57000.0</td>\n      <td>10000.0</td>\n      <td>38500.0</td>\n      <td>11000.0</td>\n    </tr>\n    <tr>\n      <th>MachineID</th>\n      <td>999089</td>\n      <td>117657</td>\n      <td>434808</td>\n      <td>1026470</td>\n      <td>1057373</td>\n    </tr>\n    <tr>\n      <th>ModelID</th>\n      <td>3157</td>\n      <td>77</td>\n      <td>7009</td>\n      <td>332</td>\n      <td>17311</td>\n    </tr>\n    <tr>\n      <th>datasource</th>\n      <td>121</td>\n      <td>121</td>\n      <td>121</td>\n      <td>121</td>\n      <td>121</td>\n    </tr>\n    <tr>\n      <th>auctioneerID</th>\n      <td>3.0</td>\n      <td>3.0</td>\n      <td>3.0</td>\n      <td>3.0</td>\n      <td>3.0</td>\n    </tr>\n    <tr>\n      <th>YearMade</th>\n      <td>2004</td>\n      <td>1996</td>\n      <td>2001</td>\n      <td>2001</td>\n      <td>2007</td>\n    </tr>\n    <tr>\n      <th>MachineHoursCurrentMeter</th>\n      <td>68.0</td>\n      <td>4640.0</td>\n      <td>2838.0</td>\n      <td>3486.0</td>\n      <td>722.0</td>\n    </tr>\n    <tr>\n      <th>UsageBand</th>\n      <td>Low</td>\n      <td>Low</td>\n      <td>High</td>\n      <td>High</td>\n      <td>Medium</td>\n    </tr>\n    <tr>\n      <th>saledate</th>\n      <td>2006-11-16 00:00:00</td>\n      <td>2004-03-26 00:00:00</td>\n      <td>2004-02-26 00:00:00</td>\n      <td>2011-05-19 00:00:00</td>\n      <td>2009-07-23 00:00:00</td>\n    </tr>\n    <tr>\n      <th>fiModelDesc</th>\n      <td>521D</td>\n      <td>950FII</td>\n      <td>226</td>\n      <td>PC120-6E</td>\n      <td>S175</td>\n    </tr>\n    <tr>\n      <th>fiBaseModel</th>\n      <td>521</td>\n      <td>950</td>\n      <td>226</td>\n      <td>PC120</td>\n      <td>S175</td>\n    </tr>\n    <tr>\n      <th>fiSecondaryDesc</th>\n      <td>D</td>\n      <td>F</td>\n      <td>NaN</td>\n      <td>NaN</td>\n      <td>NaN</td>\n    </tr>\n    <tr>\n      <th>fiModelSeries</th>\n      <td>NaN</td>\n      <td>II</td>\n      <td>NaN</td>\n      <td>-6E</td>\n      <td>NaN</td>\n    </tr>\n    <tr>\n      <th>fiModelDescriptor</th>\n      <td>NaN</td>\n      <td>NaN</td>\n      <td>NaN</td>\n      <td>NaN</td>\n      <td>NaN</td>\n    </tr>\n    <tr>\n      <th>ProductSize</th>\n      <td>NaN</td>\n      <td>Medium</td>\n      <td>NaN</td>\n      <td>Small</td>\n      <td>NaN</td>\n    </tr>\n    <tr>\n      <th>fiProductClassDesc</th>\n      <td>Wheel Loader - 110.0 to 120.0 Horsepower</td>\n      <td>Wheel Loader - 150.0 to 175.0 Horsepower</td>\n      <td>Skid Steer Loader - 1351.0 to 1601.0 Lb Operat...</td>\n      <td>Hydraulic Excavator, Track - 12.0 to 14.0 Metr...</td>\n      <td>Skid Steer Loader - 1601.0 to 1751.0 Lb Operat...</td>\n    </tr>\n    <tr>\n      <th>state</th>\n      <td>Alabama</td>\n      <td>North Carolina</td>\n      <td>New York</td>\n      <td>Texas</td>\n      <td>New York</td>\n    </tr>\n    <tr>\n      <th>ProductGroup</th>\n      <td>WL</td>\n      <td>WL</td>\n      <td>SSL</td>\n      <td>TEX</td>\n      <td>SSL</td>\n    </tr>\n    <tr>\n      <th>ProductGroupDesc</th>\n      <td>Wheel Loader</td>\n      <td>Wheel Loader</td>\n      <td>Skid Steer Loaders</td>\n      <td>Track Excavators</td>\n      <td>Skid Steer Loaders</td>\n    </tr>\n    <tr>\n      <th>Drive_System</th>\n      <td>NaN</td>\n      <td>NaN</td>\n      <td>NaN</td>\n      <td>NaN</td>\n      <td>NaN</td>\n    </tr>\n    <tr>\n      <th>Enclosure</th>\n      <td>EROPS w AC</td>\n      <td>EROPS w AC</td>\n      <td>OROPS</td>\n      <td>EROPS w AC</td>\n      <td>EROPS</td>\n    </tr>\n    <tr>\n      <th>Forks</th>\n      <td>None or Unspecified</td>\n      <td>None or Unspecified</td>\n      <td>None or Unspecified</td>\n      <td>NaN</td>\n      <td>None or Unspecified</td>\n    </tr>\n    <tr>\n      <th>Pad_Type</th>\n      <td>NaN</td>\n      <td>NaN</td>\n      <td>NaN</td>\n      <td>NaN</td>\n      <td>NaN</td>\n    </tr>\n    <tr>\n      <th>Ride_Control</th>\n      <td>None or Unspecified</td>\n      <td>None or Unspecified</td>\n      <td>NaN</td>\n      <td>NaN</td>\n      <td>NaN</td>\n    </tr>\n    <tr>\n      <th>Stick</th>\n      <td>NaN</td>\n      <td>NaN</td>\n      <td>NaN</td>\n      <td>NaN</td>\n      <td>NaN</td>\n    </tr>\n    <tr>\n      <th>Transmission</th>\n      <td>NaN</td>\n      <td>NaN</td>\n      <td>NaN</td>\n      <td>NaN</td>\n      <td>NaN</td>\n    </tr>\n    <tr>\n      <th>Turbocharged</th>\n      <td>NaN</td>\n      <td>NaN</td>\n      <td>NaN</td>\n      <td>NaN</td>\n      <td>NaN</td>\n    </tr>\n    <tr>\n      <th>Blade_Extension</th>\n      <td>NaN</td>\n      <td>NaN</td>\n      <td>NaN</td>\n      <td>NaN</td>\n      <td>NaN</td>\n    </tr>\n    <tr>\n      <th>Blade_Width</th>\n      <td>NaN</td>\n      <td>NaN</td>\n      <td>NaN</td>\n      <td>NaN</td>\n      <td>NaN</td>\n    </tr>\n    <tr>\n      <th>Enclosure_Type</th>\n      <td>NaN</td>\n      <td>NaN</td>\n      <td>NaN</td>\n      <td>NaN</td>\n      <td>NaN</td>\n    </tr>\n    <tr>\n      <th>Engine_Horsepower</th>\n      <td>NaN</td>\n      <td>NaN</td>\n      <td>NaN</td>\n      <td>NaN</td>\n      <td>NaN</td>\n    </tr>\n    <tr>\n      <th>Hydraulics</th>\n      <td>2 Valve</td>\n      <td>2 Valve</td>\n      <td>Auxiliary</td>\n      <td>2 Valve</td>\n      <td>Auxiliary</td>\n    </tr>\n    <tr>\n      <th>Pushblock</th>\n      <td>NaN</td>\n      <td>NaN</td>\n      <td>NaN</td>\n      <td>NaN</td>\n      <td>NaN</td>\n    </tr>\n    <tr>\n      <th>Ripper</th>\n      <td>NaN</td>\n      <td>NaN</td>\n      <td>NaN</td>\n      <td>NaN</td>\n      <td>NaN</td>\n    </tr>\n    <tr>\n      <th>Scarifier</th>\n      <td>NaN</td>\n      <td>NaN</td>\n      <td>NaN</td>\n      <td>NaN</td>\n      <td>NaN</td>\n    </tr>\n    <tr>\n      <th>Tip_Control</th>\n      <td>NaN</td>\n      <td>NaN</td>\n      <td>NaN</td>\n      <td>NaN</td>\n      <td>NaN</td>\n    </tr>\n    <tr>\n      <th>Tire_Size</th>\n      <td>None or Unspecified</td>\n      <td>23.5</td>\n      <td>NaN</td>\n      <td>NaN</td>\n      <td>NaN</td>\n    </tr>\n    <tr>\n      <th>Coupler</th>\n      <td>None or Unspecified</td>\n      <td>None or Unspecified</td>\n      <td>None or Unspecified</td>\n      <td>None or Unspecified</td>\n      <td>None or Unspecified</td>\n    </tr>\n    <tr>\n      <th>Coupler_System</th>\n      <td>NaN</td>\n      <td>NaN</td>\n      <td>None or Unspecified</td>\n      <td>NaN</td>\n      <td>None or Unspecified</td>\n    </tr>\n    <tr>\n      <th>Grouser_Tracks</th>\n      <td>NaN</td>\n      <td>NaN</td>\n      <td>None or Unspecified</td>\n      <td>NaN</td>\n      <td>None or Unspecified</td>\n    </tr>\n    <tr>\n      <th>Hydraulics_Flow</th>\n      <td>NaN</td>\n      <td>NaN</td>\n      <td>Standard</td>\n      <td>NaN</td>\n      <td>Standard</td>\n    </tr>\n    <tr>\n      <th>Track_Type</th>\n      <td>NaN</td>\n      <td>NaN</td>\n      <td>NaN</td>\n      <td>NaN</td>\n      <td>NaN</td>\n    </tr>\n    <tr>\n      <th>Undercarriage_Pad_Width</th>\n      <td>NaN</td>\n      <td>NaN</td>\n      <td>NaN</td>\n      <td>NaN</td>\n      <td>NaN</td>\n    </tr>\n    <tr>\n      <th>Stick_Length</th>\n      <td>NaN</td>\n      <td>NaN</td>\n      <td>NaN</td>\n      <td>NaN</td>\n      <td>NaN</td>\n    </tr>\n    <tr>\n      <th>Thumb</th>\n      <td>NaN</td>\n      <td>NaN</td>\n      <td>NaN</td>\n      <td>NaN</td>\n      <td>NaN</td>\n    </tr>\n    <tr>\n      <th>Pattern_Changer</th>\n      <td>NaN</td>\n      <td>NaN</td>\n      <td>NaN</td>\n      <td>NaN</td>\n      <td>NaN</td>\n    </tr>\n    <tr>\n      <th>Grouser_Type</th>\n      <td>NaN</td>\n      <td>NaN</td>\n      <td>NaN</td>\n      <td>NaN</td>\n      <td>NaN</td>\n    </tr>\n    <tr>\n      <th>Backhoe_Mounting</th>\n      <td>NaN</td>\n      <td>NaN</td>\n      <td>NaN</td>\n      <td>NaN</td>\n      <td>NaN</td>\n    </tr>\n    <tr>\n      <th>Blade_Type</th>\n      <td>NaN</td>\n      <td>NaN</td>\n      <td>NaN</td>\n      <td>NaN</td>\n      <td>NaN</td>\n    </tr>\n    <tr>\n      <th>Travel_Controls</th>\n      <td>NaN</td>\n      <td>NaN</td>\n      <td>NaN</td>\n      <td>NaN</td>\n      <td>NaN</td>\n    </tr>\n    <tr>\n      <th>Differential_Type</th>\n      <td>Standard</td>\n      <td>Standard</td>\n      <td>NaN</td>\n      <td>NaN</td>\n      <td>NaN</td>\n    </tr>\n    <tr>\n      <th>Steering_Controls</th>\n      <td>Conventional</td>\n      <td>Conventional</td>\n      <td>NaN</td>\n      <td>NaN</td>\n      <td>NaN</td>\n    </tr>\n  </tbody>\n</table>\n</div>"
     },
     "execution_count": 12,
     "metadata": {},
     "output_type": "execute_result"
    }
   ],
   "source": [
    "df.head().T"
   ],
   "metadata": {
    "collapsed": false,
    "pycharm": {
     "name": "#%%\n"
    }
   }
  },
  {
   "cell_type": "code",
   "execution_count": 14,
   "outputs": [
    {
     "data": {
      "text/plain": "0    2006-11-16\n1    2004-03-26\n2    2004-02-26\n3    2011-05-19\n4    2009-07-23\n5    2008-12-18\n6    2004-08-26\n7    2005-11-17\n8    2009-08-27\n9    2007-08-09\n10   2008-08-21\n11   2006-08-24\n12   2005-10-20\n13   2006-01-26\n14   2006-01-03\n15   2006-11-16\n16   2007-06-14\n17   2010-01-28\n18   2006-03-09\n19   2005-11-17\nName: saledate, dtype: datetime64[ns]"
     },
     "execution_count": 14,
     "metadata": {},
     "output_type": "execute_result"
    }
   ],
   "source": [
    "df.saledate.head(20)"
   ],
   "metadata": {
    "collapsed": false,
    "pycharm": {
     "name": "#%%\n"
    }
   }
  },
  {
   "cell_type": "markdown",
   "source": [
    "### Sort DataFrame by saledate\n",
    "\n",
    "When working with time series data, it's a good idea to sort it by date."
   ],
   "metadata": {
    "collapsed": false,
    "pycharm": {
     "name": "#%% md\n"
    }
   }
  },
  {
   "cell_type": "code",
   "execution_count": 15,
   "outputs": [
    {
     "data": {
      "text/plain": "205615   1989-01-17\n274835   1989-01-31\n141296   1989-01-31\n212552   1989-01-31\n62755    1989-01-31\n54653    1989-01-31\n81383    1989-01-31\n204924   1989-01-31\n135376   1989-01-31\n113390   1989-01-31\n113394   1989-01-31\n116419   1989-01-31\n32138    1989-01-31\n127610   1989-01-31\n76171    1989-01-31\n127000   1989-01-31\n128130   1989-01-31\n127626   1989-01-31\n55455    1989-01-31\n55454    1989-01-31\nName: saledate, dtype: datetime64[ns]"
     },
     "execution_count": 15,
     "metadata": {},
     "output_type": "execute_result"
    }
   ],
   "source": [
    "# Sort DataFame in date order\n",
    "df.sort_values(by=[\"saledate\"], inplace=True, ascending=True)\n",
    "df.saledate.head(20)"
   ],
   "metadata": {
    "collapsed": false,
    "pycharm": {
     "name": "#%%\n"
    }
   }
  },
  {
   "cell_type": "markdown",
   "source": [
    "### Make a copy of the original DataFrame\n",
    "\n",
    "To prevent damage to the original data"
   ],
   "metadata": {
    "collapsed": false,
    "pycharm": {
     "name": "#%% md\n"
    }
   }
  },
  {
   "cell_type": "code",
   "execution_count": 17,
   "outputs": [],
   "source": [
    "# Make a copy\n",
    "\n",
    "df_tmp = df.copy()"
   ],
   "metadata": {
    "collapsed": false,
    "pycharm": {
     "name": "#%%\n"
    }
   }
  },
  {
   "cell_type": "code",
   "execution_count": 18,
   "outputs": [
    {
     "data": {
      "text/plain": "        SalesID  SalePrice  MachineID  ModelID  datasource  auctioneerID  \\\n205615  1646770     9500.0    1126363     8434         132          18.0   \n274835  1821514    14000.0    1194089    10150         132          99.0   \n141296  1505138    50000.0    1473654     4139         132          99.0   \n212552  1671174    16000.0    1327630     8591         132          99.0   \n62755   1329056    22000.0    1336053     4089         132          99.0   \n...         ...        ...        ...      ...         ...           ...   \n410879  6302984    16000.0    1915521     5266         149          99.0   \n412476  6324811     6000.0    1919104    19330         149          99.0   \n411927  6313029    16000.0    1918416    17244         149          99.0   \n407124  6266251    55000.0     509560     3357         149          99.0   \n409203  6283635    34000.0    1869284     4701         149          99.0   \n\n        YearMade  MachineHoursCurrentMeter UsageBand   saledate  ...  \\\n205615      1974                       NaN       NaN 1989-01-17  ...   \n274835      1980                       NaN       NaN 1989-01-31  ...   \n141296      1978                       NaN       NaN 1989-01-31  ...   \n212552      1980                       NaN       NaN 1989-01-31  ...   \n62755       1984                       NaN       NaN 1989-01-31  ...   \n...          ...                       ...       ...        ...  ...   \n410879      2001                       NaN       NaN 2012-04-28  ...   \n412476      2004                       NaN       NaN 2012-04-28  ...   \n411927      2004                       NaN       NaN 2012-04-28  ...   \n407124      1993                       NaN       NaN 2012-04-28  ...   \n409203      1000                       NaN       NaN 2012-04-28  ...   \n\n       Undercarriage_Pad_Width Stick_Length Thumb Pattern_Changer  \\\n205615                     NaN          NaN   NaN             NaN   \n274835                     NaN          NaN   NaN             NaN   \n141296                     NaN          NaN   NaN             NaN   \n212552                     NaN          NaN   NaN             NaN   \n62755                      NaN          NaN   NaN             NaN   \n...                        ...          ...   ...             ...   \n410879                     NaN          NaN   NaN             NaN   \n412476                     NaN          NaN   NaN             NaN   \n411927                     NaN          NaN   NaN             NaN   \n407124                     NaN          NaN   NaN             NaN   \n409203                     NaN          NaN   NaN             NaN   \n\n       Grouser_Type     Backhoe_Mounting Blade_Type      Travel_Controls  \\\n205615          NaN  None or Unspecified   Straight  None or Unspecified   \n274835          NaN                  NaN        NaN                  NaN   \n141296          NaN  None or Unspecified   Straight  None or Unspecified   \n212552          NaN                  NaN        NaN                  NaN   \n62755           NaN  None or Unspecified        PAT                Lever   \n...             ...                  ...        ...                  ...   \n410879          NaN  None or Unspecified        PAT  None or Unspecified   \n412476          NaN                  NaN        NaN                  NaN   \n411927          NaN                  NaN        NaN                  NaN   \n407124          NaN                  NaN        NaN                  NaN   \n409203          NaN                  NaN        NaN                  NaN   \n\n       Differential_Type Steering_Controls  \n205615               NaN               NaN  \n274835          Standard      Conventional  \n141296               NaN               NaN  \n212552          Standard      Conventional  \n62755                NaN               NaN  \n...                  ...               ...  \n410879               NaN               NaN  \n412476               NaN               NaN  \n411927               NaN               NaN  \n407124               NaN               NaN  \n409203          Standard      Conventional  \n\n[412698 rows x 53 columns]",
      "text/html": "<div>\n<style scoped>\n    .dataframe tbody tr th:only-of-type {\n        vertical-align: middle;\n    }\n\n    .dataframe tbody tr th {\n        vertical-align: top;\n    }\n\n    .dataframe thead th {\n        text-align: right;\n    }\n</style>\n<table border=\"1\" class=\"dataframe\">\n  <thead>\n    <tr style=\"text-align: right;\">\n      <th></th>\n      <th>SalesID</th>\n      <th>SalePrice</th>\n      <th>MachineID</th>\n      <th>ModelID</th>\n      <th>datasource</th>\n      <th>auctioneerID</th>\n      <th>YearMade</th>\n      <th>MachineHoursCurrentMeter</th>\n      <th>UsageBand</th>\n      <th>saledate</th>\n      <th>...</th>\n      <th>Undercarriage_Pad_Width</th>\n      <th>Stick_Length</th>\n      <th>Thumb</th>\n      <th>Pattern_Changer</th>\n      <th>Grouser_Type</th>\n      <th>Backhoe_Mounting</th>\n      <th>Blade_Type</th>\n      <th>Travel_Controls</th>\n      <th>Differential_Type</th>\n      <th>Steering_Controls</th>\n    </tr>\n  </thead>\n  <tbody>\n    <tr>\n      <th>205615</th>\n      <td>1646770</td>\n      <td>9500.0</td>\n      <td>1126363</td>\n      <td>8434</td>\n      <td>132</td>\n      <td>18.0</td>\n      <td>1974</td>\n      <td>NaN</td>\n      <td>NaN</td>\n      <td>1989-01-17</td>\n      <td>...</td>\n      <td>NaN</td>\n      <td>NaN</td>\n      <td>NaN</td>\n      <td>NaN</td>\n      <td>NaN</td>\n      <td>None or Unspecified</td>\n      <td>Straight</td>\n      <td>None or Unspecified</td>\n      <td>NaN</td>\n      <td>NaN</td>\n    </tr>\n    <tr>\n      <th>274835</th>\n      <td>1821514</td>\n      <td>14000.0</td>\n      <td>1194089</td>\n      <td>10150</td>\n      <td>132</td>\n      <td>99.0</td>\n      <td>1980</td>\n      <td>NaN</td>\n      <td>NaN</td>\n      <td>1989-01-31</td>\n      <td>...</td>\n      <td>NaN</td>\n      <td>NaN</td>\n      <td>NaN</td>\n      <td>NaN</td>\n      <td>NaN</td>\n      <td>NaN</td>\n      <td>NaN</td>\n      <td>NaN</td>\n      <td>Standard</td>\n      <td>Conventional</td>\n    </tr>\n    <tr>\n      <th>141296</th>\n      <td>1505138</td>\n      <td>50000.0</td>\n      <td>1473654</td>\n      <td>4139</td>\n      <td>132</td>\n      <td>99.0</td>\n      <td>1978</td>\n      <td>NaN</td>\n      <td>NaN</td>\n      <td>1989-01-31</td>\n      <td>...</td>\n      <td>NaN</td>\n      <td>NaN</td>\n      <td>NaN</td>\n      <td>NaN</td>\n      <td>NaN</td>\n      <td>None or Unspecified</td>\n      <td>Straight</td>\n      <td>None or Unspecified</td>\n      <td>NaN</td>\n      <td>NaN</td>\n    </tr>\n    <tr>\n      <th>212552</th>\n      <td>1671174</td>\n      <td>16000.0</td>\n      <td>1327630</td>\n      <td>8591</td>\n      <td>132</td>\n      <td>99.0</td>\n      <td>1980</td>\n      <td>NaN</td>\n      <td>NaN</td>\n      <td>1989-01-31</td>\n      <td>...</td>\n      <td>NaN</td>\n      <td>NaN</td>\n      <td>NaN</td>\n      <td>NaN</td>\n      <td>NaN</td>\n      <td>NaN</td>\n      <td>NaN</td>\n      <td>NaN</td>\n      <td>Standard</td>\n      <td>Conventional</td>\n    </tr>\n    <tr>\n      <th>62755</th>\n      <td>1329056</td>\n      <td>22000.0</td>\n      <td>1336053</td>\n      <td>4089</td>\n      <td>132</td>\n      <td>99.0</td>\n      <td>1984</td>\n      <td>NaN</td>\n      <td>NaN</td>\n      <td>1989-01-31</td>\n      <td>...</td>\n      <td>NaN</td>\n      <td>NaN</td>\n      <td>NaN</td>\n      <td>NaN</td>\n      <td>NaN</td>\n      <td>None or Unspecified</td>\n      <td>PAT</td>\n      <td>Lever</td>\n      <td>NaN</td>\n      <td>NaN</td>\n    </tr>\n    <tr>\n      <th>...</th>\n      <td>...</td>\n      <td>...</td>\n      <td>...</td>\n      <td>...</td>\n      <td>...</td>\n      <td>...</td>\n      <td>...</td>\n      <td>...</td>\n      <td>...</td>\n      <td>...</td>\n      <td>...</td>\n      <td>...</td>\n      <td>...</td>\n      <td>...</td>\n      <td>...</td>\n      <td>...</td>\n      <td>...</td>\n      <td>...</td>\n      <td>...</td>\n      <td>...</td>\n      <td>...</td>\n    </tr>\n    <tr>\n      <th>410879</th>\n      <td>6302984</td>\n      <td>16000.0</td>\n      <td>1915521</td>\n      <td>5266</td>\n      <td>149</td>\n      <td>99.0</td>\n      <td>2001</td>\n      <td>NaN</td>\n      <td>NaN</td>\n      <td>2012-04-28</td>\n      <td>...</td>\n      <td>NaN</td>\n      <td>NaN</td>\n      <td>NaN</td>\n      <td>NaN</td>\n      <td>NaN</td>\n      <td>None or Unspecified</td>\n      <td>PAT</td>\n      <td>None or Unspecified</td>\n      <td>NaN</td>\n      <td>NaN</td>\n    </tr>\n    <tr>\n      <th>412476</th>\n      <td>6324811</td>\n      <td>6000.0</td>\n      <td>1919104</td>\n      <td>19330</td>\n      <td>149</td>\n      <td>99.0</td>\n      <td>2004</td>\n      <td>NaN</td>\n      <td>NaN</td>\n      <td>2012-04-28</td>\n      <td>...</td>\n      <td>NaN</td>\n      <td>NaN</td>\n      <td>NaN</td>\n      <td>NaN</td>\n      <td>NaN</td>\n      <td>NaN</td>\n      <td>NaN</td>\n      <td>NaN</td>\n      <td>NaN</td>\n      <td>NaN</td>\n    </tr>\n    <tr>\n      <th>411927</th>\n      <td>6313029</td>\n      <td>16000.0</td>\n      <td>1918416</td>\n      <td>17244</td>\n      <td>149</td>\n      <td>99.0</td>\n      <td>2004</td>\n      <td>NaN</td>\n      <td>NaN</td>\n      <td>2012-04-28</td>\n      <td>...</td>\n      <td>NaN</td>\n      <td>NaN</td>\n      <td>NaN</td>\n      <td>NaN</td>\n      <td>NaN</td>\n      <td>NaN</td>\n      <td>NaN</td>\n      <td>NaN</td>\n      <td>NaN</td>\n      <td>NaN</td>\n    </tr>\n    <tr>\n      <th>407124</th>\n      <td>6266251</td>\n      <td>55000.0</td>\n      <td>509560</td>\n      <td>3357</td>\n      <td>149</td>\n      <td>99.0</td>\n      <td>1993</td>\n      <td>NaN</td>\n      <td>NaN</td>\n      <td>2012-04-28</td>\n      <td>...</td>\n      <td>NaN</td>\n      <td>NaN</td>\n      <td>NaN</td>\n      <td>NaN</td>\n      <td>NaN</td>\n      <td>NaN</td>\n      <td>NaN</td>\n      <td>NaN</td>\n      <td>NaN</td>\n      <td>NaN</td>\n    </tr>\n    <tr>\n      <th>409203</th>\n      <td>6283635</td>\n      <td>34000.0</td>\n      <td>1869284</td>\n      <td>4701</td>\n      <td>149</td>\n      <td>99.0</td>\n      <td>1000</td>\n      <td>NaN</td>\n      <td>NaN</td>\n      <td>2012-04-28</td>\n      <td>...</td>\n      <td>NaN</td>\n      <td>NaN</td>\n      <td>NaN</td>\n      <td>NaN</td>\n      <td>NaN</td>\n      <td>NaN</td>\n      <td>NaN</td>\n      <td>NaN</td>\n      <td>Standard</td>\n      <td>Conventional</td>\n    </tr>\n  </tbody>\n</table>\n<p>412698 rows × 53 columns</p>\n</div>"
     },
     "execution_count": 18,
     "metadata": {},
     "output_type": "execute_result"
    }
   ],
   "source": [
    "df_tmp"
   ],
   "metadata": {
    "collapsed": false,
    "pycharm": {
     "name": "#%%\n"
    }
   }
  },
  {
   "cell_type": "markdown",
   "source": [
    "### Add datetime parameters for `saledate` column"
   ],
   "metadata": {
    "collapsed": false,
    "pycharm": {
     "name": "#%% md\n"
    }
   }
  },
  {
   "cell_type": "code",
   "execution_count": 19,
   "outputs": [],
   "source": [
    "df_tmp[\"saleYear\"] = df_tmp.saledate.dt.year\n",
    "df_tmp[\"saleDay\"] = df_tmp.saledate.dt.day\n",
    "df_tmp[\"saleMonth\"] = df_tmp.saledate.dt.month\n",
    "df_tmp[\"saleDayOfWeek\"] = df_tmp.saledate.dt.dayofweek\n",
    "df_tmp[\"saleDayOfYear\"] = df_tmp.saledate.dt.dayofyear"
   ],
   "metadata": {
    "collapsed": false,
    "pycharm": {
     "name": "#%%\n"
    }
   }
  },
  {
   "cell_type": "code",
   "execution_count": 23,
   "outputs": [
    {
     "data": {
      "text/plain": "                                                                     205615  \\\nSalesID                                                             1646770   \nSalePrice                                                            9500.0   \nMachineID                                                           1126363   \nModelID                                                                8434   \ndatasource                                                              132   \nauctioneerID                                                           18.0   \nYearMade                                                               1974   \nMachineHoursCurrentMeter                                                NaN   \nUsageBand                                                               NaN   \nsaledate                                                1989-01-17 00:00:00   \nfiModelDesc                                                            TD20   \nfiBaseModel                                                            TD20   \nfiSecondaryDesc                                                         NaN   \nfiModelSeries                                                           NaN   \nfiModelDescriptor                                                       NaN   \nProductSize                                                          Medium   \nfiProductClassDesc        Track Type Tractor, Dozer - 105.0 to 130.0 Hor...   \nstate                                                                 Texas   \nProductGroup                                                            TTT   \nProductGroupDesc                                        Track Type Tractors   \nDrive_System                                                            NaN   \nEnclosure                                                             OROPS   \nForks                                                                   NaN   \nPad_Type                                                                NaN   \nRide_Control                                                            NaN   \nStick                                                                   NaN   \nTransmission                                                   Direct Drive   \nTurbocharged                                                            NaN   \nBlade_Extension                                                         NaN   \nBlade_Width                                                             NaN   \nEnclosure_Type                                                          NaN   \nEngine_Horsepower                                                       NaN   \nHydraulics                                                          2 Valve   \nPushblock                                                               NaN   \nRipper                                                  None or Unspecified   \nScarifier                                                               NaN   \nTip_Control                                                             NaN   \nTire_Size                                                               NaN   \nCoupler                                                                 NaN   \nCoupler_System                                                          NaN   \nGrouser_Tracks                                                          NaN   \nHydraulics_Flow                                                         NaN   \nTrack_Type                                                              NaN   \nUndercarriage_Pad_Width                                                 NaN   \nStick_Length                                                            NaN   \nThumb                                                                   NaN   \nPattern_Changer                                                         NaN   \nGrouser_Type                                                            NaN   \nBackhoe_Mounting                                        None or Unspecified   \nBlade_Type                                                         Straight   \nTravel_Controls                                         None or Unspecified   \nDifferential_Type                                                       NaN   \nSteering_Controls                                                       NaN   \nsaleYear                                                               1989   \nsaleDay                                                                  17   \nsaleMonth                                                                 1   \nsaleDayOfWeek                                                             1   \nsaleDayOfYear                                                            17   \n\n                                                            274835  \\\nSalesID                                                    1821514   \nSalePrice                                                  14000.0   \nMachineID                                                  1194089   \nModelID                                                      10150   \ndatasource                                                     132   \nauctioneerID                                                  99.0   \nYearMade                                                      1980   \nMachineHoursCurrentMeter                                       NaN   \nUsageBand                                                      NaN   \nsaledate                                       1989-01-31 00:00:00   \nfiModelDesc                                                    A66   \nfiBaseModel                                                    A66   \nfiSecondaryDesc                                                NaN   \nfiModelSeries                                                  NaN   \nfiModelDescriptor                                              NaN   \nProductSize                                                    NaN   \nfiProductClassDesc        Wheel Loader - 120.0 to 135.0 Horsepower   \nstate                                                      Florida   \nProductGroup                                                    WL   \nProductGroupDesc                                      Wheel Loader   \nDrive_System                                                   NaN   \nEnclosure                                                    OROPS   \nForks                                          None or Unspecified   \nPad_Type                                                       NaN   \nRide_Control                                   None or Unspecified   \nStick                                                          NaN   \nTransmission                                                   NaN   \nTurbocharged                                                   NaN   \nBlade_Extension                                                NaN   \nBlade_Width                                                    NaN   \nEnclosure_Type                                                 NaN   \nEngine_Horsepower                                              NaN   \nHydraulics                                                 2 Valve   \nPushblock                                                      NaN   \nRipper                                                         NaN   \nScarifier                                                      NaN   \nTip_Control                                                    NaN   \nTire_Size                                      None or Unspecified   \nCoupler                                        None or Unspecified   \nCoupler_System                                                 NaN   \nGrouser_Tracks                                                 NaN   \nHydraulics_Flow                                                NaN   \nTrack_Type                                                     NaN   \nUndercarriage_Pad_Width                                        NaN   \nStick_Length                                                   NaN   \nThumb                                                          NaN   \nPattern_Changer                                                NaN   \nGrouser_Type                                                   NaN   \nBackhoe_Mounting                                               NaN   \nBlade_Type                                                     NaN   \nTravel_Controls                                                NaN   \nDifferential_Type                                         Standard   \nSteering_Controls                                     Conventional   \nsaleYear                                                      1989   \nsaleDay                                                         31   \nsaleMonth                                                        1   \nsaleDayOfWeek                                                    1   \nsaleDayOfYear                                                   31   \n\n                                                                     141296  \\\nSalesID                                                             1505138   \nSalePrice                                                           50000.0   \nMachineID                                                           1473654   \nModelID                                                                4139   \ndatasource                                                              132   \nauctioneerID                                                           99.0   \nYearMade                                                               1978   \nMachineHoursCurrentMeter                                                NaN   \nUsageBand                                                               NaN   \nsaledate                                                1989-01-31 00:00:00   \nfiModelDesc                                                             D7G   \nfiBaseModel                                                              D7   \nfiSecondaryDesc                                                           G   \nfiModelSeries                                                           NaN   \nfiModelDescriptor                                                       NaN   \nProductSize                                                           Large   \nfiProductClassDesc        Track Type Tractor, Dozer - 190.0 to 260.0 Hor...   \nstate                                                               Florida   \nProductGroup                                                            TTT   \nProductGroupDesc                                        Track Type Tractors   \nDrive_System                                                            NaN   \nEnclosure                                                             OROPS   \nForks                                                                   NaN   \nPad_Type                                                                NaN   \nRide_Control                                                            NaN   \nStick                                                                   NaN   \nTransmission                                                       Standard   \nTurbocharged                                                            NaN   \nBlade_Extension                                                         NaN   \nBlade_Width                                                             NaN   \nEnclosure_Type                                                          NaN   \nEngine_Horsepower                                                       NaN   \nHydraulics                                                          2 Valve   \nPushblock                                                               NaN   \nRipper                                                  None or Unspecified   \nScarifier                                                               NaN   \nTip_Control                                                             NaN   \nTire_Size                                                               NaN   \nCoupler                                                                 NaN   \nCoupler_System                                                          NaN   \nGrouser_Tracks                                                          NaN   \nHydraulics_Flow                                                         NaN   \nTrack_Type                                                              NaN   \nUndercarriage_Pad_Width                                                 NaN   \nStick_Length                                                            NaN   \nThumb                                                                   NaN   \nPattern_Changer                                                         NaN   \nGrouser_Type                                                            NaN   \nBackhoe_Mounting                                        None or Unspecified   \nBlade_Type                                                         Straight   \nTravel_Controls                                         None or Unspecified   \nDifferential_Type                                                       NaN   \nSteering_Controls                                                       NaN   \nsaleYear                                                               1989   \nsaleDay                                                                  31   \nsaleMonth                                                                 1   \nsaleDayOfWeek                                                             1   \nsaleDayOfYear                                                            31   \n\n                                               212552  \\\nSalesID                                       1671174   \nSalePrice                                     16000.0   \nMachineID                                     1327630   \nModelID                                          8591   \ndatasource                                        132   \nauctioneerID                                     99.0   \nYearMade                                         1980   \nMachineHoursCurrentMeter                          NaN   \nUsageBand                                         NaN   \nsaledate                          1989-01-31 00:00:00   \nfiModelDesc                                       A62   \nfiBaseModel                                       A62   \nfiSecondaryDesc                                   NaN   \nfiModelSeries                                     NaN   \nfiModelDescriptor                                 NaN   \nProductSize                                       NaN   \nfiProductClassDesc        Wheel Loader - Unidentified   \nstate                                         Florida   \nProductGroup                                       WL   \nProductGroupDesc                         Wheel Loader   \nDrive_System                                      NaN   \nEnclosure                                       EROPS   \nForks                             None or Unspecified   \nPad_Type                                          NaN   \nRide_Control                      None or Unspecified   \nStick                                             NaN   \nTransmission                                      NaN   \nTurbocharged                                      NaN   \nBlade_Extension                                   NaN   \nBlade_Width                                       NaN   \nEnclosure_Type                                    NaN   \nEngine_Horsepower                                 NaN   \nHydraulics                                    2 Valve   \nPushblock                                         NaN   \nRipper                                            NaN   \nScarifier                                         NaN   \nTip_Control                                       NaN   \nTire_Size                         None or Unspecified   \nCoupler                           None or Unspecified   \nCoupler_System                                    NaN   \nGrouser_Tracks                                    NaN   \nHydraulics_Flow                                   NaN   \nTrack_Type                                        NaN   \nUndercarriage_Pad_Width                           NaN   \nStick_Length                                      NaN   \nThumb                                             NaN   \nPattern_Changer                                   NaN   \nGrouser_Type                                      NaN   \nBackhoe_Mounting                                  NaN   \nBlade_Type                                        NaN   \nTravel_Controls                                   NaN   \nDifferential_Type                            Standard   \nSteering_Controls                        Conventional   \nsaleYear                                         1989   \nsaleDay                                            31   \nsaleMonth                                           1   \nsaleDayOfWeek                                       1   \nsaleDayOfYear                                      31   \n\n                                                                     62755   \\\nSalesID                                                             1329056   \nSalePrice                                                           22000.0   \nMachineID                                                           1336053   \nModelID                                                                4089   \ndatasource                                                              132   \nauctioneerID                                                           99.0   \nYearMade                                                               1984   \nMachineHoursCurrentMeter                                                NaN   \nUsageBand                                                               NaN   \nsaledate                                                1989-01-31 00:00:00   \nfiModelDesc                                                             D3B   \nfiBaseModel                                                              D3   \nfiSecondaryDesc                                                           B   \nfiModelSeries                                                           NaN   \nfiModelDescriptor                                                       NaN   \nProductSize                                                             NaN   \nfiProductClassDesc        Track Type Tractor, Dozer - 20.0 to 75.0 Horse...   \nstate                                                               Florida   \nProductGroup                                                            TTT   \nProductGroupDesc                                        Track Type Tractors   \nDrive_System                                                            NaN   \nEnclosure                                                             OROPS   \nForks                                                                   NaN   \nPad_Type                                                                NaN   \nRide_Control                                                            NaN   \nStick                                                                   NaN   \nTransmission                                                       Standard   \nTurbocharged                                                            NaN   \nBlade_Extension                                                         NaN   \nBlade_Width                                                             NaN   \nEnclosure_Type                                                          NaN   \nEngine_Horsepower                                                       NaN   \nHydraulics                                                          2 Valve   \nPushblock                                                               NaN   \nRipper                                                  None or Unspecified   \nScarifier                                                               NaN   \nTip_Control                                                             NaN   \nTire_Size                                                               NaN   \nCoupler                                                                 NaN   \nCoupler_System                                                          NaN   \nGrouser_Tracks                                                          NaN   \nHydraulics_Flow                                                         NaN   \nTrack_Type                                                              NaN   \nUndercarriage_Pad_Width                                                 NaN   \nStick_Length                                                            NaN   \nThumb                                                                   NaN   \nPattern_Changer                                                         NaN   \nGrouser_Type                                                            NaN   \nBackhoe_Mounting                                        None or Unspecified   \nBlade_Type                                                              PAT   \nTravel_Controls                                                       Lever   \nDifferential_Type                                                       NaN   \nSteering_Controls                                                       NaN   \nsaleYear                                                               1989   \nsaleDay                                                                  31   \nsaleMonth                                                                 1   \nsaleDayOfWeek                                                             1   \nsaleDayOfYear                                                            31   \n\n                                                                     54653   \\\nSalesID                                                             1301884   \nSalePrice                                                           23500.0   \nMachineID                                                           1182999   \nModelID                                                                4123   \ndatasource                                                              132   \nauctioneerID                                                           99.0   \nYearMade                                                               1976   \nMachineHoursCurrentMeter                                                NaN   \nUsageBand                                                               NaN   \nsaledate                                                1989-01-31 00:00:00   \nfiModelDesc                                                             D6C   \nfiBaseModel                                                              D6   \nfiSecondaryDesc                                                           C   \nfiModelSeries                                                           NaN   \nfiModelDescriptor                                                       NaN   \nProductSize                                                          Medium   \nfiProductClassDesc        Track Type Tractor, Dozer - 130.0 to 160.0 Hor...   \nstate                                                               Florida   \nProductGroup                                                            TTT   \nProductGroupDesc                                        Track Type Tractors   \nDrive_System                                                            NaN   \nEnclosure                                                             OROPS   \nForks                                                                   NaN   \nPad_Type                                                                NaN   \nRide_Control                                                            NaN   \nStick                                                                   NaN   \nTransmission                                                       Standard   \nTurbocharged                                                            NaN   \nBlade_Extension                                                         NaN   \nBlade_Width                                                             NaN   \nEnclosure_Type                                                          NaN   \nEngine_Horsepower                                                       NaN   \nHydraulics                                                          2 Valve   \nPushblock                                                               NaN   \nRipper                                                  None or Unspecified   \nScarifier                                                               NaN   \nTip_Control                                                             NaN   \nTire_Size                                                               NaN   \nCoupler                                                                 NaN   \nCoupler_System                                                          NaN   \nGrouser_Tracks                                                          NaN   \nHydraulics_Flow                                                         NaN   \nTrack_Type                                                              NaN   \nUndercarriage_Pad_Width                                                 NaN   \nStick_Length                                                            NaN   \nThumb                                                                   NaN   \nPattern_Changer                                                         NaN   \nGrouser_Type                                                            NaN   \nBackhoe_Mounting                                        None or Unspecified   \nBlade_Type                                                         Straight   \nTravel_Controls                                         None or Unspecified   \nDifferential_Type                                                       NaN   \nSteering_Controls                                                       NaN   \nsaleYear                                                               1989   \nsaleDay                                                                  31   \nsaleMonth                                                                 1   \nsaleDayOfWeek                                                             1   \nsaleDayOfYear                                                            31   \n\n                                                          81383   \\\nSalesID                                                  1379228   \nSalePrice                                                31000.0   \nMachineID                                                1082797   \nModelID                                                     7620   \ndatasource                                                   132   \nauctioneerID                                                99.0   \nYearMade                                                    1986   \nMachineHoursCurrentMeter                                     NaN   \nUsageBand                                                    NaN   \nsaledate                                     1989-01-31 00:00:00   \nfiModelDesc                                                 IT12   \nfiBaseModel                                                 IT12   \nfiSecondaryDesc                                              NaN   \nfiModelSeries                                                NaN   \nfiModelDescriptor                                            NaN   \nProductSize                                              Compact   \nfiProductClassDesc        Wheel Loader - 60.0 to 80.0 Horsepower   \nstate                                                    Florida   \nProductGroup                                                  WL   \nProductGroupDesc                                    Wheel Loader   \nDrive_System                                                 NaN   \nEnclosure                                                  EROPS   \nForks                                                        Yes   \nPad_Type                                                     NaN   \nRide_Control                                 None or Unspecified   \nStick                                                        NaN   \nTransmission                                                 NaN   \nTurbocharged                                                 NaN   \nBlade_Extension                                              NaN   \nBlade_Width                                                  NaN   \nEnclosure_Type                                               NaN   \nEngine_Horsepower                                            NaN   \nHydraulics                                               2 Valve   \nPushblock                                                    NaN   \nRipper                                                       NaN   \nScarifier                                                    NaN   \nTip_Control                                                  NaN   \nTire_Size                                    None or Unspecified   \nCoupler                                      None or Unspecified   \nCoupler_System                                               NaN   \nGrouser_Tracks                                               NaN   \nHydraulics_Flow                                              NaN   \nTrack_Type                                                   NaN   \nUndercarriage_Pad_Width                                      NaN   \nStick_Length                                                 NaN   \nThumb                                                        NaN   \nPattern_Changer                                              NaN   \nGrouser_Type                                                 NaN   \nBackhoe_Mounting                                             NaN   \nBlade_Type                                                   NaN   \nTravel_Controls                                              NaN   \nDifferential_Type                                       Standard   \nSteering_Controls                                   Conventional   \nsaleYear                                                    1989   \nsaleDay                                                       31   \nsaleMonth                                                      1   \nsaleDayOfWeek                                                  1   \nsaleDayOfYear                                                 31   \n\n                                                           204924  \\\nSalesID                                                   1645390   \nSalePrice                                                 11750.0   \nMachineID                                                 1527216   \nModelID                                                      8202   \ndatasource                                                    132   \nauctioneerID                                                 99.0   \nYearMade                                                     1970   \nMachineHoursCurrentMeter                                      NaN   \nUsageBand                                                     NaN   \nsaledate                                      1989-01-31 00:00:00   \nfiModelDesc                                                   544   \nfiBaseModel                                                   544   \nfiSecondaryDesc                                               NaN   \nfiModelSeries                                                 NaN   \nfiModelDescriptor                                             NaN   \nProductSize                                                   NaN   \nfiProductClassDesc        Wheel Loader - 90.0 to 100.0 Horsepower   \nstate                                                     Florida   \nProductGroup                                                   WL   \nProductGroupDesc                                     Wheel Loader   \nDrive_System                                                  NaN   \nEnclosure                                                   OROPS   \nForks                                                         Yes   \nPad_Type                                                      NaN   \nRide_Control                                  None or Unspecified   \nStick                                                         NaN   \nTransmission                                                  NaN   \nTurbocharged                                                  NaN   \nBlade_Extension                                               NaN   \nBlade_Width                                                   NaN   \nEnclosure_Type                                                NaN   \nEngine_Horsepower                                             NaN   \nHydraulics                                                2 Valve   \nPushblock                                                     NaN   \nRipper                                                        NaN   \nScarifier                                                     NaN   \nTip_Control                                                   NaN   \nTire_Size                                     None or Unspecified   \nCoupler                                       None or Unspecified   \nCoupler_System                                                NaN   \nGrouser_Tracks                                                NaN   \nHydraulics_Flow                                               NaN   \nTrack_Type                                                    NaN   \nUndercarriage_Pad_Width                                       NaN   \nStick_Length                                                  NaN   \nThumb                                                         NaN   \nPattern_Changer                                               NaN   \nGrouser_Type                                                  NaN   \nBackhoe_Mounting                                              NaN   \nBlade_Type                                                    NaN   \nTravel_Controls                                               NaN   \nDifferential_Type                                        Standard   \nSteering_Controls                                    Conventional   \nsaleYear                                                     1989   \nsaleDay                                                        31   \nsaleMonth                                                       1   \nsaleDayOfWeek                                                   1   \nsaleDayOfYear                                                  31   \n\n                                                                     135376  \\\nSalesID                                                             1493279   \nSalePrice                                                           63000.0   \nMachineID                                                           1363756   \nModelID                                                                2759   \ndatasource                                                              132   \nauctioneerID                                                           99.0   \nYearMade                                                               1987   \nMachineHoursCurrentMeter                                                NaN   \nUsageBand                                                               NaN   \nsaledate                                                1989-01-31 00:00:00   \nfiModelDesc                                                           D5HII   \nfiBaseModel                                                              D5   \nfiSecondaryDesc                                                           H   \nfiModelSeries                                                            II   \nfiModelDescriptor                                                       NaN   \nProductSize                                                          Medium   \nfiProductClassDesc        Track Type Tractor, Dozer - 130.0 to 160.0 Hor...   \nstate                                                               Florida   \nProductGroup                                                            TTT   \nProductGroupDesc                                        Track Type Tractors   \nDrive_System                                                            NaN   \nEnclosure                                                             EROPS   \nForks                                                                   NaN   \nPad_Type                                                                NaN   \nRide_Control                                                            NaN   \nStick                                                                   NaN   \nTransmission                                                     Powershift   \nTurbocharged                                                            NaN   \nBlade_Extension                                                         NaN   \nBlade_Width                                                             NaN   \nEnclosure_Type                                                          NaN   \nEngine_Horsepower                                                       NaN   \nHydraulics                                                          2 Valve   \nPushblock                                                               NaN   \nRipper                                                  None or Unspecified   \nScarifier                                                               NaN   \nTip_Control                                                             NaN   \nTire_Size                                                               NaN   \nCoupler                                                                 NaN   \nCoupler_System                                                          NaN   \nGrouser_Tracks                                                          NaN   \nHydraulics_Flow                                                         NaN   \nTrack_Type                                                              NaN   \nUndercarriage_Pad_Width                                                 NaN   \nStick_Length                                                            NaN   \nThumb                                                                   NaN   \nPattern_Changer                                                         NaN   \nGrouser_Type                                                            NaN   \nBackhoe_Mounting                                        None or Unspecified   \nBlade_Type                                                              PAT   \nTravel_Controls                                         None or Unspecified   \nDifferential_Type                                                       NaN   \nSteering_Controls                                                       NaN   \nsaleYear                                                               1989   \nsaleDay                                                                  31   \nsaleMonth                                                                 1   \nsaleDayOfWeek                                                             1   \nsaleDayOfYear                                                            31   \n\n                                                          113390  \\\nSalesID                                                  1449549   \nSalePrice                                                13000.0   \nMachineID                                                1289412   \nModelID                                                     3356   \ndatasource                                                   132   \nauctioneerID                                                99.0   \nYearMade                                                    1966   \nMachineHoursCurrentMeter                                     NaN   \nUsageBand                                                    NaN   \nsaledate                                     1989-01-31 00:00:00   \nfiModelDesc                                                  12F   \nfiBaseModel                                                   12   \nfiSecondaryDesc                                                F   \nfiModelSeries                                                NaN   \nfiModelDescriptor                                            NaN   \nProductSize                                                  NaN   \nfiProductClassDesc        Motorgrader - 45.0 to 130.0 Horsepower   \nstate                                                    Florida   \nProductGroup                                                  MG   \nProductGroupDesc                                   Motor Graders   \nDrive_System                                                  No   \nEnclosure                                                  OROPS   \nForks                                                        NaN   \nPad_Type                                                     NaN   \nRide_Control                                                 NaN   \nStick                                                        NaN   \nTransmission                                 None or Unspecified   \nTurbocharged                                                 NaN   \nBlade_Extension                              None or Unspecified   \nBlade_Width                                  None or Unspecified   \nEnclosure_Type                               None or Unspecified   \nEngine_Horsepower                                             No   \nHydraulics                                     Base + 1 Function   \nPushblock                                    None or Unspecified   \nRipper                                       None or Unspecified   \nScarifier                                                    Yes   \nTip_Control                                      Sideshift & Tip   \nTire_Size                                    None or Unspecified   \nCoupler                                                      NaN   \nCoupler_System                                               NaN   \nGrouser_Tracks                                               NaN   \nHydraulics_Flow                                              NaN   \nTrack_Type                                                   NaN   \nUndercarriage_Pad_Width                                      NaN   \nStick_Length                                                 NaN   \nThumb                                                        NaN   \nPattern_Changer                                              NaN   \nGrouser_Type                                                 NaN   \nBackhoe_Mounting                                             NaN   \nBlade_Type                                                   NaN   \nTravel_Controls                                              NaN   \nDifferential_Type                                            NaN   \nSteering_Controls                                            NaN   \nsaleYear                                                    1989   \nsaleDay                                                       31   \nsaleMonth                                                      1   \nsaleDayOfWeek                                                  1   \nsaleDayOfYear                                                 31   \n\n                                                          113394  \\\nSalesID                                                  1449555   \nSalePrice                                                10500.0   \nMachineID                                                1102310   \nModelID                                                     3356   \ndatasource                                                   132   \nauctioneerID                                                99.0   \nYearMade                                                    1966   \nMachineHoursCurrentMeter                                     NaN   \nUsageBand                                                    NaN   \nsaledate                                     1989-01-31 00:00:00   \nfiModelDesc                                                  12F   \nfiBaseModel                                                   12   \nfiSecondaryDesc                                                F   \nfiModelSeries                                                NaN   \nfiModelDescriptor                                            NaN   \nProductSize                                                  NaN   \nfiProductClassDesc        Motorgrader - 45.0 to 130.0 Horsepower   \nstate                                                    Florida   \nProductGroup                                                  MG   \nProductGroupDesc                                   Motor Graders   \nDrive_System                                                  No   \nEnclosure                                                  OROPS   \nForks                                                        NaN   \nPad_Type                                                     NaN   \nRide_Control                                                 NaN   \nStick                                                        NaN   \nTransmission                                 None or Unspecified   \nTurbocharged                                                 NaN   \nBlade_Extension                              None or Unspecified   \nBlade_Width                                  None or Unspecified   \nEnclosure_Type                               None or Unspecified   \nEngine_Horsepower                                             No   \nHydraulics                                     Base + 1 Function   \nPushblock                                    None or Unspecified   \nRipper                                       None or Unspecified   \nScarifier                                                    Yes   \nTip_Control                                      Sideshift & Tip   \nTire_Size                                    None or Unspecified   \nCoupler                                                      NaN   \nCoupler_System                                               NaN   \nGrouser_Tracks                                               NaN   \nHydraulics_Flow                                              NaN   \nTrack_Type                                                   NaN   \nUndercarriage_Pad_Width                                      NaN   \nStick_Length                                                 NaN   \nThumb                                                        NaN   \nPattern_Changer                                              NaN   \nGrouser_Type                                                 NaN   \nBackhoe_Mounting                                             NaN   \nBlade_Type                                                   NaN   \nTravel_Controls                                              NaN   \nDifferential_Type                                            NaN   \nSteering_Controls                                            NaN   \nsaleYear                                                    1989   \nsaleDay                                                       31   \nsaleMonth                                                      1   \nsaleDayOfWeek                                                  1   \nsaleDayOfYear                                                 31   \n\n                                                                     116419  \\\nSalesID                                                             1453775   \nSalePrice                                                           20000.0   \nMachineID                                                           1514650   \nModelID                                                                7008   \ndatasource                                                              132   \nauctioneerID                                                           99.0   \nYearMade                                                               1974   \nMachineHoursCurrentMeter                                                NaN   \nUsageBand                                                               NaN   \nsaledate                                                1989-01-31 00:00:00   \nfiModelDesc                                                             225   \nfiBaseModel                                                             225   \nfiSecondaryDesc                                                         NaN   \nfiModelSeries                                                           NaN   \nfiModelDescriptor                                                       NaN   \nProductSize                                                  Large / Medium   \nfiProductClassDesc        Hydraulic Excavator, Track - 24.0 to 28.0 Metr...   \nstate                                                               Florida   \nProductGroup                                                            TEX   \nProductGroupDesc                                           Track Excavators   \nDrive_System                                                            NaN   \nEnclosure                                                             EROPS   \nForks                                                                   NaN   \nPad_Type                                                                NaN   \nRide_Control                                                            NaN   \nStick                                                                   NaN   \nTransmission                                                            NaN   \nTurbocharged                                                            NaN   \nBlade_Extension                                                         NaN   \nBlade_Width                                                             NaN   \nEnclosure_Type                                                          NaN   \nEngine_Horsepower                                                       NaN   \nHydraulics                                                         Standard   \nPushblock                                                               NaN   \nRipper                                                                  NaN   \nScarifier                                                               NaN   \nTip_Control                                                             NaN   \nTire_Size                                                               NaN   \nCoupler                                                 None or Unspecified   \nCoupler_System                                                          NaN   \nGrouser_Tracks                                                          NaN   \nHydraulics_Flow                                                         NaN   \nTrack_Type                                                            Steel   \nUndercarriage_Pad_Width                                             24 inch   \nStick_Length                                            None or Unspecified   \nThumb                                                   None or Unspecified   \nPattern_Changer                                         None or Unspecified   \nGrouser_Type                                                         Double   \nBackhoe_Mounting                                                        NaN   \nBlade_Type                                                              NaN   \nTravel_Controls                                                         NaN   \nDifferential_Type                                                       NaN   \nSteering_Controls                                                       NaN   \nsaleYear                                                               1989   \nsaleDay                                                                  31   \nsaleMonth                                                                 1   \nsaleDayOfWeek                                                             1   \nsaleDayOfYear                                                            31   \n\n                                                                     32138   \\\nSalesID                                                             1264985   \nSalePrice                                                           20000.0   \nMachineID                                                           1204499   \nModelID                                                                6788   \ndatasource                                                              132   \nauctioneerID                                                           99.0   \nYearMade                                                               1984   \nMachineHoursCurrentMeter                                                NaN   \nUsageBand                                                               NaN   \nsaledate                                                1989-01-31 00:00:00   \nfiModelDesc                                                             580   \nfiBaseModel                                                             580   \nfiSecondaryDesc                                                         NaN   \nfiModelSeries                                                           NaN   \nfiModelDescriptor                                                       NaN   \nProductSize                                                             NaN   \nfiProductClassDesc        Backhoe Loader - 14.0 to 15.0 Ft Standard Digg...   \nstate                                                               Florida   \nProductGroup                                                             BL   \nProductGroupDesc                                            Backhoe Loaders   \nDrive_System                                               Four Wheel Drive   \nEnclosure                                                             OROPS   \nForks                                                   None or Unspecified   \nPad_Type                                                None or Unspecified   \nRide_Control                                                             No   \nStick                                                              Standard   \nTransmission                                                       Standard   \nTurbocharged                                            None or Unspecified   \nBlade_Extension                                                         NaN   \nBlade_Width                                                             NaN   \nEnclosure_Type                                                          NaN   \nEngine_Horsepower                                                       NaN   \nHydraulics                                                              NaN   \nPushblock                                                               NaN   \nRipper                                                                  NaN   \nScarifier                                                               NaN   \nTip_Control                                                             NaN   \nTire_Size                                                               NaN   \nCoupler                                                                 NaN   \nCoupler_System                                                          NaN   \nGrouser_Tracks                                                          NaN   \nHydraulics_Flow                                                         NaN   \nTrack_Type                                                              NaN   \nUndercarriage_Pad_Width                                                 NaN   \nStick_Length                                                            NaN   \nThumb                                                                   NaN   \nPattern_Changer                                                         NaN   \nGrouser_Type                                                            NaN   \nBackhoe_Mounting                                                        NaN   \nBlade_Type                                                              NaN   \nTravel_Controls                                                         NaN   \nDifferential_Type                                                       NaN   \nSteering_Controls                                                       NaN   \nsaleYear                                                               1989   \nsaleDay                                                                  31   \nsaleMonth                                                                 1   \nsaleDayOfWeek                                                             1   \nsaleDayOfYear                                                            31   \n\n                                                            127610  \\\nSalesID                                                    1475641   \nSalePrice                                                  23500.0   \nMachineID                                                  1194367   \nModelID                                                       7277   \ndatasource                                                     132   \nauctioneerID                                                  99.0   \nYearMade                                                      1973   \nMachineHoursCurrentMeter                                       NaN   \nUsageBand                                                      NaN   \nsaledate                                       1989-01-31 00:00:00   \nfiModelDesc                                                    950   \nfiBaseModel                                                    950   \nfiSecondaryDesc                                                NaN   \nfiModelSeries                                                  NaN   \nfiModelDescriptor                                              NaN   \nProductSize                                                 Medium   \nfiProductClassDesc        Wheel Loader - 150.0 to 175.0 Horsepower   \nstate                                                      Florida   \nProductGroup                                                    WL   \nProductGroupDesc                                      Wheel Loader   \nDrive_System                                                   NaN   \nEnclosure                                                    EROPS   \nForks                                          None or Unspecified   \nPad_Type                                                       NaN   \nRide_Control                                   None or Unspecified   \nStick                                                          NaN   \nTransmission                                                   NaN   \nTurbocharged                                                   NaN   \nBlade_Extension                                                NaN   \nBlade_Width                                                    NaN   \nEnclosure_Type                                                 NaN   \nEngine_Horsepower                                              NaN   \nHydraulics                                                 2 Valve   \nPushblock                                                      NaN   \nRipper                                                         NaN   \nScarifier                                                      NaN   \nTip_Control                                                    NaN   \nTire_Size                                                     20.5   \nCoupler                                        None or Unspecified   \nCoupler_System                                                 NaN   \nGrouser_Tracks                                                 NaN   \nHydraulics_Flow                                                NaN   \nTrack_Type                                                     NaN   \nUndercarriage_Pad_Width                                        NaN   \nStick_Length                                                   NaN   \nThumb                                                          NaN   \nPattern_Changer                                                NaN   \nGrouser_Type                                                   NaN   \nBackhoe_Mounting                                               NaN   \nBlade_Type                                                     NaN   \nTravel_Controls                                                NaN   \nDifferential_Type                                         Standard   \nSteering_Controls                                     Conventional   \nsaleYear                                                      1989   \nsaleDay                                                         31   \nsaleMonth                                                        1   \nsaleDayOfWeek                                                    1   \nsaleDayOfYear                                                   31   \n\n                                                            76171   \\\nSalesID                                                    1364654   \nSalePrice                                                  14000.0   \nMachineID                                                  1270628   \nModelID                                                       7289   \ndatasource                                                     132   \nauctioneerID                                                  99.0   \nYearMade                                                      1968   \nMachineHoursCurrentMeter                                       NaN   \nUsageBand                                                      NaN   \nsaledate                                       1989-01-31 00:00:00   \nfiModelDesc                                                    980   \nfiBaseModel                                                    980   \nfiSecondaryDesc                                                NaN   \nfiModelSeries                                                  NaN   \nfiModelDescriptor                                              NaN   \nProductSize                                                 Medium   \nfiProductClassDesc        Wheel Loader - 275.0 to 350.0 Horsepower   \nstate                                                      Florida   \nProductGroup                                                    WL   \nProductGroupDesc                                      Wheel Loader   \nDrive_System                                                   NaN   \nEnclosure                                                    EROPS   \nForks                                          None or Unspecified   \nPad_Type                                                       NaN   \nRide_Control                                   None or Unspecified   \nStick                                                          NaN   \nTransmission                                                   NaN   \nTurbocharged                                                   NaN   \nBlade_Extension                                                NaN   \nBlade_Width                                                    NaN   \nEnclosure_Type                                                 NaN   \nEngine_Horsepower                                              NaN   \nHydraulics                                                 2 Valve   \nPushblock                                                      NaN   \nRipper                                                         NaN   \nScarifier                                                      NaN   \nTip_Control                                                    NaN   \nTire_Size                                      None or Unspecified   \nCoupler                                        None or Unspecified   \nCoupler_System                                                 NaN   \nGrouser_Tracks                                                 NaN   \nHydraulics_Flow                                                NaN   \nTrack_Type                                                     NaN   \nUndercarriage_Pad_Width                                        NaN   \nStick_Length                                                   NaN   \nThumb                                                          NaN   \nPattern_Changer                                                NaN   \nGrouser_Type                                                   NaN   \nBackhoe_Mounting                                               NaN   \nBlade_Type                                                     NaN   \nTravel_Controls                                                NaN   \nDifferential_Type                                         Standard   \nSteering_Controls                                     Conventional   \nsaleYear                                                      1989   \nsaleDay                                                         31   \nsaleMonth                                                        1   \nsaleDayOfWeek                                                    1   \nsaleDayOfYear                                                   31   \n\n                                                          127000  \\\nSalesID                                                  1474844   \nSalePrice                                                11250.0   \nMachineID                                                1279993   \nModelID                                                     7257   \ndatasource                                                   132   \nauctioneerID                                                99.0   \nYearMade                                                    1979   \nMachineHoursCurrentMeter                                     NaN   \nUsageBand                                                    NaN   \nsaledate                                     1989-01-31 00:00:00   \nfiModelDesc                                                  910   \nfiBaseModel                                                  910   \nfiSecondaryDesc                                              NaN   \nfiModelSeries                                                NaN   \nfiModelDescriptor                                            NaN   \nProductSize                                              Compact   \nfiProductClassDesc        Wheel Loader - 60.0 to 80.0 Horsepower   \nstate                                                    Florida   \nProductGroup                                                  WL   \nProductGroupDesc                                    Wheel Loader   \nDrive_System                                                 NaN   \nEnclosure                                                  OROPS   \nForks                                        None or Unspecified   \nPad_Type                                                     NaN   \nRide_Control                                 None or Unspecified   \nStick                                                        NaN   \nTransmission                                                 NaN   \nTurbocharged                                                 NaN   \nBlade_Extension                                              NaN   \nBlade_Width                                                  NaN   \nEnclosure_Type                                               NaN   \nEngine_Horsepower                                            NaN   \nHydraulics                                               2 Valve   \nPushblock                                                    NaN   \nRipper                                                       NaN   \nScarifier                                                    NaN   \nTip_Control                                                  NaN   \nTire_Size                                    None or Unspecified   \nCoupler                                      None or Unspecified   \nCoupler_System                                               NaN   \nGrouser_Tracks                                               NaN   \nHydraulics_Flow                                              NaN   \nTrack_Type                                                   NaN   \nUndercarriage_Pad_Width                                      NaN   \nStick_Length                                                 NaN   \nThumb                                                        NaN   \nPattern_Changer                                              NaN   \nGrouser_Type                                                 NaN   \nBackhoe_Mounting                                             NaN   \nBlade_Type                                                   NaN   \nTravel_Controls                                              NaN   \nDifferential_Type                                       Standard   \nSteering_Controls                                   Conventional   \nsaleYear                                                    1989   \nsaleDay                                                       31   \nsaleMonth                                                      1   \nsaleDayOfWeek                                                  1   \nsaleDayOfYear                                                 31   \n\n                                                            128130  \\\nSalesID                                                    1476264   \nSalePrice                                                  29000.0   \nMachineID                                                  1245504   \nModelID                                                       7277   \ndatasource                                                     132   \nauctioneerID                                                  99.0   \nYearMade                                                      1978   \nMachineHoursCurrentMeter                                       NaN   \nUsageBand                                                      NaN   \nsaledate                                       1989-01-31 00:00:00   \nfiModelDesc                                                    950   \nfiBaseModel                                                    950   \nfiSecondaryDesc                                                NaN   \nfiModelSeries                                                  NaN   \nfiModelDescriptor                                              NaN   \nProductSize                                                 Medium   \nfiProductClassDesc        Wheel Loader - 150.0 to 175.0 Horsepower   \nstate                                                      Florida   \nProductGroup                                                    WL   \nProductGroupDesc                                      Wheel Loader   \nDrive_System                                                   NaN   \nEnclosure                                                    OROPS   \nForks                                          None or Unspecified   \nPad_Type                                                       NaN   \nRide_Control                                   None or Unspecified   \nStick                                                          NaN   \nTransmission                                                   NaN   \nTurbocharged                                                   NaN   \nBlade_Extension                                                NaN   \nBlade_Width                                                    NaN   \nEnclosure_Type                                                 NaN   \nEngine_Horsepower                                              NaN   \nHydraulics                                                 2 Valve   \nPushblock                                                      NaN   \nRipper                                                         NaN   \nScarifier                                                      NaN   \nTip_Control                                                    NaN   \nTire_Size                                      None or Unspecified   \nCoupler                                        None or Unspecified   \nCoupler_System                                                 NaN   \nGrouser_Tracks                                                 NaN   \nHydraulics_Flow                                                NaN   \nTrack_Type                                                     NaN   \nUndercarriage_Pad_Width                                        NaN   \nStick_Length                                                   NaN   \nThumb                                                          NaN   \nPattern_Changer                                                NaN   \nGrouser_Type                                                   NaN   \nBackhoe_Mounting                                               NaN   \nBlade_Type                                                     NaN   \nTravel_Controls                                                NaN   \nDifferential_Type                                         Standard   \nSteering_Controls                                     Conventional   \nsaleYear                                                      1989   \nsaleDay                                                         31   \nsaleMonth                                                        1   \nsaleDayOfWeek                                                    1   \nsaleDayOfYear                                                   31   \n\n                                                            127626  \\\nSalesID                                                    1475662   \nSalePrice                                                  22000.0   \nMachineID                                                  1242833   \nModelID                                                       7277   \ndatasource                                                     132   \nauctioneerID                                                  99.0   \nYearMade                                                      1973   \nMachineHoursCurrentMeter                                       NaN   \nUsageBand                                                      NaN   \nsaledate                                       1989-01-31 00:00:00   \nfiModelDesc                                                    950   \nfiBaseModel                                                    950   \nfiSecondaryDesc                                                NaN   \nfiModelSeries                                                  NaN   \nfiModelDescriptor                                              NaN   \nProductSize                                                 Medium   \nfiProductClassDesc        Wheel Loader - 150.0 to 175.0 Horsepower   \nstate                                                      Florida   \nProductGroup                                                    WL   \nProductGroupDesc                                      Wheel Loader   \nDrive_System                                                   NaN   \nEnclosure                                                    EROPS   \nForks                                          None or Unspecified   \nPad_Type                                                       NaN   \nRide_Control                                   None or Unspecified   \nStick                                                          NaN   \nTransmission                                                   NaN   \nTurbocharged                                                   NaN   \nBlade_Extension                                                NaN   \nBlade_Width                                                    NaN   \nEnclosure_Type                                                 NaN   \nEngine_Horsepower                                              NaN   \nHydraulics                                                 2 Valve   \nPushblock                                                      NaN   \nRipper                                                         NaN   \nScarifier                                                      NaN   \nTip_Control                                                    NaN   \nTire_Size                                                     20.5   \nCoupler                                        None or Unspecified   \nCoupler_System                                                 NaN   \nGrouser_Tracks                                                 NaN   \nHydraulics_Flow                                                NaN   \nTrack_Type                                                     NaN   \nUndercarriage_Pad_Width                                        NaN   \nStick_Length                                                   NaN   \nThumb                                                          NaN   \nPattern_Changer                                                NaN   \nGrouser_Type                                                   NaN   \nBackhoe_Mounting                                               NaN   \nBlade_Type                                                     NaN   \nTravel_Controls                                                NaN   \nDifferential_Type                                         Standard   \nSteering_Controls                                     Conventional   \nsaleYear                                                      1989   \nsaleDay                                                         31   \nsaleMonth                                                        1   \nsaleDayOfWeek                                                    1   \nsaleDayOfYear                                                   31   \n\n                                                          55455   \\\nSalesID                                                  1305337   \nSalePrice                                                17000.0   \nMachineID                                                1517075   \nModelID                                                     3356   \ndatasource                                                   132   \nauctioneerID                                                99.0   \nYearMade                                                    1972   \nMachineHoursCurrentMeter                                     NaN   \nUsageBand                                                    NaN   \nsaledate                                     1989-01-31 00:00:00   \nfiModelDesc                                                  12F   \nfiBaseModel                                                   12   \nfiSecondaryDesc                                                F   \nfiModelSeries                                                NaN   \nfiModelDescriptor                                            NaN   \nProductSize                                                  NaN   \nfiProductClassDesc        Motorgrader - 45.0 to 130.0 Horsepower   \nstate                                                    Florida   \nProductGroup                                                  MG   \nProductGroupDesc                                   Motor Graders   \nDrive_System                                                  No   \nEnclosure                                                  OROPS   \nForks                                                        NaN   \nPad_Type                                                     NaN   \nRide_Control                                                 NaN   \nStick                                                        NaN   \nTransmission                                 None or Unspecified   \nTurbocharged                                                 NaN   \nBlade_Extension                              None or Unspecified   \nBlade_Width                                  None or Unspecified   \nEnclosure_Type                               None or Unspecified   \nEngine_Horsepower                                             No   \nHydraulics                                     Base + 1 Function   \nPushblock                                    None or Unspecified   \nRipper                                       None or Unspecified   \nScarifier                                                    Yes   \nTip_Control                                  None or Unspecified   \nTire_Size                                                    14\"   \nCoupler                                                      NaN   \nCoupler_System                                               NaN   \nGrouser_Tracks                                               NaN   \nHydraulics_Flow                                              NaN   \nTrack_Type                                                   NaN   \nUndercarriage_Pad_Width                                      NaN   \nStick_Length                                                 NaN   \nThumb                                                        NaN   \nPattern_Changer                                              NaN   \nGrouser_Type                                                 NaN   \nBackhoe_Mounting                                             NaN   \nBlade_Type                                                   NaN   \nTravel_Controls                                              NaN   \nDifferential_Type                                            NaN   \nSteering_Controls                                            NaN   \nsaleYear                                                    1989   \nsaleDay                                                       31   \nsaleMonth                                                      1   \nsaleDayOfWeek                                                  1   \nsaleDayOfYear                                                 31   \n\n                                                          55454   \nSalesID                                                  1305336  \nSalePrice                                                17000.0  \nMachineID                                                1236263  \nModelID                                                     3356  \ndatasource                                                   132  \nauctioneerID                                                99.0  \nYearMade                                                    1972  \nMachineHoursCurrentMeter                                     NaN  \nUsageBand                                                    NaN  \nsaledate                                     1989-01-31 00:00:00  \nfiModelDesc                                                  12F  \nfiBaseModel                                                   12  \nfiSecondaryDesc                                                F  \nfiModelSeries                                                NaN  \nfiModelDescriptor                                            NaN  \nProductSize                                                  NaN  \nfiProductClassDesc        Motorgrader - 45.0 to 130.0 Horsepower  \nstate                                                    Florida  \nProductGroup                                                  MG  \nProductGroupDesc                                   Motor Graders  \nDrive_System                                                  No  \nEnclosure                                                  OROPS  \nForks                                                        NaN  \nPad_Type                                                     NaN  \nRide_Control                                                 NaN  \nStick                                                        NaN  \nTransmission                                 None or Unspecified  \nTurbocharged                                                 NaN  \nBlade_Extension                              None or Unspecified  \nBlade_Width                                  None or Unspecified  \nEnclosure_Type                               None or Unspecified  \nEngine_Horsepower                                             No  \nHydraulics                                     Base + 1 Function  \nPushblock                                    None or Unspecified  \nRipper                                       None or Unspecified  \nScarifier                                                    Yes  \nTip_Control                                  None or Unspecified  \nTire_Size                                                    14\"  \nCoupler                                                      NaN  \nCoupler_System                                               NaN  \nGrouser_Tracks                                               NaN  \nHydraulics_Flow                                              NaN  \nTrack_Type                                                   NaN  \nUndercarriage_Pad_Width                                      NaN  \nStick_Length                                                 NaN  \nThumb                                                        NaN  \nPattern_Changer                                              NaN  \nGrouser_Type                                                 NaN  \nBackhoe_Mounting                                             NaN  \nBlade_Type                                                   NaN  \nTravel_Controls                                              NaN  \nDifferential_Type                                            NaN  \nSteering_Controls                                            NaN  \nsaleYear                                                    1989  \nsaleDay                                                       31  \nsaleMonth                                                      1  \nsaleDayOfWeek                                                  1  \nsaleDayOfYear                                                 31  ",
      "text/html": "<div>\n<style scoped>\n    .dataframe tbody tr th:only-of-type {\n        vertical-align: middle;\n    }\n\n    .dataframe tbody tr th {\n        vertical-align: top;\n    }\n\n    .dataframe thead th {\n        text-align: right;\n    }\n</style>\n<table border=\"1\" class=\"dataframe\">\n  <thead>\n    <tr style=\"text-align: right;\">\n      <th></th>\n      <th>205615</th>\n      <th>274835</th>\n      <th>141296</th>\n      <th>212552</th>\n      <th>62755</th>\n      <th>54653</th>\n      <th>81383</th>\n      <th>204924</th>\n      <th>135376</th>\n      <th>113390</th>\n      <th>113394</th>\n      <th>116419</th>\n      <th>32138</th>\n      <th>127610</th>\n      <th>76171</th>\n      <th>127000</th>\n      <th>128130</th>\n      <th>127626</th>\n      <th>55455</th>\n      <th>55454</th>\n    </tr>\n  </thead>\n  <tbody>\n    <tr>\n      <th>SalesID</th>\n      <td>1646770</td>\n      <td>1821514</td>\n      <td>1505138</td>\n      <td>1671174</td>\n      <td>1329056</td>\n      <td>1301884</td>\n      <td>1379228</td>\n      <td>1645390</td>\n      <td>1493279</td>\n      <td>1449549</td>\n      <td>1449555</td>\n      <td>1453775</td>\n      <td>1264985</td>\n      <td>1475641</td>\n      <td>1364654</td>\n      <td>1474844</td>\n      <td>1476264</td>\n      <td>1475662</td>\n      <td>1305337</td>\n      <td>1305336</td>\n    </tr>\n    <tr>\n      <th>SalePrice</th>\n      <td>9500.0</td>\n      <td>14000.0</td>\n      <td>50000.0</td>\n      <td>16000.0</td>\n      <td>22000.0</td>\n      <td>23500.0</td>\n      <td>31000.0</td>\n      <td>11750.0</td>\n      <td>63000.0</td>\n      <td>13000.0</td>\n      <td>10500.0</td>\n      <td>20000.0</td>\n      <td>20000.0</td>\n      <td>23500.0</td>\n      <td>14000.0</td>\n      <td>11250.0</td>\n      <td>29000.0</td>\n      <td>22000.0</td>\n      <td>17000.0</td>\n      <td>17000.0</td>\n    </tr>\n    <tr>\n      <th>MachineID</th>\n      <td>1126363</td>\n      <td>1194089</td>\n      <td>1473654</td>\n      <td>1327630</td>\n      <td>1336053</td>\n      <td>1182999</td>\n      <td>1082797</td>\n      <td>1527216</td>\n      <td>1363756</td>\n      <td>1289412</td>\n      <td>1102310</td>\n      <td>1514650</td>\n      <td>1204499</td>\n      <td>1194367</td>\n      <td>1270628</td>\n      <td>1279993</td>\n      <td>1245504</td>\n      <td>1242833</td>\n      <td>1517075</td>\n      <td>1236263</td>\n    </tr>\n    <tr>\n      <th>ModelID</th>\n      <td>8434</td>\n      <td>10150</td>\n      <td>4139</td>\n      <td>8591</td>\n      <td>4089</td>\n      <td>4123</td>\n      <td>7620</td>\n      <td>8202</td>\n      <td>2759</td>\n      <td>3356</td>\n      <td>3356</td>\n      <td>7008</td>\n      <td>6788</td>\n      <td>7277</td>\n      <td>7289</td>\n      <td>7257</td>\n      <td>7277</td>\n      <td>7277</td>\n      <td>3356</td>\n      <td>3356</td>\n    </tr>\n    <tr>\n      <th>datasource</th>\n      <td>132</td>\n      <td>132</td>\n      <td>132</td>\n      <td>132</td>\n      <td>132</td>\n      <td>132</td>\n      <td>132</td>\n      <td>132</td>\n      <td>132</td>\n      <td>132</td>\n      <td>132</td>\n      <td>132</td>\n      <td>132</td>\n      <td>132</td>\n      <td>132</td>\n      <td>132</td>\n      <td>132</td>\n      <td>132</td>\n      <td>132</td>\n      <td>132</td>\n    </tr>\n    <tr>\n      <th>auctioneerID</th>\n      <td>18.0</td>\n      <td>99.0</td>\n      <td>99.0</td>\n      <td>99.0</td>\n      <td>99.0</td>\n      <td>99.0</td>\n      <td>99.0</td>\n      <td>99.0</td>\n      <td>99.0</td>\n      <td>99.0</td>\n      <td>99.0</td>\n      <td>99.0</td>\n      <td>99.0</td>\n      <td>99.0</td>\n      <td>99.0</td>\n      <td>99.0</td>\n      <td>99.0</td>\n      <td>99.0</td>\n      <td>99.0</td>\n      <td>99.0</td>\n    </tr>\n    <tr>\n      <th>YearMade</th>\n      <td>1974</td>\n      <td>1980</td>\n      <td>1978</td>\n      <td>1980</td>\n      <td>1984</td>\n      <td>1976</td>\n      <td>1986</td>\n      <td>1970</td>\n      <td>1987</td>\n      <td>1966</td>\n      <td>1966</td>\n      <td>1974</td>\n      <td>1984</td>\n      <td>1973</td>\n      <td>1968</td>\n      <td>1979</td>\n      <td>1978</td>\n      <td>1973</td>\n      <td>1972</td>\n      <td>1972</td>\n    </tr>\n    <tr>\n      <th>MachineHoursCurrentMeter</th>\n      <td>NaN</td>\n      <td>NaN</td>\n      <td>NaN</td>\n      <td>NaN</td>\n      <td>NaN</td>\n      <td>NaN</td>\n      <td>NaN</td>\n      <td>NaN</td>\n      <td>NaN</td>\n      <td>NaN</td>\n      <td>NaN</td>\n      <td>NaN</td>\n      <td>NaN</td>\n      <td>NaN</td>\n      <td>NaN</td>\n      <td>NaN</td>\n      <td>NaN</td>\n      <td>NaN</td>\n      <td>NaN</td>\n      <td>NaN</td>\n    </tr>\n    <tr>\n      <th>UsageBand</th>\n      <td>NaN</td>\n      <td>NaN</td>\n      <td>NaN</td>\n      <td>NaN</td>\n      <td>NaN</td>\n      <td>NaN</td>\n      <td>NaN</td>\n      <td>NaN</td>\n      <td>NaN</td>\n      <td>NaN</td>\n      <td>NaN</td>\n      <td>NaN</td>\n      <td>NaN</td>\n      <td>NaN</td>\n      <td>NaN</td>\n      <td>NaN</td>\n      <td>NaN</td>\n      <td>NaN</td>\n      <td>NaN</td>\n      <td>NaN</td>\n    </tr>\n    <tr>\n      <th>saledate</th>\n      <td>1989-01-17 00:00:00</td>\n      <td>1989-01-31 00:00:00</td>\n      <td>1989-01-31 00:00:00</td>\n      <td>1989-01-31 00:00:00</td>\n      <td>1989-01-31 00:00:00</td>\n      <td>1989-01-31 00:00:00</td>\n      <td>1989-01-31 00:00:00</td>\n      <td>1989-01-31 00:00:00</td>\n      <td>1989-01-31 00:00:00</td>\n      <td>1989-01-31 00:00:00</td>\n      <td>1989-01-31 00:00:00</td>\n      <td>1989-01-31 00:00:00</td>\n      <td>1989-01-31 00:00:00</td>\n      <td>1989-01-31 00:00:00</td>\n      <td>1989-01-31 00:00:00</td>\n      <td>1989-01-31 00:00:00</td>\n      <td>1989-01-31 00:00:00</td>\n      <td>1989-01-31 00:00:00</td>\n      <td>1989-01-31 00:00:00</td>\n      <td>1989-01-31 00:00:00</td>\n    </tr>\n    <tr>\n      <th>fiModelDesc</th>\n      <td>TD20</td>\n      <td>A66</td>\n      <td>D7G</td>\n      <td>A62</td>\n      <td>D3B</td>\n      <td>D6C</td>\n      <td>IT12</td>\n      <td>544</td>\n      <td>D5HII</td>\n      <td>12F</td>\n      <td>12F</td>\n      <td>225</td>\n      <td>580</td>\n      <td>950</td>\n      <td>980</td>\n      <td>910</td>\n      <td>950</td>\n      <td>950</td>\n      <td>12F</td>\n      <td>12F</td>\n    </tr>\n    <tr>\n      <th>fiBaseModel</th>\n      <td>TD20</td>\n      <td>A66</td>\n      <td>D7</td>\n      <td>A62</td>\n      <td>D3</td>\n      <td>D6</td>\n      <td>IT12</td>\n      <td>544</td>\n      <td>D5</td>\n      <td>12</td>\n      <td>12</td>\n      <td>225</td>\n      <td>580</td>\n      <td>950</td>\n      <td>980</td>\n      <td>910</td>\n      <td>950</td>\n      <td>950</td>\n      <td>12</td>\n      <td>12</td>\n    </tr>\n    <tr>\n      <th>fiSecondaryDesc</th>\n      <td>NaN</td>\n      <td>NaN</td>\n      <td>G</td>\n      <td>NaN</td>\n      <td>B</td>\n      <td>C</td>\n      <td>NaN</td>\n      <td>NaN</td>\n      <td>H</td>\n      <td>F</td>\n      <td>F</td>\n      <td>NaN</td>\n      <td>NaN</td>\n      <td>NaN</td>\n      <td>NaN</td>\n      <td>NaN</td>\n      <td>NaN</td>\n      <td>NaN</td>\n      <td>F</td>\n      <td>F</td>\n    </tr>\n    <tr>\n      <th>fiModelSeries</th>\n      <td>NaN</td>\n      <td>NaN</td>\n      <td>NaN</td>\n      <td>NaN</td>\n      <td>NaN</td>\n      <td>NaN</td>\n      <td>NaN</td>\n      <td>NaN</td>\n      <td>II</td>\n      <td>NaN</td>\n      <td>NaN</td>\n      <td>NaN</td>\n      <td>NaN</td>\n      <td>NaN</td>\n      <td>NaN</td>\n      <td>NaN</td>\n      <td>NaN</td>\n      <td>NaN</td>\n      <td>NaN</td>\n      <td>NaN</td>\n    </tr>\n    <tr>\n      <th>fiModelDescriptor</th>\n      <td>NaN</td>\n      <td>NaN</td>\n      <td>NaN</td>\n      <td>NaN</td>\n      <td>NaN</td>\n      <td>NaN</td>\n      <td>NaN</td>\n      <td>NaN</td>\n      <td>NaN</td>\n      <td>NaN</td>\n      <td>NaN</td>\n      <td>NaN</td>\n      <td>NaN</td>\n      <td>NaN</td>\n      <td>NaN</td>\n      <td>NaN</td>\n      <td>NaN</td>\n      <td>NaN</td>\n      <td>NaN</td>\n      <td>NaN</td>\n    </tr>\n    <tr>\n      <th>ProductSize</th>\n      <td>Medium</td>\n      <td>NaN</td>\n      <td>Large</td>\n      <td>NaN</td>\n      <td>NaN</td>\n      <td>Medium</td>\n      <td>Compact</td>\n      <td>NaN</td>\n      <td>Medium</td>\n      <td>NaN</td>\n      <td>NaN</td>\n      <td>Large / Medium</td>\n      <td>NaN</td>\n      <td>Medium</td>\n      <td>Medium</td>\n      <td>Compact</td>\n      <td>Medium</td>\n      <td>Medium</td>\n      <td>NaN</td>\n      <td>NaN</td>\n    </tr>\n    <tr>\n      <th>fiProductClassDesc</th>\n      <td>Track Type Tractor, Dozer - 105.0 to 130.0 Hor...</td>\n      <td>Wheel Loader - 120.0 to 135.0 Horsepower</td>\n      <td>Track Type Tractor, Dozer - 190.0 to 260.0 Hor...</td>\n      <td>Wheel Loader - Unidentified</td>\n      <td>Track Type Tractor, Dozer - 20.0 to 75.0 Horse...</td>\n      <td>Track Type Tractor, Dozer - 130.0 to 160.0 Hor...</td>\n      <td>Wheel Loader - 60.0 to 80.0 Horsepower</td>\n      <td>Wheel Loader - 90.0 to 100.0 Horsepower</td>\n      <td>Track Type Tractor, Dozer - 130.0 to 160.0 Hor...</td>\n      <td>Motorgrader - 45.0 to 130.0 Horsepower</td>\n      <td>Motorgrader - 45.0 to 130.0 Horsepower</td>\n      <td>Hydraulic Excavator, Track - 24.0 to 28.0 Metr...</td>\n      <td>Backhoe Loader - 14.0 to 15.0 Ft Standard Digg...</td>\n      <td>Wheel Loader - 150.0 to 175.0 Horsepower</td>\n      <td>Wheel Loader - 275.0 to 350.0 Horsepower</td>\n      <td>Wheel Loader - 60.0 to 80.0 Horsepower</td>\n      <td>Wheel Loader - 150.0 to 175.0 Horsepower</td>\n      <td>Wheel Loader - 150.0 to 175.0 Horsepower</td>\n      <td>Motorgrader - 45.0 to 130.0 Horsepower</td>\n      <td>Motorgrader - 45.0 to 130.0 Horsepower</td>\n    </tr>\n    <tr>\n      <th>state</th>\n      <td>Texas</td>\n      <td>Florida</td>\n      <td>Florida</td>\n      <td>Florida</td>\n      <td>Florida</td>\n      <td>Florida</td>\n      <td>Florida</td>\n      <td>Florida</td>\n      <td>Florida</td>\n      <td>Florida</td>\n      <td>Florida</td>\n      <td>Florida</td>\n      <td>Florida</td>\n      <td>Florida</td>\n      <td>Florida</td>\n      <td>Florida</td>\n      <td>Florida</td>\n      <td>Florida</td>\n      <td>Florida</td>\n      <td>Florida</td>\n    </tr>\n    <tr>\n      <th>ProductGroup</th>\n      <td>TTT</td>\n      <td>WL</td>\n      <td>TTT</td>\n      <td>WL</td>\n      <td>TTT</td>\n      <td>TTT</td>\n      <td>WL</td>\n      <td>WL</td>\n      <td>TTT</td>\n      <td>MG</td>\n      <td>MG</td>\n      <td>TEX</td>\n      <td>BL</td>\n      <td>WL</td>\n      <td>WL</td>\n      <td>WL</td>\n      <td>WL</td>\n      <td>WL</td>\n      <td>MG</td>\n      <td>MG</td>\n    </tr>\n    <tr>\n      <th>ProductGroupDesc</th>\n      <td>Track Type Tractors</td>\n      <td>Wheel Loader</td>\n      <td>Track Type Tractors</td>\n      <td>Wheel Loader</td>\n      <td>Track Type Tractors</td>\n      <td>Track Type Tractors</td>\n      <td>Wheel Loader</td>\n      <td>Wheel Loader</td>\n      <td>Track Type Tractors</td>\n      <td>Motor Graders</td>\n      <td>Motor Graders</td>\n      <td>Track Excavators</td>\n      <td>Backhoe Loaders</td>\n      <td>Wheel Loader</td>\n      <td>Wheel Loader</td>\n      <td>Wheel Loader</td>\n      <td>Wheel Loader</td>\n      <td>Wheel Loader</td>\n      <td>Motor Graders</td>\n      <td>Motor Graders</td>\n    </tr>\n    <tr>\n      <th>Drive_System</th>\n      <td>NaN</td>\n      <td>NaN</td>\n      <td>NaN</td>\n      <td>NaN</td>\n      <td>NaN</td>\n      <td>NaN</td>\n      <td>NaN</td>\n      <td>NaN</td>\n      <td>NaN</td>\n      <td>No</td>\n      <td>No</td>\n      <td>NaN</td>\n      <td>Four Wheel Drive</td>\n      <td>NaN</td>\n      <td>NaN</td>\n      <td>NaN</td>\n      <td>NaN</td>\n      <td>NaN</td>\n      <td>No</td>\n      <td>No</td>\n    </tr>\n    <tr>\n      <th>Enclosure</th>\n      <td>OROPS</td>\n      <td>OROPS</td>\n      <td>OROPS</td>\n      <td>EROPS</td>\n      <td>OROPS</td>\n      <td>OROPS</td>\n      <td>EROPS</td>\n      <td>OROPS</td>\n      <td>EROPS</td>\n      <td>OROPS</td>\n      <td>OROPS</td>\n      <td>EROPS</td>\n      <td>OROPS</td>\n      <td>EROPS</td>\n      <td>EROPS</td>\n      <td>OROPS</td>\n      <td>OROPS</td>\n      <td>EROPS</td>\n      <td>OROPS</td>\n      <td>OROPS</td>\n    </tr>\n    <tr>\n      <th>Forks</th>\n      <td>NaN</td>\n      <td>None or Unspecified</td>\n      <td>NaN</td>\n      <td>None or Unspecified</td>\n      <td>NaN</td>\n      <td>NaN</td>\n      <td>Yes</td>\n      <td>Yes</td>\n      <td>NaN</td>\n      <td>NaN</td>\n      <td>NaN</td>\n      <td>NaN</td>\n      <td>None or Unspecified</td>\n      <td>None or Unspecified</td>\n      <td>None or Unspecified</td>\n      <td>None or Unspecified</td>\n      <td>None or Unspecified</td>\n      <td>None or Unspecified</td>\n      <td>NaN</td>\n      <td>NaN</td>\n    </tr>\n    <tr>\n      <th>Pad_Type</th>\n      <td>NaN</td>\n      <td>NaN</td>\n      <td>NaN</td>\n      <td>NaN</td>\n      <td>NaN</td>\n      <td>NaN</td>\n      <td>NaN</td>\n      <td>NaN</td>\n      <td>NaN</td>\n      <td>NaN</td>\n      <td>NaN</td>\n      <td>NaN</td>\n      <td>None or Unspecified</td>\n      <td>NaN</td>\n      <td>NaN</td>\n      <td>NaN</td>\n      <td>NaN</td>\n      <td>NaN</td>\n      <td>NaN</td>\n      <td>NaN</td>\n    </tr>\n    <tr>\n      <th>Ride_Control</th>\n      <td>NaN</td>\n      <td>None or Unspecified</td>\n      <td>NaN</td>\n      <td>None or Unspecified</td>\n      <td>NaN</td>\n      <td>NaN</td>\n      <td>None or Unspecified</td>\n      <td>None or Unspecified</td>\n      <td>NaN</td>\n      <td>NaN</td>\n      <td>NaN</td>\n      <td>NaN</td>\n      <td>No</td>\n      <td>None or Unspecified</td>\n      <td>None or Unspecified</td>\n      <td>None or Unspecified</td>\n      <td>None or Unspecified</td>\n      <td>None or Unspecified</td>\n      <td>NaN</td>\n      <td>NaN</td>\n    </tr>\n    <tr>\n      <th>Stick</th>\n      <td>NaN</td>\n      <td>NaN</td>\n      <td>NaN</td>\n      <td>NaN</td>\n      <td>NaN</td>\n      <td>NaN</td>\n      <td>NaN</td>\n      <td>NaN</td>\n      <td>NaN</td>\n      <td>NaN</td>\n      <td>NaN</td>\n      <td>NaN</td>\n      <td>Standard</td>\n      <td>NaN</td>\n      <td>NaN</td>\n      <td>NaN</td>\n      <td>NaN</td>\n      <td>NaN</td>\n      <td>NaN</td>\n      <td>NaN</td>\n    </tr>\n    <tr>\n      <th>Transmission</th>\n      <td>Direct Drive</td>\n      <td>NaN</td>\n      <td>Standard</td>\n      <td>NaN</td>\n      <td>Standard</td>\n      <td>Standard</td>\n      <td>NaN</td>\n      <td>NaN</td>\n      <td>Powershift</td>\n      <td>None or Unspecified</td>\n      <td>None or Unspecified</td>\n      <td>NaN</td>\n      <td>Standard</td>\n      <td>NaN</td>\n      <td>NaN</td>\n      <td>NaN</td>\n      <td>NaN</td>\n      <td>NaN</td>\n      <td>None or Unspecified</td>\n      <td>None or Unspecified</td>\n    </tr>\n    <tr>\n      <th>Turbocharged</th>\n      <td>NaN</td>\n      <td>NaN</td>\n      <td>NaN</td>\n      <td>NaN</td>\n      <td>NaN</td>\n      <td>NaN</td>\n      <td>NaN</td>\n      <td>NaN</td>\n      <td>NaN</td>\n      <td>NaN</td>\n      <td>NaN</td>\n      <td>NaN</td>\n      <td>None or Unspecified</td>\n      <td>NaN</td>\n      <td>NaN</td>\n      <td>NaN</td>\n      <td>NaN</td>\n      <td>NaN</td>\n      <td>NaN</td>\n      <td>NaN</td>\n    </tr>\n    <tr>\n      <th>Blade_Extension</th>\n      <td>NaN</td>\n      <td>NaN</td>\n      <td>NaN</td>\n      <td>NaN</td>\n      <td>NaN</td>\n      <td>NaN</td>\n      <td>NaN</td>\n      <td>NaN</td>\n      <td>NaN</td>\n      <td>None or Unspecified</td>\n      <td>None or Unspecified</td>\n      <td>NaN</td>\n      <td>NaN</td>\n      <td>NaN</td>\n      <td>NaN</td>\n      <td>NaN</td>\n      <td>NaN</td>\n      <td>NaN</td>\n      <td>None or Unspecified</td>\n      <td>None or Unspecified</td>\n    </tr>\n    <tr>\n      <th>Blade_Width</th>\n      <td>NaN</td>\n      <td>NaN</td>\n      <td>NaN</td>\n      <td>NaN</td>\n      <td>NaN</td>\n      <td>NaN</td>\n      <td>NaN</td>\n      <td>NaN</td>\n      <td>NaN</td>\n      <td>None or Unspecified</td>\n      <td>None or Unspecified</td>\n      <td>NaN</td>\n      <td>NaN</td>\n      <td>NaN</td>\n      <td>NaN</td>\n      <td>NaN</td>\n      <td>NaN</td>\n      <td>NaN</td>\n      <td>None or Unspecified</td>\n      <td>None or Unspecified</td>\n    </tr>\n    <tr>\n      <th>Enclosure_Type</th>\n      <td>NaN</td>\n      <td>NaN</td>\n      <td>NaN</td>\n      <td>NaN</td>\n      <td>NaN</td>\n      <td>NaN</td>\n      <td>NaN</td>\n      <td>NaN</td>\n      <td>NaN</td>\n      <td>None or Unspecified</td>\n      <td>None or Unspecified</td>\n      <td>NaN</td>\n      <td>NaN</td>\n      <td>NaN</td>\n      <td>NaN</td>\n      <td>NaN</td>\n      <td>NaN</td>\n      <td>NaN</td>\n      <td>None or Unspecified</td>\n      <td>None or Unspecified</td>\n    </tr>\n    <tr>\n      <th>Engine_Horsepower</th>\n      <td>NaN</td>\n      <td>NaN</td>\n      <td>NaN</td>\n      <td>NaN</td>\n      <td>NaN</td>\n      <td>NaN</td>\n      <td>NaN</td>\n      <td>NaN</td>\n      <td>NaN</td>\n      <td>No</td>\n      <td>No</td>\n      <td>NaN</td>\n      <td>NaN</td>\n      <td>NaN</td>\n      <td>NaN</td>\n      <td>NaN</td>\n      <td>NaN</td>\n      <td>NaN</td>\n      <td>No</td>\n      <td>No</td>\n    </tr>\n    <tr>\n      <th>Hydraulics</th>\n      <td>2 Valve</td>\n      <td>2 Valve</td>\n      <td>2 Valve</td>\n      <td>2 Valve</td>\n      <td>2 Valve</td>\n      <td>2 Valve</td>\n      <td>2 Valve</td>\n      <td>2 Valve</td>\n      <td>2 Valve</td>\n      <td>Base + 1 Function</td>\n      <td>Base + 1 Function</td>\n      <td>Standard</td>\n      <td>NaN</td>\n      <td>2 Valve</td>\n      <td>2 Valve</td>\n      <td>2 Valve</td>\n      <td>2 Valve</td>\n      <td>2 Valve</td>\n      <td>Base + 1 Function</td>\n      <td>Base + 1 Function</td>\n    </tr>\n    <tr>\n      <th>Pushblock</th>\n      <td>NaN</td>\n      <td>NaN</td>\n      <td>NaN</td>\n      <td>NaN</td>\n      <td>NaN</td>\n      <td>NaN</td>\n      <td>NaN</td>\n      <td>NaN</td>\n      <td>NaN</td>\n      <td>None or Unspecified</td>\n      <td>None or Unspecified</td>\n      <td>NaN</td>\n      <td>NaN</td>\n      <td>NaN</td>\n      <td>NaN</td>\n      <td>NaN</td>\n      <td>NaN</td>\n      <td>NaN</td>\n      <td>None or Unspecified</td>\n      <td>None or Unspecified</td>\n    </tr>\n    <tr>\n      <th>Ripper</th>\n      <td>None or Unspecified</td>\n      <td>NaN</td>\n      <td>None or Unspecified</td>\n      <td>NaN</td>\n      <td>None or Unspecified</td>\n      <td>None or Unspecified</td>\n      <td>NaN</td>\n      <td>NaN</td>\n      <td>None or Unspecified</td>\n      <td>None or Unspecified</td>\n      <td>None or Unspecified</td>\n      <td>NaN</td>\n      <td>NaN</td>\n      <td>NaN</td>\n      <td>NaN</td>\n      <td>NaN</td>\n      <td>NaN</td>\n      <td>NaN</td>\n      <td>None or Unspecified</td>\n      <td>None or Unspecified</td>\n    </tr>\n    <tr>\n      <th>Scarifier</th>\n      <td>NaN</td>\n      <td>NaN</td>\n      <td>NaN</td>\n      <td>NaN</td>\n      <td>NaN</td>\n      <td>NaN</td>\n      <td>NaN</td>\n      <td>NaN</td>\n      <td>NaN</td>\n      <td>Yes</td>\n      <td>Yes</td>\n      <td>NaN</td>\n      <td>NaN</td>\n      <td>NaN</td>\n      <td>NaN</td>\n      <td>NaN</td>\n      <td>NaN</td>\n      <td>NaN</td>\n      <td>Yes</td>\n      <td>Yes</td>\n    </tr>\n    <tr>\n      <th>Tip_Control</th>\n      <td>NaN</td>\n      <td>NaN</td>\n      <td>NaN</td>\n      <td>NaN</td>\n      <td>NaN</td>\n      <td>NaN</td>\n      <td>NaN</td>\n      <td>NaN</td>\n      <td>NaN</td>\n      <td>Sideshift &amp; Tip</td>\n      <td>Sideshift &amp; Tip</td>\n      <td>NaN</td>\n      <td>NaN</td>\n      <td>NaN</td>\n      <td>NaN</td>\n      <td>NaN</td>\n      <td>NaN</td>\n      <td>NaN</td>\n      <td>None or Unspecified</td>\n      <td>None or Unspecified</td>\n    </tr>\n    <tr>\n      <th>Tire_Size</th>\n      <td>NaN</td>\n      <td>None or Unspecified</td>\n      <td>NaN</td>\n      <td>None or Unspecified</td>\n      <td>NaN</td>\n      <td>NaN</td>\n      <td>None or Unspecified</td>\n      <td>None or Unspecified</td>\n      <td>NaN</td>\n      <td>None or Unspecified</td>\n      <td>None or Unspecified</td>\n      <td>NaN</td>\n      <td>NaN</td>\n      <td>20.5</td>\n      <td>None or Unspecified</td>\n      <td>None or Unspecified</td>\n      <td>None or Unspecified</td>\n      <td>20.5</td>\n      <td>14\"</td>\n      <td>14\"</td>\n    </tr>\n    <tr>\n      <th>Coupler</th>\n      <td>NaN</td>\n      <td>None or Unspecified</td>\n      <td>NaN</td>\n      <td>None or Unspecified</td>\n      <td>NaN</td>\n      <td>NaN</td>\n      <td>None or Unspecified</td>\n      <td>None or Unspecified</td>\n      <td>NaN</td>\n      <td>NaN</td>\n      <td>NaN</td>\n      <td>None or Unspecified</td>\n      <td>NaN</td>\n      <td>None or Unspecified</td>\n      <td>None or Unspecified</td>\n      <td>None or Unspecified</td>\n      <td>None or Unspecified</td>\n      <td>None or Unspecified</td>\n      <td>NaN</td>\n      <td>NaN</td>\n    </tr>\n    <tr>\n      <th>Coupler_System</th>\n      <td>NaN</td>\n      <td>NaN</td>\n      <td>NaN</td>\n      <td>NaN</td>\n      <td>NaN</td>\n      <td>NaN</td>\n      <td>NaN</td>\n      <td>NaN</td>\n      <td>NaN</td>\n      <td>NaN</td>\n      <td>NaN</td>\n      <td>NaN</td>\n      <td>NaN</td>\n      <td>NaN</td>\n      <td>NaN</td>\n      <td>NaN</td>\n      <td>NaN</td>\n      <td>NaN</td>\n      <td>NaN</td>\n      <td>NaN</td>\n    </tr>\n    <tr>\n      <th>Grouser_Tracks</th>\n      <td>NaN</td>\n      <td>NaN</td>\n      <td>NaN</td>\n      <td>NaN</td>\n      <td>NaN</td>\n      <td>NaN</td>\n      <td>NaN</td>\n      <td>NaN</td>\n      <td>NaN</td>\n      <td>NaN</td>\n      <td>NaN</td>\n      <td>NaN</td>\n      <td>NaN</td>\n      <td>NaN</td>\n      <td>NaN</td>\n      <td>NaN</td>\n      <td>NaN</td>\n      <td>NaN</td>\n      <td>NaN</td>\n      <td>NaN</td>\n    </tr>\n    <tr>\n      <th>Hydraulics_Flow</th>\n      <td>NaN</td>\n      <td>NaN</td>\n      <td>NaN</td>\n      <td>NaN</td>\n      <td>NaN</td>\n      <td>NaN</td>\n      <td>NaN</td>\n      <td>NaN</td>\n      <td>NaN</td>\n      <td>NaN</td>\n      <td>NaN</td>\n      <td>NaN</td>\n      <td>NaN</td>\n      <td>NaN</td>\n      <td>NaN</td>\n      <td>NaN</td>\n      <td>NaN</td>\n      <td>NaN</td>\n      <td>NaN</td>\n      <td>NaN</td>\n    </tr>\n    <tr>\n      <th>Track_Type</th>\n      <td>NaN</td>\n      <td>NaN</td>\n      <td>NaN</td>\n      <td>NaN</td>\n      <td>NaN</td>\n      <td>NaN</td>\n      <td>NaN</td>\n      <td>NaN</td>\n      <td>NaN</td>\n      <td>NaN</td>\n      <td>NaN</td>\n      <td>Steel</td>\n      <td>NaN</td>\n      <td>NaN</td>\n      <td>NaN</td>\n      <td>NaN</td>\n      <td>NaN</td>\n      <td>NaN</td>\n      <td>NaN</td>\n      <td>NaN</td>\n    </tr>\n    <tr>\n      <th>Undercarriage_Pad_Width</th>\n      <td>NaN</td>\n      <td>NaN</td>\n      <td>NaN</td>\n      <td>NaN</td>\n      <td>NaN</td>\n      <td>NaN</td>\n      <td>NaN</td>\n      <td>NaN</td>\n      <td>NaN</td>\n      <td>NaN</td>\n      <td>NaN</td>\n      <td>24 inch</td>\n      <td>NaN</td>\n      <td>NaN</td>\n      <td>NaN</td>\n      <td>NaN</td>\n      <td>NaN</td>\n      <td>NaN</td>\n      <td>NaN</td>\n      <td>NaN</td>\n    </tr>\n    <tr>\n      <th>Stick_Length</th>\n      <td>NaN</td>\n      <td>NaN</td>\n      <td>NaN</td>\n      <td>NaN</td>\n      <td>NaN</td>\n      <td>NaN</td>\n      <td>NaN</td>\n      <td>NaN</td>\n      <td>NaN</td>\n      <td>NaN</td>\n      <td>NaN</td>\n      <td>None or Unspecified</td>\n      <td>NaN</td>\n      <td>NaN</td>\n      <td>NaN</td>\n      <td>NaN</td>\n      <td>NaN</td>\n      <td>NaN</td>\n      <td>NaN</td>\n      <td>NaN</td>\n    </tr>\n    <tr>\n      <th>Thumb</th>\n      <td>NaN</td>\n      <td>NaN</td>\n      <td>NaN</td>\n      <td>NaN</td>\n      <td>NaN</td>\n      <td>NaN</td>\n      <td>NaN</td>\n      <td>NaN</td>\n      <td>NaN</td>\n      <td>NaN</td>\n      <td>NaN</td>\n      <td>None or Unspecified</td>\n      <td>NaN</td>\n      <td>NaN</td>\n      <td>NaN</td>\n      <td>NaN</td>\n      <td>NaN</td>\n      <td>NaN</td>\n      <td>NaN</td>\n      <td>NaN</td>\n    </tr>\n    <tr>\n      <th>Pattern_Changer</th>\n      <td>NaN</td>\n      <td>NaN</td>\n      <td>NaN</td>\n      <td>NaN</td>\n      <td>NaN</td>\n      <td>NaN</td>\n      <td>NaN</td>\n      <td>NaN</td>\n      <td>NaN</td>\n      <td>NaN</td>\n      <td>NaN</td>\n      <td>None or Unspecified</td>\n      <td>NaN</td>\n      <td>NaN</td>\n      <td>NaN</td>\n      <td>NaN</td>\n      <td>NaN</td>\n      <td>NaN</td>\n      <td>NaN</td>\n      <td>NaN</td>\n    </tr>\n    <tr>\n      <th>Grouser_Type</th>\n      <td>NaN</td>\n      <td>NaN</td>\n      <td>NaN</td>\n      <td>NaN</td>\n      <td>NaN</td>\n      <td>NaN</td>\n      <td>NaN</td>\n      <td>NaN</td>\n      <td>NaN</td>\n      <td>NaN</td>\n      <td>NaN</td>\n      <td>Double</td>\n      <td>NaN</td>\n      <td>NaN</td>\n      <td>NaN</td>\n      <td>NaN</td>\n      <td>NaN</td>\n      <td>NaN</td>\n      <td>NaN</td>\n      <td>NaN</td>\n    </tr>\n    <tr>\n      <th>Backhoe_Mounting</th>\n      <td>None or Unspecified</td>\n      <td>NaN</td>\n      <td>None or Unspecified</td>\n      <td>NaN</td>\n      <td>None or Unspecified</td>\n      <td>None or Unspecified</td>\n      <td>NaN</td>\n      <td>NaN</td>\n      <td>None or Unspecified</td>\n      <td>NaN</td>\n      <td>NaN</td>\n      <td>NaN</td>\n      <td>NaN</td>\n      <td>NaN</td>\n      <td>NaN</td>\n      <td>NaN</td>\n      <td>NaN</td>\n      <td>NaN</td>\n      <td>NaN</td>\n      <td>NaN</td>\n    </tr>\n    <tr>\n      <th>Blade_Type</th>\n      <td>Straight</td>\n      <td>NaN</td>\n      <td>Straight</td>\n      <td>NaN</td>\n      <td>PAT</td>\n      <td>Straight</td>\n      <td>NaN</td>\n      <td>NaN</td>\n      <td>PAT</td>\n      <td>NaN</td>\n      <td>NaN</td>\n      <td>NaN</td>\n      <td>NaN</td>\n      <td>NaN</td>\n      <td>NaN</td>\n      <td>NaN</td>\n      <td>NaN</td>\n      <td>NaN</td>\n      <td>NaN</td>\n      <td>NaN</td>\n    </tr>\n    <tr>\n      <th>Travel_Controls</th>\n      <td>None or Unspecified</td>\n      <td>NaN</td>\n      <td>None or Unspecified</td>\n      <td>NaN</td>\n      <td>Lever</td>\n      <td>None or Unspecified</td>\n      <td>NaN</td>\n      <td>NaN</td>\n      <td>None or Unspecified</td>\n      <td>NaN</td>\n      <td>NaN</td>\n      <td>NaN</td>\n      <td>NaN</td>\n      <td>NaN</td>\n      <td>NaN</td>\n      <td>NaN</td>\n      <td>NaN</td>\n      <td>NaN</td>\n      <td>NaN</td>\n      <td>NaN</td>\n    </tr>\n    <tr>\n      <th>Differential_Type</th>\n      <td>NaN</td>\n      <td>Standard</td>\n      <td>NaN</td>\n      <td>Standard</td>\n      <td>NaN</td>\n      <td>NaN</td>\n      <td>Standard</td>\n      <td>Standard</td>\n      <td>NaN</td>\n      <td>NaN</td>\n      <td>NaN</td>\n      <td>NaN</td>\n      <td>NaN</td>\n      <td>Standard</td>\n      <td>Standard</td>\n      <td>Standard</td>\n      <td>Standard</td>\n      <td>Standard</td>\n      <td>NaN</td>\n      <td>NaN</td>\n    </tr>\n    <tr>\n      <th>Steering_Controls</th>\n      <td>NaN</td>\n      <td>Conventional</td>\n      <td>NaN</td>\n      <td>Conventional</td>\n      <td>NaN</td>\n      <td>NaN</td>\n      <td>Conventional</td>\n      <td>Conventional</td>\n      <td>NaN</td>\n      <td>NaN</td>\n      <td>NaN</td>\n      <td>NaN</td>\n      <td>NaN</td>\n      <td>Conventional</td>\n      <td>Conventional</td>\n      <td>Conventional</td>\n      <td>Conventional</td>\n      <td>Conventional</td>\n      <td>NaN</td>\n      <td>NaN</td>\n    </tr>\n    <tr>\n      <th>saleYear</th>\n      <td>1989</td>\n      <td>1989</td>\n      <td>1989</td>\n      <td>1989</td>\n      <td>1989</td>\n      <td>1989</td>\n      <td>1989</td>\n      <td>1989</td>\n      <td>1989</td>\n      <td>1989</td>\n      <td>1989</td>\n      <td>1989</td>\n      <td>1989</td>\n      <td>1989</td>\n      <td>1989</td>\n      <td>1989</td>\n      <td>1989</td>\n      <td>1989</td>\n      <td>1989</td>\n      <td>1989</td>\n    </tr>\n    <tr>\n      <th>saleDay</th>\n      <td>17</td>\n      <td>31</td>\n      <td>31</td>\n      <td>31</td>\n      <td>31</td>\n      <td>31</td>\n      <td>31</td>\n      <td>31</td>\n      <td>31</td>\n      <td>31</td>\n      <td>31</td>\n      <td>31</td>\n      <td>31</td>\n      <td>31</td>\n      <td>31</td>\n      <td>31</td>\n      <td>31</td>\n      <td>31</td>\n      <td>31</td>\n      <td>31</td>\n    </tr>\n    <tr>\n      <th>saleMonth</th>\n      <td>1</td>\n      <td>1</td>\n      <td>1</td>\n      <td>1</td>\n      <td>1</td>\n      <td>1</td>\n      <td>1</td>\n      <td>1</td>\n      <td>1</td>\n      <td>1</td>\n      <td>1</td>\n      <td>1</td>\n      <td>1</td>\n      <td>1</td>\n      <td>1</td>\n      <td>1</td>\n      <td>1</td>\n      <td>1</td>\n      <td>1</td>\n      <td>1</td>\n    </tr>\n    <tr>\n      <th>saleDayOfWeek</th>\n      <td>1</td>\n      <td>1</td>\n      <td>1</td>\n      <td>1</td>\n      <td>1</td>\n      <td>1</td>\n      <td>1</td>\n      <td>1</td>\n      <td>1</td>\n      <td>1</td>\n      <td>1</td>\n      <td>1</td>\n      <td>1</td>\n      <td>1</td>\n      <td>1</td>\n      <td>1</td>\n      <td>1</td>\n      <td>1</td>\n      <td>1</td>\n      <td>1</td>\n    </tr>\n    <tr>\n      <th>saleDayOfYear</th>\n      <td>17</td>\n      <td>31</td>\n      <td>31</td>\n      <td>31</td>\n      <td>31</td>\n      <td>31</td>\n      <td>31</td>\n      <td>31</td>\n      <td>31</td>\n      <td>31</td>\n      <td>31</td>\n      <td>31</td>\n      <td>31</td>\n      <td>31</td>\n      <td>31</td>\n      <td>31</td>\n      <td>31</td>\n      <td>31</td>\n      <td>31</td>\n      <td>31</td>\n    </tr>\n  </tbody>\n</table>\n</div>"
     },
     "execution_count": 23,
     "metadata": {},
     "output_type": "execute_result"
    }
   ],
   "source": [
    "df_tmp.head(20).T"
   ],
   "metadata": {
    "collapsed": false,
    "pycharm": {
     "name": "#%%\n"
    }
   }
  },
  {
   "cell_type": "code",
   "execution_count": 24,
   "outputs": [],
   "source": [
    "# Deleting the saledate column after extending the DataFrame with date and time features\n",
    "df_tmp.drop(\"saledate\", axis=1, inplace=True)"
   ],
   "metadata": {
    "collapsed": false,
    "pycharm": {
     "name": "#%%\n"
    }
   }
  },
  {
   "cell_type": "code",
   "execution_count": 26,
   "outputs": [
    {
     "data": {
      "text/plain": "Florida           67320\nTexas             53110\nCalifornia        29761\nWashington        16222\nGeorgia           14633\nMaryland          13322\nMississippi       13240\nOhio              12369\nIllinois          11540\nColorado          11529\nNew Jersey        11156\nNorth Carolina    10636\nTennessee         10298\nAlabama           10292\nPennsylvania      10234\nSouth Carolina     9951\nArizona            9364\nNew York           8639\nConnecticut        8276\nMinnesota          7885\nMissouri           7178\nNevada             6932\nLouisiana          6627\nKentucky           5351\nMaine              5096\nIndiana            4124\nArkansas           3933\nNew Mexico         3631\nUtah               3046\nUnspecified        2801\nWisconsin          2745\nNew Hampshire      2738\nVirginia           2353\nIdaho              2025\nOregon             1911\nMichigan           1831\nWyoming            1672\nMontana            1336\nIowa               1336\nOklahoma           1326\nNebraska            866\nWest Virginia       840\nKansas              667\nDelaware            510\nNorth Dakota        480\nAlaska              430\nMassachusetts       347\nVermont             300\nSouth Dakota        244\nHawaii              118\nRhode Island         83\nPuerto Rico          42\nWashington DC         2\nName: state, dtype: int64"
     },
     "execution_count": 26,
     "metadata": {},
     "output_type": "execute_result"
    }
   ],
   "source": [
    "# Check the values of different columns\n",
    "df_tmp.state.value_counts()"
   ],
   "metadata": {
    "collapsed": false,
    "pycharm": {
     "name": "#%%\n"
    }
   }
  },
  {
   "cell_type": "markdown",
   "source": [
    "## 5. Modeling\n",
    "\n",
    "For this project the EDA is finished, however, we can always do more."
   ],
   "metadata": {
    "collapsed": false,
    "pycharm": {
     "name": "#%% md\n"
    }
   }
  },
  {
   "cell_type": "code",
   "execution_count": 27,
   "outputs": [
    {
     "ename": "ValueError",
     "evalue": "could not convert string to float: 'Low'",
     "output_type": "error",
     "traceback": [
      "\u001B[1;31m---------------------------------------------------------------------------\u001B[0m",
      "\u001B[1;31mValueError\u001B[0m                                Traceback (most recent call last)",
      "\u001B[1;32m~\\AppData\\Local\\Temp/ipykernel_13684/310625285.py\u001B[0m in \u001B[0;36m<module>\u001B[1;34m\u001B[0m\n\u001B[0;32m      6\u001B[0m                               random_state=42)\n\u001B[0;32m      7\u001B[0m \u001B[0mX_train\u001B[0m\u001B[1;33m,\u001B[0m \u001B[0my_train\u001B[0m \u001B[1;33m=\u001B[0m \u001B[0mdf_tmp\u001B[0m\u001B[1;33m.\u001B[0m\u001B[0mdrop\u001B[0m\u001B[1;33m(\u001B[0m\u001B[1;34m\"SalePrice\"\u001B[0m\u001B[1;33m,\u001B[0m \u001B[0maxis\u001B[0m\u001B[1;33m=\u001B[0m\u001B[1;36m1\u001B[0m\u001B[1;33m)\u001B[0m\u001B[1;33m,\u001B[0m \u001B[0mdf_tmp\u001B[0m\u001B[1;33m[\u001B[0m\u001B[1;34m\"SalePrice\"\u001B[0m\u001B[1;33m]\u001B[0m\u001B[1;33m\u001B[0m\u001B[1;33m\u001B[0m\u001B[0m\n\u001B[1;32m----> 8\u001B[1;33m \u001B[0mmodel\u001B[0m\u001B[1;33m.\u001B[0m\u001B[0mfit\u001B[0m\u001B[1;33m(\u001B[0m\u001B[0mX_train\u001B[0m\u001B[1;33m,\u001B[0m \u001B[0my_train\u001B[0m\u001B[1;33m)\u001B[0m\u001B[1;33m\u001B[0m\u001B[1;33m\u001B[0m\u001B[0m\n\u001B[0m",
      "\u001B[1;32m~\\source\\Python\\MLandDS\\supervised-learning-regression\\env\\lib\\site-packages\\sklearn\\ensemble\\_forest.py\u001B[0m in \u001B[0;36mfit\u001B[1;34m(self, X, y, sample_weight)\u001B[0m\n\u001B[0;32m    325\u001B[0m         \u001B[1;32mif\u001B[0m \u001B[0missparse\u001B[0m\u001B[1;33m(\u001B[0m\u001B[0my\u001B[0m\u001B[1;33m)\u001B[0m\u001B[1;33m:\u001B[0m\u001B[1;33m\u001B[0m\u001B[1;33m\u001B[0m\u001B[0m\n\u001B[0;32m    326\u001B[0m             \u001B[1;32mraise\u001B[0m \u001B[0mValueError\u001B[0m\u001B[1;33m(\u001B[0m\u001B[1;34m\"sparse multilabel-indicator for y is not supported.\"\u001B[0m\u001B[1;33m)\u001B[0m\u001B[1;33m\u001B[0m\u001B[1;33m\u001B[0m\u001B[0m\n\u001B[1;32m--> 327\u001B[1;33m         X, y = self._validate_data(\n\u001B[0m\u001B[0;32m    328\u001B[0m             \u001B[0mX\u001B[0m\u001B[1;33m,\u001B[0m \u001B[0my\u001B[0m\u001B[1;33m,\u001B[0m \u001B[0mmulti_output\u001B[0m\u001B[1;33m=\u001B[0m\u001B[1;32mTrue\u001B[0m\u001B[1;33m,\u001B[0m \u001B[0maccept_sparse\u001B[0m\u001B[1;33m=\u001B[0m\u001B[1;34m\"csc\"\u001B[0m\u001B[1;33m,\u001B[0m \u001B[0mdtype\u001B[0m\u001B[1;33m=\u001B[0m\u001B[0mDTYPE\u001B[0m\u001B[1;33m\u001B[0m\u001B[1;33m\u001B[0m\u001B[0m\n\u001B[0;32m    329\u001B[0m         )\n",
      "\u001B[1;32m~\\source\\Python\\MLandDS\\supervised-learning-regression\\env\\lib\\site-packages\\sklearn\\base.py\u001B[0m in \u001B[0;36m_validate_data\u001B[1;34m(self, X, y, reset, validate_separately, **check_params)\u001B[0m\n\u001B[0;32m    579\u001B[0m                 \u001B[0my\u001B[0m \u001B[1;33m=\u001B[0m \u001B[0mcheck_array\u001B[0m\u001B[1;33m(\u001B[0m\u001B[0my\u001B[0m\u001B[1;33m,\u001B[0m \u001B[1;33m**\u001B[0m\u001B[0mcheck_y_params\u001B[0m\u001B[1;33m)\u001B[0m\u001B[1;33m\u001B[0m\u001B[1;33m\u001B[0m\u001B[0m\n\u001B[0;32m    580\u001B[0m             \u001B[1;32melse\u001B[0m\u001B[1;33m:\u001B[0m\u001B[1;33m\u001B[0m\u001B[1;33m\u001B[0m\u001B[0m\n\u001B[1;32m--> 581\u001B[1;33m                 \u001B[0mX\u001B[0m\u001B[1;33m,\u001B[0m \u001B[0my\u001B[0m \u001B[1;33m=\u001B[0m \u001B[0mcheck_X_y\u001B[0m\u001B[1;33m(\u001B[0m\u001B[0mX\u001B[0m\u001B[1;33m,\u001B[0m \u001B[0my\u001B[0m\u001B[1;33m,\u001B[0m \u001B[1;33m**\u001B[0m\u001B[0mcheck_params\u001B[0m\u001B[1;33m)\u001B[0m\u001B[1;33m\u001B[0m\u001B[1;33m\u001B[0m\u001B[0m\n\u001B[0m\u001B[0;32m    582\u001B[0m             \u001B[0mout\u001B[0m \u001B[1;33m=\u001B[0m \u001B[0mX\u001B[0m\u001B[1;33m,\u001B[0m \u001B[0my\u001B[0m\u001B[1;33m\u001B[0m\u001B[1;33m\u001B[0m\u001B[0m\n\u001B[0;32m    583\u001B[0m \u001B[1;33m\u001B[0m\u001B[0m\n",
      "\u001B[1;32m~\\source\\Python\\MLandDS\\supervised-learning-regression\\env\\lib\\site-packages\\sklearn\\utils\\validation.py\u001B[0m in \u001B[0;36mcheck_X_y\u001B[1;34m(X, y, accept_sparse, accept_large_sparse, dtype, order, copy, force_all_finite, ensure_2d, allow_nd, multi_output, ensure_min_samples, ensure_min_features, y_numeric, estimator)\u001B[0m\n\u001B[0;32m    962\u001B[0m         \u001B[1;32mraise\u001B[0m \u001B[0mValueError\u001B[0m\u001B[1;33m(\u001B[0m\u001B[1;34m\"y cannot be None\"\u001B[0m\u001B[1;33m)\u001B[0m\u001B[1;33m\u001B[0m\u001B[1;33m\u001B[0m\u001B[0m\n\u001B[0;32m    963\u001B[0m \u001B[1;33m\u001B[0m\u001B[0m\n\u001B[1;32m--> 964\u001B[1;33m     X = check_array(\n\u001B[0m\u001B[0;32m    965\u001B[0m         \u001B[0mX\u001B[0m\u001B[1;33m,\u001B[0m\u001B[1;33m\u001B[0m\u001B[1;33m\u001B[0m\u001B[0m\n\u001B[0;32m    966\u001B[0m         \u001B[0maccept_sparse\u001B[0m\u001B[1;33m=\u001B[0m\u001B[0maccept_sparse\u001B[0m\u001B[1;33m,\u001B[0m\u001B[1;33m\u001B[0m\u001B[1;33m\u001B[0m\u001B[0m\n",
      "\u001B[1;32m~\\source\\Python\\MLandDS\\supervised-learning-regression\\env\\lib\\site-packages\\sklearn\\utils\\validation.py\u001B[0m in \u001B[0;36mcheck_array\u001B[1;34m(array, accept_sparse, accept_large_sparse, dtype, order, copy, force_all_finite, ensure_2d, allow_nd, ensure_min_samples, ensure_min_features, estimator)\u001B[0m\n\u001B[0;32m    744\u001B[0m                     \u001B[0marray\u001B[0m \u001B[1;33m=\u001B[0m \u001B[0marray\u001B[0m\u001B[1;33m.\u001B[0m\u001B[0mastype\u001B[0m\u001B[1;33m(\u001B[0m\u001B[0mdtype\u001B[0m\u001B[1;33m,\u001B[0m \u001B[0mcasting\u001B[0m\u001B[1;33m=\u001B[0m\u001B[1;34m\"unsafe\"\u001B[0m\u001B[1;33m,\u001B[0m \u001B[0mcopy\u001B[0m\u001B[1;33m=\u001B[0m\u001B[1;32mFalse\u001B[0m\u001B[1;33m)\u001B[0m\u001B[1;33m\u001B[0m\u001B[1;33m\u001B[0m\u001B[0m\n\u001B[0;32m    745\u001B[0m                 \u001B[1;32melse\u001B[0m\u001B[1;33m:\u001B[0m\u001B[1;33m\u001B[0m\u001B[1;33m\u001B[0m\u001B[0m\n\u001B[1;32m--> 746\u001B[1;33m                     \u001B[0marray\u001B[0m \u001B[1;33m=\u001B[0m \u001B[0mnp\u001B[0m\u001B[1;33m.\u001B[0m\u001B[0masarray\u001B[0m\u001B[1;33m(\u001B[0m\u001B[0marray\u001B[0m\u001B[1;33m,\u001B[0m \u001B[0morder\u001B[0m\u001B[1;33m=\u001B[0m\u001B[0morder\u001B[0m\u001B[1;33m,\u001B[0m \u001B[0mdtype\u001B[0m\u001B[1;33m=\u001B[0m\u001B[0mdtype\u001B[0m\u001B[1;33m)\u001B[0m\u001B[1;33m\u001B[0m\u001B[1;33m\u001B[0m\u001B[0m\n\u001B[0m\u001B[0;32m    747\u001B[0m             \u001B[1;32mexcept\u001B[0m \u001B[0mComplexWarning\u001B[0m \u001B[1;32mas\u001B[0m \u001B[0mcomplex_warning\u001B[0m\u001B[1;33m:\u001B[0m\u001B[1;33m\u001B[0m\u001B[1;33m\u001B[0m\u001B[0m\n\u001B[0;32m    748\u001B[0m                 raise ValueError(\n",
      "\u001B[1;32m~\\source\\Python\\MLandDS\\supervised-learning-regression\\env\\lib\\site-packages\\pandas\\core\\generic.py\u001B[0m in \u001B[0;36m__array__\u001B[1;34m(self, dtype)\u001B[0m\n\u001B[0;32m   1991\u001B[0m \u001B[1;33m\u001B[0m\u001B[0m\n\u001B[0;32m   1992\u001B[0m     \u001B[1;32mdef\u001B[0m \u001B[0m__array__\u001B[0m\u001B[1;33m(\u001B[0m\u001B[0mself\u001B[0m\u001B[1;33m,\u001B[0m \u001B[0mdtype\u001B[0m\u001B[1;33m:\u001B[0m \u001B[0mNpDtype\u001B[0m \u001B[1;33m|\u001B[0m \u001B[1;32mNone\u001B[0m \u001B[1;33m=\u001B[0m \u001B[1;32mNone\u001B[0m\u001B[1;33m)\u001B[0m \u001B[1;33m->\u001B[0m \u001B[0mnp\u001B[0m\u001B[1;33m.\u001B[0m\u001B[0mndarray\u001B[0m\u001B[1;33m:\u001B[0m\u001B[1;33m\u001B[0m\u001B[1;33m\u001B[0m\u001B[0m\n\u001B[1;32m-> 1993\u001B[1;33m         \u001B[1;32mreturn\u001B[0m \u001B[0mnp\u001B[0m\u001B[1;33m.\u001B[0m\u001B[0masarray\u001B[0m\u001B[1;33m(\u001B[0m\u001B[0mself\u001B[0m\u001B[1;33m.\u001B[0m\u001B[0m_values\u001B[0m\u001B[1;33m,\u001B[0m \u001B[0mdtype\u001B[0m\u001B[1;33m=\u001B[0m\u001B[0mdtype\u001B[0m\u001B[1;33m)\u001B[0m\u001B[1;33m\u001B[0m\u001B[1;33m\u001B[0m\u001B[0m\n\u001B[0m\u001B[0;32m   1994\u001B[0m \u001B[1;33m\u001B[0m\u001B[0m\n\u001B[0;32m   1995\u001B[0m     def __array_wrap__(\n",
      "\u001B[1;31mValueError\u001B[0m: could not convert string to float: 'Low'"
     ]
    }
   ],
   "source": [
    "# Let's make a machine learning model\n",
    "from sklearn.ensemble import RandomForestRegressor\n",
    "\n",
    "model = RandomForestRegressor(n_jobs=-1,\n",
    "                              random_state=42)\n",
    "X_train, y_train = df_tmp.drop(\"SalePrice\", axis=1), df_tmp[\"SalePrice\"]\n",
    "model.fit(X_train, y_train)"
   ],
   "metadata": {
    "collapsed": false,
    "pycharm": {
     "name": "#%%\n"
    }
   }
  },
  {
   "cell_type": "code",
   "execution_count": 28,
   "outputs": [
    {
     "data": {
      "text/plain": "SalesID                          0\nSalePrice                        0\nMachineID                        0\nModelID                          0\ndatasource                       0\nauctioneerID                 20136\nYearMade                         0\nMachineHoursCurrentMeter    265194\nUsageBand                   339028\nfiModelDesc                      0\nfiBaseModel                      0\nfiSecondaryDesc             140727\nfiModelSeries               354031\nfiModelDescriptor           337882\nProductSize                 216605\nfiProductClassDesc               0\nstate                            0\nProductGroup                     0\nProductGroupDesc                 0\nDrive_System                305611\nEnclosure                      334\nForks                       214983\nPad_Type                    331602\nRide_Control                259970\nStick                       331602\nTransmission                224691\nTurbocharged                331602\nBlade_Extension             386715\nBlade_Width                 386715\nEnclosure_Type              386715\nEngine_Horsepower           386715\nHydraulics                   82565\nPushblock                   386715\nRipper                      305753\nScarifier                   386704\nTip_Control                 386715\nTire_Size                   315060\nCoupler                     192019\nCoupler_System              367724\nGrouser_Tracks              367823\nHydraulics_Flow             367823\nTrack_Type                  310505\nUndercarriage_Pad_Width     309782\nStick_Length                310437\nThumb                       310366\nPattern_Changer             310437\nGrouser_Type                310505\nBackhoe_Mounting            331986\nBlade_Type                  330823\nTravel_Controls             330821\nDifferential_Type           341134\nSteering_Controls           341176\nsaleYear                         0\nsaleDay                          0\nsaleMonth                        0\nsaleDayOfWeek                    0\nsaleDayOfYear                    0\ndtype: int64"
     },
     "execution_count": 28,
     "metadata": {},
     "output_type": "execute_result"
    }
   ],
   "source": [
    "df_tmp.isna().sum()"
   ],
   "metadata": {
    "collapsed": false,
    "pycharm": {
     "name": "#%%\n"
    }
   }
  },
  {
   "cell_type": "code",
   "execution_count": 29,
   "outputs": [
    {
     "name": "stdout",
     "output_type": "stream",
     "text": [
      "<class 'pandas.core.frame.DataFrame'>\n",
      "Int64Index: 412698 entries, 205615 to 409203\n",
      "Data columns (total 57 columns):\n",
      " #   Column                    Non-Null Count   Dtype  \n",
      "---  ------                    --------------   -----  \n",
      " 0   SalesID                   412698 non-null  int64  \n",
      " 1   SalePrice                 412698 non-null  float64\n",
      " 2   MachineID                 412698 non-null  int64  \n",
      " 3   ModelID                   412698 non-null  int64  \n",
      " 4   datasource                412698 non-null  int64  \n",
      " 5   auctioneerID              392562 non-null  float64\n",
      " 6   YearMade                  412698 non-null  int64  \n",
      " 7   MachineHoursCurrentMeter  147504 non-null  float64\n",
      " 8   UsageBand                 73670 non-null   object \n",
      " 9   fiModelDesc               412698 non-null  object \n",
      " 10  fiBaseModel               412698 non-null  object \n",
      " 11  fiSecondaryDesc           271971 non-null  object \n",
      " 12  fiModelSeries             58667 non-null   object \n",
      " 13  fiModelDescriptor         74816 non-null   object \n",
      " 14  ProductSize               196093 non-null  object \n",
      " 15  fiProductClassDesc        412698 non-null  object \n",
      " 16  state                     412698 non-null  object \n",
      " 17  ProductGroup              412698 non-null  object \n",
      " 18  ProductGroupDesc          412698 non-null  object \n",
      " 19  Drive_System              107087 non-null  object \n",
      " 20  Enclosure                 412364 non-null  object \n",
      " 21  Forks                     197715 non-null  object \n",
      " 22  Pad_Type                  81096 non-null   object \n",
      " 23  Ride_Control              152728 non-null  object \n",
      " 24  Stick                     81096 non-null   object \n",
      " 25  Transmission              188007 non-null  object \n",
      " 26  Turbocharged              81096 non-null   object \n",
      " 27  Blade_Extension           25983 non-null   object \n",
      " 28  Blade_Width               25983 non-null   object \n",
      " 29  Enclosure_Type            25983 non-null   object \n",
      " 30  Engine_Horsepower         25983 non-null   object \n",
      " 31  Hydraulics                330133 non-null  object \n",
      " 32  Pushblock                 25983 non-null   object \n",
      " 33  Ripper                    106945 non-null  object \n",
      " 34  Scarifier                 25994 non-null   object \n",
      " 35  Tip_Control               25983 non-null   object \n",
      " 36  Tire_Size                 97638 non-null   object \n",
      " 37  Coupler                   220679 non-null  object \n",
      " 38  Coupler_System            44974 non-null   object \n",
      " 39  Grouser_Tracks            44875 non-null   object \n",
      " 40  Hydraulics_Flow           44875 non-null   object \n",
      " 41  Track_Type                102193 non-null  object \n",
      " 42  Undercarriage_Pad_Width   102916 non-null  object \n",
      " 43  Stick_Length              102261 non-null  object \n",
      " 44  Thumb                     102332 non-null  object \n",
      " 45  Pattern_Changer           102261 non-null  object \n",
      " 46  Grouser_Type              102193 non-null  object \n",
      " 47  Backhoe_Mounting          80712 non-null   object \n",
      " 48  Blade_Type                81875 non-null   object \n",
      " 49  Travel_Controls           81877 non-null   object \n",
      " 50  Differential_Type         71564 non-null   object \n",
      " 51  Steering_Controls         71522 non-null   object \n",
      " 52  saleYear                  412698 non-null  int64  \n",
      " 53  saleDay                   412698 non-null  int64  \n",
      " 54  saleMonth                 412698 non-null  int64  \n",
      " 55  saleDayOfWeek             412698 non-null  int64  \n",
      " 56  saleDayOfYear             412698 non-null  int64  \n",
      "dtypes: float64(3), int64(10), object(44)\n",
      "memory usage: 182.6+ MB\n"
     ]
    }
   ],
   "source": [
    "df_tmp.info()"
   ],
   "metadata": {
    "collapsed": false,
    "pycharm": {
     "name": "#%%\n"
    }
   }
  },
  {
   "cell_type": "markdown",
   "source": [
    "### Converting strings into categories\n",
    "\n",
    "One way we can turn all of our data into numbers is by converting them into pandas categories.\n",
    "\n",
    "[Check the different datatypes compatible with pandas](https://pandas.pydata.org/pandas-docs/stable/reference/general_utility_functions.html#data-types-related-functionality)"
   ],
   "metadata": {
    "collapsed": false,
    "pycharm": {
     "name": "#%% md\n"
    }
   }
  },
  {
   "cell_type": "code",
   "execution_count": 30,
   "outputs": [
    {
     "data": {
      "text/plain": "True"
     },
     "execution_count": 30,
     "metadata": {},
     "output_type": "execute_result"
    }
   ],
   "source": [
    "pd.api.types.is_string_dtype(df_tmp[\"UsageBand\"])"
   ],
   "metadata": {
    "collapsed": false,
    "pycharm": {
     "name": "#%%\n"
    }
   }
  },
  {
   "cell_type": "code",
   "execution_count": 31,
   "outputs": [
    {
     "name": "stdout",
     "output_type": "stream",
     "text": [
      "UsageBand\n",
      "fiModelDesc\n",
      "fiBaseModel\n",
      "fiSecondaryDesc\n",
      "fiModelSeries\n",
      "fiModelDescriptor\n",
      "ProductSize\n",
      "fiProductClassDesc\n",
      "state\n",
      "ProductGroup\n",
      "ProductGroupDesc\n",
      "Drive_System\n",
      "Enclosure\n",
      "Forks\n",
      "Pad_Type\n",
      "Ride_Control\n",
      "Stick\n",
      "Transmission\n",
      "Turbocharged\n",
      "Blade_Extension\n",
      "Blade_Width\n",
      "Enclosure_Type\n",
      "Engine_Horsepower\n",
      "Hydraulics\n",
      "Pushblock\n",
      "Ripper\n",
      "Scarifier\n",
      "Tip_Control\n",
      "Tire_Size\n",
      "Coupler\n",
      "Coupler_System\n",
      "Grouser_Tracks\n",
      "Hydraulics_Flow\n",
      "Track_Type\n",
      "Undercarriage_Pad_Width\n",
      "Stick_Length\n",
      "Thumb\n",
      "Pattern_Changer\n",
      "Grouser_Type\n",
      "Backhoe_Mounting\n",
      "Blade_Type\n",
      "Travel_Controls\n",
      "Differential_Type\n",
      "Steering_Controls\n"
     ]
    }
   ],
   "source": [
    "# Find the columns which contains strings\n",
    "for label, content in df_tmp.items():\n",
    "    if pd.api.types.is_string_dtype(content):\n",
    "        print(label)"
   ],
   "metadata": {
    "collapsed": false,
    "pycharm": {
     "name": "#%%\n"
    }
   }
  },
  {
   "cell_type": "code",
   "execution_count": 33,
   "outputs": [],
   "source": [
    "# Turn all the sting values into categories values\n",
    "for label, content in df_tmp.items():\n",
    "    if pd.api.types.is_string_dtype(content):\n",
    "        df_tmp[label] = content.astype(\"category\").cat.as_ordered()"
   ],
   "metadata": {
    "collapsed": false,
    "pycharm": {
     "name": "#%%\n"
    }
   }
  },
  {
   "cell_type": "code",
   "execution_count": 34,
   "outputs": [
    {
     "name": "stdout",
     "output_type": "stream",
     "text": [
      "<class 'pandas.core.frame.DataFrame'>\n",
      "Int64Index: 412698 entries, 205615 to 409203\n",
      "Data columns (total 57 columns):\n",
      " #   Column                    Non-Null Count   Dtype   \n",
      "---  ------                    --------------   -----   \n",
      " 0   SalesID                   412698 non-null  int64   \n",
      " 1   SalePrice                 412698 non-null  float64 \n",
      " 2   MachineID                 412698 non-null  int64   \n",
      " 3   ModelID                   412698 non-null  int64   \n",
      " 4   datasource                412698 non-null  int64   \n",
      " 5   auctioneerID              392562 non-null  float64 \n",
      " 6   YearMade                  412698 non-null  int64   \n",
      " 7   MachineHoursCurrentMeter  147504 non-null  float64 \n",
      " 8   UsageBand                 73670 non-null   category\n",
      " 9   fiModelDesc               412698 non-null  category\n",
      " 10  fiBaseModel               412698 non-null  category\n",
      " 11  fiSecondaryDesc           271971 non-null  category\n",
      " 12  fiModelSeries             58667 non-null   category\n",
      " 13  fiModelDescriptor         74816 non-null   category\n",
      " 14  ProductSize               196093 non-null  category\n",
      " 15  fiProductClassDesc        412698 non-null  category\n",
      " 16  state                     412698 non-null  category\n",
      " 17  ProductGroup              412698 non-null  category\n",
      " 18  ProductGroupDesc          412698 non-null  category\n",
      " 19  Drive_System              107087 non-null  category\n",
      " 20  Enclosure                 412364 non-null  category\n",
      " 21  Forks                     197715 non-null  category\n",
      " 22  Pad_Type                  81096 non-null   category\n",
      " 23  Ride_Control              152728 non-null  category\n",
      " 24  Stick                     81096 non-null   category\n",
      " 25  Transmission              188007 non-null  category\n",
      " 26  Turbocharged              81096 non-null   category\n",
      " 27  Blade_Extension           25983 non-null   category\n",
      " 28  Blade_Width               25983 non-null   category\n",
      " 29  Enclosure_Type            25983 non-null   category\n",
      " 30  Engine_Horsepower         25983 non-null   category\n",
      " 31  Hydraulics                330133 non-null  category\n",
      " 32  Pushblock                 25983 non-null   category\n",
      " 33  Ripper                    106945 non-null  category\n",
      " 34  Scarifier                 25994 non-null   category\n",
      " 35  Tip_Control               25983 non-null   category\n",
      " 36  Tire_Size                 97638 non-null   category\n",
      " 37  Coupler                   220679 non-null  category\n",
      " 38  Coupler_System            44974 non-null   category\n",
      " 39  Grouser_Tracks            44875 non-null   category\n",
      " 40  Hydraulics_Flow           44875 non-null   category\n",
      " 41  Track_Type                102193 non-null  category\n",
      " 42  Undercarriage_Pad_Width   102916 non-null  category\n",
      " 43  Stick_Length              102261 non-null  category\n",
      " 44  Thumb                     102332 non-null  category\n",
      " 45  Pattern_Changer           102261 non-null  category\n",
      " 46  Grouser_Type              102193 non-null  category\n",
      " 47  Backhoe_Mounting          80712 non-null   category\n",
      " 48  Blade_Type                81875 non-null   category\n",
      " 49  Travel_Controls           81877 non-null   category\n",
      " 50  Differential_Type         71564 non-null   category\n",
      " 51  Steering_Controls         71522 non-null   category\n",
      " 52  saleYear                  412698 non-null  int64   \n",
      " 53  saleDay                   412698 non-null  int64   \n",
      " 54  saleMonth                 412698 non-null  int64   \n",
      " 55  saleDayOfWeek             412698 non-null  int64   \n",
      " 56  saleDayOfYear             412698 non-null  int64   \n",
      "dtypes: category(44), float64(3), int64(10)\n",
      "memory usage: 63.2 MB\n"
     ]
    }
   ],
   "source": [
    "df_tmp.info()"
   ],
   "metadata": {
    "collapsed": false,
    "pycharm": {
     "name": "#%%\n"
    }
   }
  },
  {
   "cell_type": "code",
   "execution_count": 35,
   "outputs": [
    {
     "data": {
      "text/plain": "Index(['Alabama', 'Alaska', 'Arizona', 'Arkansas', 'California', 'Colorado',\n       'Connecticut', 'Delaware', 'Florida', 'Georgia', 'Hawaii', 'Idaho',\n       'Illinois', 'Indiana', 'Iowa', 'Kansas', 'Kentucky', 'Louisiana',\n       'Maine', 'Maryland', 'Massachusetts', 'Michigan', 'Minnesota',\n       'Mississippi', 'Missouri', 'Montana', 'Nebraska', 'Nevada',\n       'New Hampshire', 'New Jersey', 'New Mexico', 'New York',\n       'North Carolina', 'North Dakota', 'Ohio', 'Oklahoma', 'Oregon',\n       'Pennsylvania', 'Puerto Rico', 'Rhode Island', 'South Carolina',\n       'South Dakota', 'Tennessee', 'Texas', 'Unspecified', 'Utah', 'Vermont',\n       'Virginia', 'Washington', 'Washington DC', 'West Virginia', 'Wisconsin',\n       'Wyoming'],\n      dtype='object')"
     },
     "execution_count": 35,
     "metadata": {},
     "output_type": "execute_result"
    }
   ],
   "source": [
    "df_tmp.state.cat.categories"
   ],
   "metadata": {
    "collapsed": false,
    "pycharm": {
     "name": "#%%\n"
    }
   }
  },
  {
   "cell_type": "code",
   "execution_count": 38,
   "outputs": [
    {
     "data": {
      "text/plain": "205615    43\n274835     8\n141296     8\n212552     8\n62755      8\n          ..\n410879     4\n412476     4\n411927     4\n407124     4\n409203     4\nLength: 412698, dtype: int8"
     },
     "execution_count": 38,
     "metadata": {},
     "output_type": "execute_result"
    }
   ],
   "source": [
    "# Now we can access to all string values by it's codes\n",
    "df_tmp.state.cat.codes"
   ],
   "metadata": {
    "collapsed": false,
    "pycharm": {
     "name": "#%%\n"
    }
   }
  },
  {
   "cell_type": "code",
   "source": [
    "# Check missing data\n",
    "def check_missing_values(dataframe):\n",
    "    \"\"\"\n",
    "    :param dataframe: DataFrame object\n",
    "    :return: percentage of missing values in the data\n",
    "    \"\"\"\n",
    "    output = dataframe.isnull().sum() / len(dataframe)\n",
    "    return pd.Series([\"{0:.2f}%\".format(val * 100) for val in output if val != 0], index=output[output != 0].index)"
   ],
   "metadata": {
    "collapsed": false,
    "pycharm": {
     "name": "#%%\n"
    }
   },
   "execution_count": 137,
   "outputs": []
  },
  {
   "cell_type": "code",
   "execution_count": 79,
   "outputs": [
    {
     "data": {
      "text/plain": "SalesID                      0.00%\nSalePrice                    0.00%\nMachineID                    0.00%\nModelID                      0.00%\ndatasource                   0.00%\nauctioneerID                 4.88%\nYearMade                     0.00%\nMachineHoursCurrentMeter    64.26%\nUsageBand                   82.15%\nfiModelDesc                  0.00%\nfiBaseModel                  0.00%\nfiSecondaryDesc             34.10%\nfiModelSeries               85.78%\nfiModelDescriptor           81.87%\nProductSize                 52.49%\nfiProductClassDesc           0.00%\nstate                        0.00%\nProductGroup                 0.00%\nProductGroupDesc             0.00%\nDrive_System                74.05%\nEnclosure                    0.08%\nForks                       52.09%\nPad_Type                    80.35%\nRide_Control                62.99%\nStick                       80.35%\nTransmission                54.44%\nTurbocharged                80.35%\nBlade_Extension             93.70%\nBlade_Width                 93.70%\nEnclosure_Type              93.70%\nEngine_Horsepower           93.70%\nHydraulics                  20.01%\nPushblock                   93.70%\nRipper                      74.09%\nScarifier                   93.70%\nTip_Control                 93.70%\nTire_Size                   76.34%\nCoupler                     46.53%\nCoupler_System              89.10%\nGrouser_Tracks              89.13%\nHydraulics_Flow             89.13%\nTrack_Type                  75.24%\nUndercarriage_Pad_Width     75.06%\nStick_Length                75.22%\nThumb                       75.20%\nPattern_Changer             75.22%\nGrouser_Type                75.24%\nBackhoe_Mounting            80.44%\nBlade_Type                  80.16%\nTravel_Controls             80.16%\nDifferential_Type           82.66%\nSteering_Controls           82.67%\nsaleYear                     0.00%\nsaleDay                      0.00%\nsaleMonth                    0.00%\nsaleDayOfWeek                0.00%\nsaleDayOfYear                0.00%\ndtype: object"
     },
     "execution_count": 79,
     "metadata": {},
     "output_type": "execute_result"
    }
   ],
   "source": [
    "check_missing_values(df_tmp)"
   ],
   "metadata": {
    "collapsed": false,
    "pycharm": {
     "name": "#%%\n"
    }
   }
  },
  {
   "cell_type": "markdown",
   "source": [
    "### Save preprocessed data"
   ],
   "metadata": {
    "collapsed": false,
    "pycharm": {
     "name": "#%% md\n"
    }
   }
  },
  {
   "cell_type": "code",
   "execution_count": 42,
   "outputs": [],
   "source": [
    "# Export current tmp dataframe\n",
    "df_tmp.to_csv(\"data/train_tmp.csv\", index=False)"
   ],
   "metadata": {
    "collapsed": false,
    "pycharm": {
     "name": "#%%\n"
    }
   }
  },
  {
   "cell_type": "code",
   "execution_count": 43,
   "outputs": [],
   "source": [
    "# Import preprocessed data\n",
    "df_tmp = pd.read_csv(\"data/train_tmp.csv\", low_memory=False)"
   ],
   "metadata": {
    "collapsed": false,
    "pycharm": {
     "name": "#%%\n"
    }
   }
  },
  {
   "cell_type": "code",
   "execution_count": 45,
   "outputs": [
    {
     "data": {
      "text/plain": "                                                                          0  \\\nSalesID                                                             1646770   \nSalePrice                                                            9500.0   \nMachineID                                                           1126363   \nModelID                                                                8434   \ndatasource                                                              132   \nauctioneerID                                                           18.0   \nYearMade                                                               1974   \nMachineHoursCurrentMeter                                                NaN   \nUsageBand                                                               NaN   \nfiModelDesc                                                            TD20   \nfiBaseModel                                                            TD20   \nfiSecondaryDesc                                                         NaN   \nfiModelSeries                                                           NaN   \nfiModelDescriptor                                                       NaN   \nProductSize                                                          Medium   \nfiProductClassDesc        Track Type Tractor, Dozer - 105.0 to 130.0 Hor...   \nstate                                                                 Texas   \nProductGroup                                                            TTT   \nProductGroupDesc                                        Track Type Tractors   \nDrive_System                                                            NaN   \nEnclosure                                                             OROPS   \nForks                                                                   NaN   \nPad_Type                                                                NaN   \nRide_Control                                                            NaN   \nStick                                                                   NaN   \nTransmission                                                   Direct Drive   \nTurbocharged                                                            NaN   \nBlade_Extension                                                         NaN   \nBlade_Width                                                             NaN   \nEnclosure_Type                                                          NaN   \nEngine_Horsepower                                                       NaN   \nHydraulics                                                          2 Valve   \nPushblock                                                               NaN   \nRipper                                                  None or Unspecified   \nScarifier                                                               NaN   \nTip_Control                                                             NaN   \nTire_Size                                                               NaN   \nCoupler                                                                 NaN   \nCoupler_System                                                          NaN   \nGrouser_Tracks                                                          NaN   \nHydraulics_Flow                                                         NaN   \nTrack_Type                                                              NaN   \nUndercarriage_Pad_Width                                                 NaN   \nStick_Length                                                            NaN   \nThumb                                                                   NaN   \nPattern_Changer                                                         NaN   \nGrouser_Type                                                            NaN   \nBackhoe_Mounting                                        None or Unspecified   \nBlade_Type                                                         Straight   \nTravel_Controls                                         None or Unspecified   \nDifferential_Type                                                       NaN   \nSteering_Controls                                                       NaN   \nsaleYear                                                               1989   \nsaleDay                                                                  17   \nsaleMonth                                                                 1   \nsaleDayOfWeek                                                             1   \nsaleDayOfYear                                                            17   \n\n                                                                 1  \\\nSalesID                                                    1821514   \nSalePrice                                                  14000.0   \nMachineID                                                  1194089   \nModelID                                                      10150   \ndatasource                                                     132   \nauctioneerID                                                  99.0   \nYearMade                                                      1980   \nMachineHoursCurrentMeter                                       NaN   \nUsageBand                                                      NaN   \nfiModelDesc                                                    A66   \nfiBaseModel                                                    A66   \nfiSecondaryDesc                                                NaN   \nfiModelSeries                                                  NaN   \nfiModelDescriptor                                              NaN   \nProductSize                                                    NaN   \nfiProductClassDesc        Wheel Loader - 120.0 to 135.0 Horsepower   \nstate                                                      Florida   \nProductGroup                                                    WL   \nProductGroupDesc                                      Wheel Loader   \nDrive_System                                                   NaN   \nEnclosure                                                    OROPS   \nForks                                          None or Unspecified   \nPad_Type                                                       NaN   \nRide_Control                                   None or Unspecified   \nStick                                                          NaN   \nTransmission                                                   NaN   \nTurbocharged                                                   NaN   \nBlade_Extension                                                NaN   \nBlade_Width                                                    NaN   \nEnclosure_Type                                                 NaN   \nEngine_Horsepower                                              NaN   \nHydraulics                                                 2 Valve   \nPushblock                                                      NaN   \nRipper                                                         NaN   \nScarifier                                                      NaN   \nTip_Control                                                    NaN   \nTire_Size                                      None or Unspecified   \nCoupler                                        None or Unspecified   \nCoupler_System                                                 NaN   \nGrouser_Tracks                                                 NaN   \nHydraulics_Flow                                                NaN   \nTrack_Type                                                     NaN   \nUndercarriage_Pad_Width                                        NaN   \nStick_Length                                                   NaN   \nThumb                                                          NaN   \nPattern_Changer                                                NaN   \nGrouser_Type                                                   NaN   \nBackhoe_Mounting                                               NaN   \nBlade_Type                                                     NaN   \nTravel_Controls                                                NaN   \nDifferential_Type                                         Standard   \nSteering_Controls                                     Conventional   \nsaleYear                                                      1989   \nsaleDay                                                         31   \nsaleMonth                                                        1   \nsaleDayOfWeek                                                    1   \nsaleDayOfYear                                                   31   \n\n                                                                          2  \\\nSalesID                                                             1505138   \nSalePrice                                                           50000.0   \nMachineID                                                           1473654   \nModelID                                                                4139   \ndatasource                                                              132   \nauctioneerID                                                           99.0   \nYearMade                                                               1978   \nMachineHoursCurrentMeter                                                NaN   \nUsageBand                                                               NaN   \nfiModelDesc                                                             D7G   \nfiBaseModel                                                              D7   \nfiSecondaryDesc                                                           G   \nfiModelSeries                                                           NaN   \nfiModelDescriptor                                                       NaN   \nProductSize                                                           Large   \nfiProductClassDesc        Track Type Tractor, Dozer - 190.0 to 260.0 Hor...   \nstate                                                               Florida   \nProductGroup                                                            TTT   \nProductGroupDesc                                        Track Type Tractors   \nDrive_System                                                            NaN   \nEnclosure                                                             OROPS   \nForks                                                                   NaN   \nPad_Type                                                                NaN   \nRide_Control                                                            NaN   \nStick                                                                   NaN   \nTransmission                                                       Standard   \nTurbocharged                                                            NaN   \nBlade_Extension                                                         NaN   \nBlade_Width                                                             NaN   \nEnclosure_Type                                                          NaN   \nEngine_Horsepower                                                       NaN   \nHydraulics                                                          2 Valve   \nPushblock                                                               NaN   \nRipper                                                  None or Unspecified   \nScarifier                                                               NaN   \nTip_Control                                                             NaN   \nTire_Size                                                               NaN   \nCoupler                                                                 NaN   \nCoupler_System                                                          NaN   \nGrouser_Tracks                                                          NaN   \nHydraulics_Flow                                                         NaN   \nTrack_Type                                                              NaN   \nUndercarriage_Pad_Width                                                 NaN   \nStick_Length                                                            NaN   \nThumb                                                                   NaN   \nPattern_Changer                                                         NaN   \nGrouser_Type                                                            NaN   \nBackhoe_Mounting                                        None or Unspecified   \nBlade_Type                                                         Straight   \nTravel_Controls                                         None or Unspecified   \nDifferential_Type                                                       NaN   \nSteering_Controls                                                       NaN   \nsaleYear                                                               1989   \nsaleDay                                                                  31   \nsaleMonth                                                                 1   \nsaleDayOfWeek                                                             1   \nsaleDayOfYear                                                            31   \n\n                                                    3  \\\nSalesID                                       1671174   \nSalePrice                                     16000.0   \nMachineID                                     1327630   \nModelID                                          8591   \ndatasource                                        132   \nauctioneerID                                     99.0   \nYearMade                                         1980   \nMachineHoursCurrentMeter                          NaN   \nUsageBand                                         NaN   \nfiModelDesc                                       A62   \nfiBaseModel                                       A62   \nfiSecondaryDesc                                   NaN   \nfiModelSeries                                     NaN   \nfiModelDescriptor                                 NaN   \nProductSize                                       NaN   \nfiProductClassDesc        Wheel Loader - Unidentified   \nstate                                         Florida   \nProductGroup                                       WL   \nProductGroupDesc                         Wheel Loader   \nDrive_System                                      NaN   \nEnclosure                                       EROPS   \nForks                             None or Unspecified   \nPad_Type                                          NaN   \nRide_Control                      None or Unspecified   \nStick                                             NaN   \nTransmission                                      NaN   \nTurbocharged                                      NaN   \nBlade_Extension                                   NaN   \nBlade_Width                                       NaN   \nEnclosure_Type                                    NaN   \nEngine_Horsepower                                 NaN   \nHydraulics                                    2 Valve   \nPushblock                                         NaN   \nRipper                                            NaN   \nScarifier                                         NaN   \nTip_Control                                       NaN   \nTire_Size                         None or Unspecified   \nCoupler                           None or Unspecified   \nCoupler_System                                    NaN   \nGrouser_Tracks                                    NaN   \nHydraulics_Flow                                   NaN   \nTrack_Type                                        NaN   \nUndercarriage_Pad_Width                           NaN   \nStick_Length                                      NaN   \nThumb                                             NaN   \nPattern_Changer                                   NaN   \nGrouser_Type                                      NaN   \nBackhoe_Mounting                                  NaN   \nBlade_Type                                        NaN   \nTravel_Controls                                   NaN   \nDifferential_Type                            Standard   \nSteering_Controls                        Conventional   \nsaleYear                                         1989   \nsaleDay                                            31   \nsaleMonth                                           1   \nsaleDayOfWeek                                       1   \nsaleDayOfYear                                      31   \n\n                                                                          4  \nSalesID                                                             1329056  \nSalePrice                                                           22000.0  \nMachineID                                                           1336053  \nModelID                                                                4089  \ndatasource                                                              132  \nauctioneerID                                                           99.0  \nYearMade                                                               1984  \nMachineHoursCurrentMeter                                                NaN  \nUsageBand                                                               NaN  \nfiModelDesc                                                             D3B  \nfiBaseModel                                                              D3  \nfiSecondaryDesc                                                           B  \nfiModelSeries                                                           NaN  \nfiModelDescriptor                                                       NaN  \nProductSize                                                             NaN  \nfiProductClassDesc        Track Type Tractor, Dozer - 20.0 to 75.0 Horse...  \nstate                                                               Florida  \nProductGroup                                                            TTT  \nProductGroupDesc                                        Track Type Tractors  \nDrive_System                                                            NaN  \nEnclosure                                                             OROPS  \nForks                                                                   NaN  \nPad_Type                                                                NaN  \nRide_Control                                                            NaN  \nStick                                                                   NaN  \nTransmission                                                       Standard  \nTurbocharged                                                            NaN  \nBlade_Extension                                                         NaN  \nBlade_Width                                                             NaN  \nEnclosure_Type                                                          NaN  \nEngine_Horsepower                                                       NaN  \nHydraulics                                                          2 Valve  \nPushblock                                                               NaN  \nRipper                                                  None or Unspecified  \nScarifier                                                               NaN  \nTip_Control                                                             NaN  \nTire_Size                                                               NaN  \nCoupler                                                                 NaN  \nCoupler_System                                                          NaN  \nGrouser_Tracks                                                          NaN  \nHydraulics_Flow                                                         NaN  \nTrack_Type                                                              NaN  \nUndercarriage_Pad_Width                                                 NaN  \nStick_Length                                                            NaN  \nThumb                                                                   NaN  \nPattern_Changer                                                         NaN  \nGrouser_Type                                                            NaN  \nBackhoe_Mounting                                        None or Unspecified  \nBlade_Type                                                              PAT  \nTravel_Controls                                                       Lever  \nDifferential_Type                                                       NaN  \nSteering_Controls                                                       NaN  \nsaleYear                                                               1989  \nsaleDay                                                                  31  \nsaleMonth                                                                 1  \nsaleDayOfWeek                                                             1  \nsaleDayOfYear                                                            31  ",
      "text/html": "<div>\n<style scoped>\n    .dataframe tbody tr th:only-of-type {\n        vertical-align: middle;\n    }\n\n    .dataframe tbody tr th {\n        vertical-align: top;\n    }\n\n    .dataframe thead th {\n        text-align: right;\n    }\n</style>\n<table border=\"1\" class=\"dataframe\">\n  <thead>\n    <tr style=\"text-align: right;\">\n      <th></th>\n      <th>0</th>\n      <th>1</th>\n      <th>2</th>\n      <th>3</th>\n      <th>4</th>\n    </tr>\n  </thead>\n  <tbody>\n    <tr>\n      <th>SalesID</th>\n      <td>1646770</td>\n      <td>1821514</td>\n      <td>1505138</td>\n      <td>1671174</td>\n      <td>1329056</td>\n    </tr>\n    <tr>\n      <th>SalePrice</th>\n      <td>9500.0</td>\n      <td>14000.0</td>\n      <td>50000.0</td>\n      <td>16000.0</td>\n      <td>22000.0</td>\n    </tr>\n    <tr>\n      <th>MachineID</th>\n      <td>1126363</td>\n      <td>1194089</td>\n      <td>1473654</td>\n      <td>1327630</td>\n      <td>1336053</td>\n    </tr>\n    <tr>\n      <th>ModelID</th>\n      <td>8434</td>\n      <td>10150</td>\n      <td>4139</td>\n      <td>8591</td>\n      <td>4089</td>\n    </tr>\n    <tr>\n      <th>datasource</th>\n      <td>132</td>\n      <td>132</td>\n      <td>132</td>\n      <td>132</td>\n      <td>132</td>\n    </tr>\n    <tr>\n      <th>auctioneerID</th>\n      <td>18.0</td>\n      <td>99.0</td>\n      <td>99.0</td>\n      <td>99.0</td>\n      <td>99.0</td>\n    </tr>\n    <tr>\n      <th>YearMade</th>\n      <td>1974</td>\n      <td>1980</td>\n      <td>1978</td>\n      <td>1980</td>\n      <td>1984</td>\n    </tr>\n    <tr>\n      <th>MachineHoursCurrentMeter</th>\n      <td>NaN</td>\n      <td>NaN</td>\n      <td>NaN</td>\n      <td>NaN</td>\n      <td>NaN</td>\n    </tr>\n    <tr>\n      <th>UsageBand</th>\n      <td>NaN</td>\n      <td>NaN</td>\n      <td>NaN</td>\n      <td>NaN</td>\n      <td>NaN</td>\n    </tr>\n    <tr>\n      <th>fiModelDesc</th>\n      <td>TD20</td>\n      <td>A66</td>\n      <td>D7G</td>\n      <td>A62</td>\n      <td>D3B</td>\n    </tr>\n    <tr>\n      <th>fiBaseModel</th>\n      <td>TD20</td>\n      <td>A66</td>\n      <td>D7</td>\n      <td>A62</td>\n      <td>D3</td>\n    </tr>\n    <tr>\n      <th>fiSecondaryDesc</th>\n      <td>NaN</td>\n      <td>NaN</td>\n      <td>G</td>\n      <td>NaN</td>\n      <td>B</td>\n    </tr>\n    <tr>\n      <th>fiModelSeries</th>\n      <td>NaN</td>\n      <td>NaN</td>\n      <td>NaN</td>\n      <td>NaN</td>\n      <td>NaN</td>\n    </tr>\n    <tr>\n      <th>fiModelDescriptor</th>\n      <td>NaN</td>\n      <td>NaN</td>\n      <td>NaN</td>\n      <td>NaN</td>\n      <td>NaN</td>\n    </tr>\n    <tr>\n      <th>ProductSize</th>\n      <td>Medium</td>\n      <td>NaN</td>\n      <td>Large</td>\n      <td>NaN</td>\n      <td>NaN</td>\n    </tr>\n    <tr>\n      <th>fiProductClassDesc</th>\n      <td>Track Type Tractor, Dozer - 105.0 to 130.0 Hor...</td>\n      <td>Wheel Loader - 120.0 to 135.0 Horsepower</td>\n      <td>Track Type Tractor, Dozer - 190.0 to 260.0 Hor...</td>\n      <td>Wheel Loader - Unidentified</td>\n      <td>Track Type Tractor, Dozer - 20.0 to 75.0 Horse...</td>\n    </tr>\n    <tr>\n      <th>state</th>\n      <td>Texas</td>\n      <td>Florida</td>\n      <td>Florida</td>\n      <td>Florida</td>\n      <td>Florida</td>\n    </tr>\n    <tr>\n      <th>ProductGroup</th>\n      <td>TTT</td>\n      <td>WL</td>\n      <td>TTT</td>\n      <td>WL</td>\n      <td>TTT</td>\n    </tr>\n    <tr>\n      <th>ProductGroupDesc</th>\n      <td>Track Type Tractors</td>\n      <td>Wheel Loader</td>\n      <td>Track Type Tractors</td>\n      <td>Wheel Loader</td>\n      <td>Track Type Tractors</td>\n    </tr>\n    <tr>\n      <th>Drive_System</th>\n      <td>NaN</td>\n      <td>NaN</td>\n      <td>NaN</td>\n      <td>NaN</td>\n      <td>NaN</td>\n    </tr>\n    <tr>\n      <th>Enclosure</th>\n      <td>OROPS</td>\n      <td>OROPS</td>\n      <td>OROPS</td>\n      <td>EROPS</td>\n      <td>OROPS</td>\n    </tr>\n    <tr>\n      <th>Forks</th>\n      <td>NaN</td>\n      <td>None or Unspecified</td>\n      <td>NaN</td>\n      <td>None or Unspecified</td>\n      <td>NaN</td>\n    </tr>\n    <tr>\n      <th>Pad_Type</th>\n      <td>NaN</td>\n      <td>NaN</td>\n      <td>NaN</td>\n      <td>NaN</td>\n      <td>NaN</td>\n    </tr>\n    <tr>\n      <th>Ride_Control</th>\n      <td>NaN</td>\n      <td>None or Unspecified</td>\n      <td>NaN</td>\n      <td>None or Unspecified</td>\n      <td>NaN</td>\n    </tr>\n    <tr>\n      <th>Stick</th>\n      <td>NaN</td>\n      <td>NaN</td>\n      <td>NaN</td>\n      <td>NaN</td>\n      <td>NaN</td>\n    </tr>\n    <tr>\n      <th>Transmission</th>\n      <td>Direct Drive</td>\n      <td>NaN</td>\n      <td>Standard</td>\n      <td>NaN</td>\n      <td>Standard</td>\n    </tr>\n    <tr>\n      <th>Turbocharged</th>\n      <td>NaN</td>\n      <td>NaN</td>\n      <td>NaN</td>\n      <td>NaN</td>\n      <td>NaN</td>\n    </tr>\n    <tr>\n      <th>Blade_Extension</th>\n      <td>NaN</td>\n      <td>NaN</td>\n      <td>NaN</td>\n      <td>NaN</td>\n      <td>NaN</td>\n    </tr>\n    <tr>\n      <th>Blade_Width</th>\n      <td>NaN</td>\n      <td>NaN</td>\n      <td>NaN</td>\n      <td>NaN</td>\n      <td>NaN</td>\n    </tr>\n    <tr>\n      <th>Enclosure_Type</th>\n      <td>NaN</td>\n      <td>NaN</td>\n      <td>NaN</td>\n      <td>NaN</td>\n      <td>NaN</td>\n    </tr>\n    <tr>\n      <th>Engine_Horsepower</th>\n      <td>NaN</td>\n      <td>NaN</td>\n      <td>NaN</td>\n      <td>NaN</td>\n      <td>NaN</td>\n    </tr>\n    <tr>\n      <th>Hydraulics</th>\n      <td>2 Valve</td>\n      <td>2 Valve</td>\n      <td>2 Valve</td>\n      <td>2 Valve</td>\n      <td>2 Valve</td>\n    </tr>\n    <tr>\n      <th>Pushblock</th>\n      <td>NaN</td>\n      <td>NaN</td>\n      <td>NaN</td>\n      <td>NaN</td>\n      <td>NaN</td>\n    </tr>\n    <tr>\n      <th>Ripper</th>\n      <td>None or Unspecified</td>\n      <td>NaN</td>\n      <td>None or Unspecified</td>\n      <td>NaN</td>\n      <td>None or Unspecified</td>\n    </tr>\n    <tr>\n      <th>Scarifier</th>\n      <td>NaN</td>\n      <td>NaN</td>\n      <td>NaN</td>\n      <td>NaN</td>\n      <td>NaN</td>\n    </tr>\n    <tr>\n      <th>Tip_Control</th>\n      <td>NaN</td>\n      <td>NaN</td>\n      <td>NaN</td>\n      <td>NaN</td>\n      <td>NaN</td>\n    </tr>\n    <tr>\n      <th>Tire_Size</th>\n      <td>NaN</td>\n      <td>None or Unspecified</td>\n      <td>NaN</td>\n      <td>None or Unspecified</td>\n      <td>NaN</td>\n    </tr>\n    <tr>\n      <th>Coupler</th>\n      <td>NaN</td>\n      <td>None or Unspecified</td>\n      <td>NaN</td>\n      <td>None or Unspecified</td>\n      <td>NaN</td>\n    </tr>\n    <tr>\n      <th>Coupler_System</th>\n      <td>NaN</td>\n      <td>NaN</td>\n      <td>NaN</td>\n      <td>NaN</td>\n      <td>NaN</td>\n    </tr>\n    <tr>\n      <th>Grouser_Tracks</th>\n      <td>NaN</td>\n      <td>NaN</td>\n      <td>NaN</td>\n      <td>NaN</td>\n      <td>NaN</td>\n    </tr>\n    <tr>\n      <th>Hydraulics_Flow</th>\n      <td>NaN</td>\n      <td>NaN</td>\n      <td>NaN</td>\n      <td>NaN</td>\n      <td>NaN</td>\n    </tr>\n    <tr>\n      <th>Track_Type</th>\n      <td>NaN</td>\n      <td>NaN</td>\n      <td>NaN</td>\n      <td>NaN</td>\n      <td>NaN</td>\n    </tr>\n    <tr>\n      <th>Undercarriage_Pad_Width</th>\n      <td>NaN</td>\n      <td>NaN</td>\n      <td>NaN</td>\n      <td>NaN</td>\n      <td>NaN</td>\n    </tr>\n    <tr>\n      <th>Stick_Length</th>\n      <td>NaN</td>\n      <td>NaN</td>\n      <td>NaN</td>\n      <td>NaN</td>\n      <td>NaN</td>\n    </tr>\n    <tr>\n      <th>Thumb</th>\n      <td>NaN</td>\n      <td>NaN</td>\n      <td>NaN</td>\n      <td>NaN</td>\n      <td>NaN</td>\n    </tr>\n    <tr>\n      <th>Pattern_Changer</th>\n      <td>NaN</td>\n      <td>NaN</td>\n      <td>NaN</td>\n      <td>NaN</td>\n      <td>NaN</td>\n    </tr>\n    <tr>\n      <th>Grouser_Type</th>\n      <td>NaN</td>\n      <td>NaN</td>\n      <td>NaN</td>\n      <td>NaN</td>\n      <td>NaN</td>\n    </tr>\n    <tr>\n      <th>Backhoe_Mounting</th>\n      <td>None or Unspecified</td>\n      <td>NaN</td>\n      <td>None or Unspecified</td>\n      <td>NaN</td>\n      <td>None or Unspecified</td>\n    </tr>\n    <tr>\n      <th>Blade_Type</th>\n      <td>Straight</td>\n      <td>NaN</td>\n      <td>Straight</td>\n      <td>NaN</td>\n      <td>PAT</td>\n    </tr>\n    <tr>\n      <th>Travel_Controls</th>\n      <td>None or Unspecified</td>\n      <td>NaN</td>\n      <td>None or Unspecified</td>\n      <td>NaN</td>\n      <td>Lever</td>\n    </tr>\n    <tr>\n      <th>Differential_Type</th>\n      <td>NaN</td>\n      <td>Standard</td>\n      <td>NaN</td>\n      <td>Standard</td>\n      <td>NaN</td>\n    </tr>\n    <tr>\n      <th>Steering_Controls</th>\n      <td>NaN</td>\n      <td>Conventional</td>\n      <td>NaN</td>\n      <td>Conventional</td>\n      <td>NaN</td>\n    </tr>\n    <tr>\n      <th>saleYear</th>\n      <td>1989</td>\n      <td>1989</td>\n      <td>1989</td>\n      <td>1989</td>\n      <td>1989</td>\n    </tr>\n    <tr>\n      <th>saleDay</th>\n      <td>17</td>\n      <td>31</td>\n      <td>31</td>\n      <td>31</td>\n      <td>31</td>\n    </tr>\n    <tr>\n      <th>saleMonth</th>\n      <td>1</td>\n      <td>1</td>\n      <td>1</td>\n      <td>1</td>\n      <td>1</td>\n    </tr>\n    <tr>\n      <th>saleDayOfWeek</th>\n      <td>1</td>\n      <td>1</td>\n      <td>1</td>\n      <td>1</td>\n      <td>1</td>\n    </tr>\n    <tr>\n      <th>saleDayOfYear</th>\n      <td>17</td>\n      <td>31</td>\n      <td>31</td>\n      <td>31</td>\n      <td>31</td>\n    </tr>\n  </tbody>\n</table>\n</div>"
     },
     "execution_count": 45,
     "metadata": {},
     "output_type": "execute_result"
    }
   ],
   "source": [
    "df_tmp.head().T"
   ],
   "metadata": {
    "collapsed": false,
    "pycharm": {
     "name": "#%%\n"
    }
   }
  },
  {
   "cell_type": "markdown",
   "source": [
    "### Fill missing values\n",
    "\n",
    "### Work with numeric types"
   ],
   "metadata": {
    "collapsed": false,
    "pycharm": {
     "name": "#%% md\n"
    }
   }
  },
  {
   "cell_type": "code",
   "execution_count": 125,
   "outputs": [],
   "source": [
    "def print_lc_is_null(label, content, dataframe):\n",
    "    \"\"\"\n",
    "    Function for beautiful label and content printing\n",
    "    \"\"\"\n",
    "    indent = len(max(dataframe.keys().tolist(), key=len))  # Find the longest column name in DataFrame\n",
    "    print(f\"{label:{indent + 1}} : {content.isnull().sum()}\")"
   ],
   "metadata": {
    "collapsed": false,
    "pycharm": {
     "name": "#%%\n"
    }
   }
  },
  {
   "cell_type": "code",
   "execution_count": 121,
   "outputs": [],
   "source": [
    "for label, content in df_tmp.items():\n",
    "    if pd.api.types.is_numeric_dtype(content):\n",
    "        if content.isnull().sum():\n",
    "            print(f\"{label:25} : {content.isnull().sum()}\")"
   ],
   "metadata": {
    "collapsed": false,
    "pycharm": {
     "name": "#%%\n"
    }
   }
  },
  {
   "cell_type": "code",
   "execution_count": 118,
   "outputs": [],
   "source": [
    "# Fill numeric rows with the median\n",
    "for label, content in df_tmp.items():\n",
    "    if pd.api.types.is_numeric_dtype(content):\n",
    "        if content.isnull().sum():\n",
    "            # Add binary column to indicate whether sample had missing value\n",
    "            df_tmp[label + \"_is_missing\"] = pd.isnull(content)\n",
    "            # Fill missing numeric values with median since it's more robust than the mean\n",
    "            df_tmp[label] = content.fillna(content.median())\n"
   ],
   "metadata": {
    "collapsed": false,
    "pycharm": {
     "name": "#%%\n"
    }
   }
  },
  {
   "cell_type": "code",
   "execution_count": 126,
   "outputs": [
    {
     "name": "stdout",
     "output_type": "stream",
     "text": [
      "SalesID                              : 0\n",
      "SalePrice                            : 0\n",
      "MachineID                            : 0\n",
      "ModelID                              : 0\n",
      "datasource                           : 0\n",
      "auctioneerID                         : 0\n",
      "YearMade                             : 0\n",
      "MachineHoursCurrentMeter             : 0\n",
      "saleYear                             : 0\n",
      "saleDay                              : 0\n",
      "saleMonth                            : 0\n",
      "saleDayOfWeek                        : 0\n",
      "saleDayOfYear                        : 0\n",
      "auctioneerID_is_missing              : 0\n",
      "MachineHoursCurrentMeter_is_missing  : 0\n"
     ]
    }
   ],
   "source": [
    "# Check for null numeric values\n",
    "for label, content in df_tmp.items():\n",
    "    if pd.api.types.is_numeric_dtype(content):\n",
    "        print_lc_is_null(label, content, df_tmp)"
   ],
   "metadata": {
    "collapsed": false,
    "pycharm": {
     "name": "#%%\n"
    }
   }
  },
  {
   "cell_type": "code",
   "execution_count": 127,
   "outputs": [
    {
     "data": {
      "text/plain": "False    392562\nTrue      20136\nName: auctioneerID_is_missing, dtype: int64"
     },
     "execution_count": 127,
     "metadata": {},
     "output_type": "execute_result"
    }
   ],
   "source": [
    "# Check to see how many examples were missing\n",
    "df_tmp.auctioneerID_is_missing.value_counts()"
   ],
   "metadata": {
    "collapsed": false,
    "pycharm": {
     "name": "#%%\n"
    }
   }
  },
  {
   "cell_type": "code",
   "execution_count": 138,
   "outputs": [
    {
     "data": {
      "text/plain": "UsageBand                  82.15%\nfiSecondaryDesc            34.10%\nfiModelSeries              85.78%\nfiModelDescriptor          81.87%\nProductSize                52.49%\nDrive_System               74.05%\nEnclosure                   0.08%\nForks                      52.09%\nPad_Type                   80.35%\nRide_Control               62.99%\nStick                      80.35%\nTransmission               54.44%\nTurbocharged               80.35%\nBlade_Extension            93.70%\nBlade_Width                93.70%\nEnclosure_Type             93.70%\nEngine_Horsepower          93.70%\nHydraulics                 20.01%\nPushblock                  93.70%\nRipper                     74.09%\nScarifier                  93.70%\nTip_Control                93.70%\nTire_Size                  76.34%\nCoupler                    46.53%\nCoupler_System             89.10%\nGrouser_Tracks             89.13%\nHydraulics_Flow            89.13%\nTrack_Type                 75.24%\nUndercarriage_Pad_Width    75.06%\nStick_Length               75.22%\nThumb                      75.20%\nPattern_Changer            75.22%\nGrouser_Type               75.24%\nBackhoe_Mounting           80.44%\nBlade_Type                 80.16%\nTravel_Controls            80.16%\nDifferential_Type          82.66%\nSteering_Controls          82.67%\ndtype: object"
     },
     "execution_count": 138,
     "metadata": {},
     "output_type": "execute_result"
    }
   ],
   "source": [
    "check_missing_values(df_tmp)"
   ],
   "metadata": {
    "collapsed": false,
    "pycharm": {
     "name": "#%%\n"
    }
   }
  },
  {
   "cell_type": "markdown",
   "source": [
    "### Work with categorical missing values"
   ],
   "metadata": {
    "collapsed": false,
    "pycharm": {
     "name": "#%% md\n"
    }
   }
  },
  {
   "cell_type": "code",
   "execution_count": 142,
   "outputs": [
    {
     "name": "stdout",
     "output_type": "stream",
     "text": [
      "SalesID                              : 0\n",
      "SalePrice                            : 0\n",
      "MachineID                            : 0\n",
      "ModelID                              : 0\n",
      "datasource                           : 0\n",
      "auctioneerID                         : 0\n",
      "YearMade                             : 0\n",
      "MachineHoursCurrentMeter             : 0\n",
      "UsageBand                            : 0\n",
      "fiModelDesc                          : 0\n",
      "fiBaseModel                          : 0\n",
      "fiSecondaryDesc                      : 0\n",
      "fiModelSeries                        : 0\n",
      "fiModelDescriptor                    : 0\n",
      "ProductSize                          : 0\n",
      "fiProductClassDesc                   : 0\n",
      "state                                : 0\n",
      "ProductGroup                         : 0\n",
      "ProductGroupDesc                     : 0\n",
      "Drive_System                         : 0\n",
      "Enclosure                            : 0\n",
      "Forks                                : 0\n",
      "Pad_Type                             : 0\n",
      "Ride_Control                         : 0\n",
      "Stick                                : 0\n",
      "Transmission                         : 0\n",
      "Turbocharged                         : 0\n",
      "Blade_Extension                      : 0\n",
      "Blade_Width                          : 0\n",
      "Enclosure_Type                       : 0\n",
      "Engine_Horsepower                    : 0\n",
      "Hydraulics                           : 0\n",
      "Pushblock                            : 0\n",
      "Ripper                               : 0\n",
      "Scarifier                            : 0\n",
      "Tip_Control                          : 0\n",
      "Tire_Size                            : 0\n",
      "Coupler                              : 0\n",
      "Coupler_System                       : 0\n",
      "Grouser_Tracks                       : 0\n",
      "Hydraulics_Flow                      : 0\n",
      "Track_Type                           : 0\n",
      "Undercarriage_Pad_Width              : 0\n",
      "Stick_Length                         : 0\n",
      "Thumb                                : 0\n",
      "Pattern_Changer                      : 0\n",
      "Grouser_Type                         : 0\n",
      "Backhoe_Mounting                     : 0\n",
      "Blade_Type                           : 0\n",
      "Travel_Controls                      : 0\n",
      "Differential_Type                    : 0\n",
      "Steering_Controls                    : 0\n",
      "saleYear                             : 0\n",
      "saleDay                              : 0\n",
      "saleMonth                            : 0\n",
      "saleDayOfWeek                        : 0\n",
      "saleDayOfYear                        : 0\n",
      "auctioneerID_is_missing              : 0\n",
      "MachineHoursCurrentMeter_is_missing  : 0\n",
      "UsageBand_is_missing                 : 0\n",
      "fiModelDesc_is_missing               : 0\n",
      "fiBaseModel_is_missing               : 0\n",
      "fiSecondaryDesc_is_missing           : 0\n",
      "fiModelSeries_is_missing             : 0\n",
      "fiModelDescriptor_is_missing         : 0\n",
      "ProductSize_is_missing               : 0\n",
      "fiProductClassDesc_is_missing        : 0\n",
      "state_is_missing                     : 0\n",
      "ProductGroup_is_missing              : 0\n",
      "ProductGroupDesc_is_missing          : 0\n",
      "Drive_System_is_missing              : 0\n",
      "Enclosure_is_missing                 : 0\n",
      "Forks_is_missing                     : 0\n",
      "Pad_Type_is_missing                  : 0\n",
      "Ride_Control_is_missing              : 0\n",
      "Stick_is_missing                     : 0\n",
      "Transmission_is_missing              : 0\n",
      "Turbocharged_is_missing              : 0\n",
      "Blade_Extension_is_missing           : 0\n",
      "Blade_Width_is_missing               : 0\n",
      "Enclosure_Type_is_missing            : 0\n",
      "Engine_Horsepower_is_missing         : 0\n",
      "Hydraulics_is_missing                : 0\n",
      "Pushblock_is_missing                 : 0\n",
      "Ripper_is_missing                    : 0\n",
      "Scarifier_is_missing                 : 0\n",
      "Tip_Control_is_missing               : 0\n",
      "Tire_Size_is_missing                 : 0\n",
      "Coupler_is_missing                   : 0\n",
      "Coupler_System_is_missing            : 0\n",
      "Grouser_Tracks_is_missing            : 0\n",
      "Hydraulics_Flow_is_missing           : 0\n",
      "Track_Type_is_missing                : 0\n",
      "Undercarriage_Pad_Width_is_missing   : 0\n",
      "Stick_Length_is_missing              : 0\n",
      "Thumb_is_missing                     : 0\n",
      "Pattern_Changer_is_missing           : 0\n",
      "Grouser_Type_is_missing              : 0\n",
      "Backhoe_Mounting_is_missing          : 0\n",
      "Blade_Type_is_missing                : 0\n",
      "Travel_Controls_is_missing           : 0\n",
      "Differential_Type_is_missing         : 0\n",
      "Steering_Controls_is_missing         : 0\n"
     ]
    }
   ],
   "source": [
    "# Check for columns which aren't numeric\n",
    "for label, content in df_tmp.items():\n",
    "    if not pd.api.types.is_numeric_dtype(content):\n",
    "        print_lc_is_null(label, content, df_tmp)"
   ],
   "metadata": {
    "collapsed": false,
    "pycharm": {
     "name": "#%%\n"
    }
   }
  },
  {
   "cell_type": "code",
   "execution_count": 140,
   "outputs": [],
   "source": [
    "# Turn categorical variables into numbers\n",
    "for label, content in df_tmp.items():\n",
    "    if not pd.api.types.is_numeric_dtype(content):\n",
    "        # Add binary column to indicate whether sample had missing value\n",
    "        df_tmp[label + \"_is_missing\"] = pd.isnull(content)\n",
    "        # We add the +1 because pandas encodes missing categories as -1\n",
    "        df_tmp[label] = pd.Categorical(content).codes + 1"
   ],
   "metadata": {
    "collapsed": false,
    "pycharm": {
     "name": "#%%\n"
    }
   }
  },
  {
   "cell_type": "code",
   "execution_count": 144,
   "outputs": [
    {
     "name": "stdout",
     "output_type": "stream",
     "text": [
      "SalesID                              : 0\n",
      "SalePrice                            : 0\n",
      "MachineID                            : 0\n",
      "ModelID                              : 0\n",
      "datasource                           : 0\n",
      "auctioneerID                         : 0\n",
      "YearMade                             : 0\n",
      "MachineHoursCurrentMeter             : 0\n",
      "UsageBand                            : 0\n",
      "fiModelDesc                          : 0\n",
      "fiBaseModel                          : 0\n",
      "fiSecondaryDesc                      : 0\n",
      "fiModelSeries                        : 0\n",
      "fiModelDescriptor                    : 0\n",
      "ProductSize                          : 0\n",
      "fiProductClassDesc                   : 0\n",
      "state                                : 0\n",
      "ProductGroup                         : 0\n",
      "ProductGroupDesc                     : 0\n",
      "Drive_System                         : 0\n",
      "Enclosure                            : 0\n",
      "Forks                                : 0\n",
      "Pad_Type                             : 0\n",
      "Ride_Control                         : 0\n",
      "Stick                                : 0\n",
      "Transmission                         : 0\n",
      "Turbocharged                         : 0\n",
      "Blade_Extension                      : 0\n",
      "Blade_Width                          : 0\n",
      "Enclosure_Type                       : 0\n",
      "Engine_Horsepower                    : 0\n",
      "Hydraulics                           : 0\n",
      "Pushblock                            : 0\n",
      "Ripper                               : 0\n",
      "Scarifier                            : 0\n",
      "Tip_Control                          : 0\n",
      "Tire_Size                            : 0\n",
      "Coupler                              : 0\n",
      "Coupler_System                       : 0\n",
      "Grouser_Tracks                       : 0\n",
      "Hydraulics_Flow                      : 0\n",
      "Track_Type                           : 0\n",
      "Undercarriage_Pad_Width              : 0\n",
      "Stick_Length                         : 0\n",
      "Thumb                                : 0\n",
      "Pattern_Changer                      : 0\n",
      "Grouser_Type                         : 0\n",
      "Backhoe_Mounting                     : 0\n",
      "Blade_Type                           : 0\n",
      "Travel_Controls                      : 0\n",
      "Differential_Type                    : 0\n",
      "Steering_Controls                    : 0\n",
      "saleYear                             : 0\n",
      "saleDay                              : 0\n",
      "saleMonth                            : 0\n",
      "saleDayOfWeek                        : 0\n",
      "saleDayOfYear                        : 0\n",
      "auctioneerID_is_missing              : 0\n",
      "MachineHoursCurrentMeter_is_missing  : 0\n",
      "UsageBand_is_missing                 : 0\n",
      "fiModelDesc_is_missing               : 0\n",
      "fiBaseModel_is_missing               : 0\n",
      "fiSecondaryDesc_is_missing           : 0\n",
      "fiModelSeries_is_missing             : 0\n",
      "fiModelDescriptor_is_missing         : 0\n",
      "ProductSize_is_missing               : 0\n",
      "fiProductClassDesc_is_missing        : 0\n",
      "state_is_missing                     : 0\n",
      "ProductGroup_is_missing              : 0\n",
      "ProductGroupDesc_is_missing          : 0\n",
      "Drive_System_is_missing              : 0\n",
      "Enclosure_is_missing                 : 0\n",
      "Forks_is_missing                     : 0\n",
      "Pad_Type_is_missing                  : 0\n",
      "Ride_Control_is_missing              : 0\n",
      "Stick_is_missing                     : 0\n",
      "Transmission_is_missing              : 0\n",
      "Turbocharged_is_missing              : 0\n",
      "Blade_Extension_is_missing           : 0\n",
      "Blade_Width_is_missing               : 0\n",
      "Enclosure_Type_is_missing            : 0\n",
      "Engine_Horsepower_is_missing         : 0\n",
      "Hydraulics_is_missing                : 0\n",
      "Pushblock_is_missing                 : 0\n",
      "Ripper_is_missing                    : 0\n",
      "Scarifier_is_missing                 : 0\n",
      "Tip_Control_is_missing               : 0\n",
      "Tire_Size_is_missing                 : 0\n",
      "Coupler_is_missing                   : 0\n",
      "Coupler_System_is_missing            : 0\n",
      "Grouser_Tracks_is_missing            : 0\n",
      "Hydraulics_Flow_is_missing           : 0\n",
      "Track_Type_is_missing                : 0\n",
      "Undercarriage_Pad_Width_is_missing   : 0\n",
      "Stick_Length_is_missing              : 0\n",
      "Thumb_is_missing                     : 0\n",
      "Pattern_Changer_is_missing           : 0\n",
      "Grouser_Type_is_missing              : 0\n",
      "Backhoe_Mounting_is_missing          : 0\n",
      "Blade_Type_is_missing                : 0\n",
      "Travel_Controls_is_missing           : 0\n",
      "Differential_Type_is_missing         : 0\n",
      "Steering_Controls_is_missing         : 0\n"
     ]
    }
   ],
   "source": [
    "# Check for columns which aren't numeric\n",
    "for label, content in df_tmp.items():\n",
    "    print_lc_is_null(label, content, df_tmp)"
   ],
   "metadata": {
    "collapsed": false,
    "pycharm": {
     "name": "#%%\n"
    }
   }
  },
  {
   "cell_type": "code",
   "execution_count": 143,
   "outputs": [
    {
     "name": "stdout",
     "output_type": "stream",
     "text": [
      "<class 'pandas.core.frame.DataFrame'>\n",
      "RangeIndex: 412698 entries, 0 to 412697\n",
      "Columns: 103 entries, SalesID to Steering_Controls_is_missing\n",
      "dtypes: bool(46), float64(3), int16(4), int64(10), int8(40)\n",
      "memory usage: 77.9 MB\n"
     ]
    }
   ],
   "source": [
    "df_tmp.info()"
   ],
   "metadata": {
    "collapsed": false,
    "pycharm": {
     "name": "#%%\n"
    }
   }
  },
  {
   "cell_type": "code",
   "execution_count": 145,
   "outputs": [
    {
     "data": {
      "text/plain": "SalesID                         0\nSalePrice                       0\nMachineID                       0\nModelID                         0\ndatasource                      0\n                               ..\nBackhoe_Mounting_is_missing     0\nBlade_Type_is_missing           0\nTravel_Controls_is_missing      0\nDifferential_Type_is_missing    0\nSteering_Controls_is_missing    0\nLength: 103, dtype: int64"
     },
     "execution_count": 145,
     "metadata": {},
     "output_type": "execute_result"
    }
   ],
   "source": [
    "df_tmp.isna().sum()"
   ],
   "metadata": {
    "collapsed": false,
    "pycharm": {
     "name": "#%%\n"
    }
   }
  },
  {
   "cell_type": "markdown",
   "source": [
    "\n",
    "\n",
    "Now all of our data is numeric and there are no missing values, we should be able to build a machine learning model!\n",
    "\n",
    "Let's reinstantiate our trusty [RandomForestRegressor](https://scikit-learn.org/stable/modules/generated/sklearn.ensemble.RandomForestRegressor.html).\n",
    "\n",
    "This will take a few minutes which is too long for interacting with it. So what we'll do is create a subset of rows to work with."
   ],
   "metadata": {
    "collapsed": false,
    "pycharm": {
     "name": "#%% md\n"
    }
   }
  },
  {
   "cell_type": "code",
   "execution_count": 146,
   "outputs": [
    {
     "name": "stdout",
     "output_type": "stream",
     "text": [
      "Wall time: 2min 33s\n"
     ]
    },
    {
     "data": {
      "text/plain": "RandomForestRegressor(n_jobs=-1, random_state=42)"
     },
     "execution_count": 146,
     "metadata": {},
     "output_type": "execute_result"
    }
   ],
   "source": [
    "%%time\n",
    "# Instantiate model\n",
    "model = RandomForestRegressor(n_jobs=-1,\n",
    "                              random_state=42)\n",
    "X_train, y_train = df_tmp.drop(\"SalePrice\", axis=1), df_tmp[\"SalePrice\"]\n",
    "model.fit(X_train, y_train)"
   ],
   "metadata": {
    "collapsed": false,
    "pycharm": {
     "name": "#%%\n"
    }
   }
  },
  {
   "cell_type": "code",
   "execution_count": 147,
   "outputs": [
    {
     "data": {
      "text/plain": "0.9875440066186206"
     },
     "execution_count": 147,
     "metadata": {},
     "output_type": "execute_result"
    }
   ],
   "source": [
    "# Score the model\n",
    "X_train, y_train = df_tmp.drop(\"SalePrice\", axis=1), df_tmp[\"SalePrice\"]\n",
    "model.score(X_train, y_train)"
   ],
   "metadata": {
    "collapsed": false,
    "pycharm": {
     "name": "#%%\n"
    }
   }
  },
  {
   "cell_type": "markdown",
   "source": [
    "**Question:** Why is this metric not reliable?\n",
    "\n",
    "According to the [Kaggle data page](https://www.kaggle.com/c/bluebook-for-bulldozers/data), the validation set and test set are split according to dates.\n",
    "\n",
    "This makes sense since we're working on a time series problem.\n",
    "\n",
    "E.g. using past events to try and predict future events.\n",
    "\n",
    "Knowing this, randomly splitting our data into train and test sets using something like `train_test_split()` wouldn't work.\n",
    "\n",
    "Instead, we split our data into training, validation and test sets using the date each sample occured.\n",
    "\n",
    "In our case:\n",
    "* Training = all samples up until 2011\n",
    "* Valid = all samples form January 1, 2012 - April 30, 2012\n",
    "* Test = all samples from May 1, 2012 - November 2012\n",
    "\n",
    "For more on making good training, validation and test sets, check out the post [How (and why) to create a good validation set](https://www.fast.ai/2017/11/13/validation-sets/) by Rachel Thomas."
   ],
   "metadata": {
    "collapsed": false,
    "pycharm": {
     "name": "#%% md\n"
    }
   }
  },
  {
   "cell_type": "code",
   "execution_count": 149,
   "outputs": [
    {
     "data": {
      "text/plain": "((401125, 102), (401125,), (11573, 102), (11573,))"
     },
     "execution_count": 149,
     "metadata": {},
     "output_type": "execute_result"
    }
   ],
   "source": [
    "# Split data into training and validation\n",
    "df_val = df_tmp[df_tmp.saleYear == 2012]\n",
    "df_train = df_tmp[df_tmp.saleYear != 2012]\n",
    "\n",
    "# Split data into X & y\n",
    "X_train, y_train = df_train.drop(\"SalePrice\", axis=1), df_train.SalePrice\n",
    "X_valid, y_valid = df_val.drop(\"SalePrice\", axis=1), df_val.SalePrice\n",
    "\n",
    "X_train.shape, y_train.shape, X_valid.shape, y_valid.shape"
   ],
   "metadata": {
    "collapsed": false,
    "pycharm": {
     "name": "#%%\n"
    }
   }
  },
  {
   "cell_type": "markdown",
   "source": [
    "### Building an evaluation function\n",
    "\n",
    "According to Kaggle for the Bluebook for Bulldozers competition, [the evaluation function](https://www.kaggle.com/c/bluebook-for-bulldozers/overview/evaluation) they use is root mean squared log error (RMSLE).\n",
    "\n",
    "**RMSLE** = generally you don't care as much if you're off by $10 as much as you'd care if you were off by 10%, you care more about ratios rather than differences. **MAE** (mean absolute error) is more about exact differences.\n",
    "\n",
    "It's important to understand the evaluation metric you're going for.\n",
    "\n",
    "Since Scikit-Learn doesn't have a function built-in for RMSLE, we'll create our own.\n",
    "\n",
    "We can do this by taking the square root of Scikit-Learn's [mean_squared_log_error](https://scikit-learn.org/stable/modules/generated/sklearn.metrics.mean_squared_log_error.html#sklearn.metrics.mean_squared_log_error) (MSLE). MSLE is the same as taking the log of mean squared error (MSE).\n",
    "\n",
    "We'll also calculate the MAE and R^2 for fun."
   ],
   "metadata": {
    "collapsed": false,
    "pycharm": {
     "name": "#%% md\n"
    }
   }
  },
  {
   "cell_type": "code",
   "execution_count": 150,
   "outputs": [],
   "source": [
    "# Create evaluation function (RMSLE)\n",
    "from sklearn.metrics import mean_squared_log_error, mean_absolute_error, r2_score\n",
    "\n",
    "def rmsle(y_test, y_preds):\n",
    "    \"\"\"\n",
    "    Calculates root mean squared log error between predictions and\n",
    "    true labels.\n",
    "    \"\"\"\n",
    "    return np.sqrt(mean_squared_log_error(y_test, y_preds))\n",
    "\n",
    "# Create function to evaluate model on a few different levels\n",
    "def show_scores(model):\n",
    "    train_preds = model.predict(X_train)\n",
    "    val_preds = model.predict(X_valid)\n",
    "    scores = {\"Training MAE\": mean_absolute_error(y_train, train_preds),\n",
    "              \"Valid MAE\": mean_absolute_error(y_valid, val_preds),\n",
    "              \"Training RMSLE\": rmsle(y_train, train_preds),\n",
    "              \"Valid RMSLE\": rmsle(y_valid, val_preds),\n",
    "              \"Training R^2\": r2_score(y_train, train_preds),\n",
    "              \"Valid R^2\": r2_score(y_valid, val_preds)}\n",
    "    return scores"
   ],
   "metadata": {
    "collapsed": false,
    "pycharm": {
     "name": "#%%\n"
    }
   }
  },
  {
   "cell_type": "markdown",
   "source": [
    "## Testing our model on a subset (to tune the hyperparameters)"
   ],
   "metadata": {
    "collapsed": false,
    "pycharm": {
     "name": "#%% md\n"
    }
   }
  },
  {
   "cell_type": "code",
   "execution_count": null,
   "outputs": [],
   "source": [],
   "metadata": {
    "collapsed": false,
    "pycharm": {
     "name": "#%%\n"
    }
   }
  }
 ],
 "metadata": {
  "kernelspec": {
   "display_name": "Python 3 (ipykernel)",
   "language": "python",
   "name": "python3"
  },
  "language_info": {
   "codemirror_mode": {
    "name": "ipython",
    "version": 3
   },
   "file_extension": ".py",
   "mimetype": "text/x-python",
   "name": "python",
   "nbconvert_exporter": "python",
   "pygments_lexer": "ipython3",
   "version": "3.9.7"
  }
 },
 "nbformat": 4,
 "nbformat_minor": 5
}